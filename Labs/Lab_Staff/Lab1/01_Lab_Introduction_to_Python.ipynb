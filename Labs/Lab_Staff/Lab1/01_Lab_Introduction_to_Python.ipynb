{
 "cells": [
  {
   "cell_type": "markdown",
   "metadata": {},
   "source": [
    "# Engineering Analytics and Machine Learning Lab 1\n",
    "\n",
    "\n",
    "## for Specialist Diploma in Internet of Things\n",
    "\n",
    "### Author’s Name: Teo Kok Keong\n",
    "\n",
    "### Property of Temasek Polytechnic, Copyright ©.\n",
    "### For circulation within Temasek Polytechnic only.\n",
    "\n",
    "# Introduction to Python\n",
    "\n",
    "\n",
    "Welcome! Are you completely new to programming? If not then we presume you will be looking for information about why and how to get started with Python. Fortunately an experienced programmer in any programming language (whatever it may be) can pick up Python very quickly. It's also easy for beginners to use and learn, so jump in!\n",
    "\n",
    "Python come in version 2 and 3, and they are somewhat compatible but not the same. For this particular workshop, we are going to stay with Python 3.x. \n",
    "\n",
    "First we start with installation\n",
    "\n",
    "The are tons of tutorial or guides online on how to install python, follow this link for an example. Please google for one that suit your need.\n",
    "\n",
    "The official download site for Python is at this [link](https://wiki.python.org/moin/BeginnersGuide/Download)."
   ]
  },
  {
   "cell_type": "markdown",
   "metadata": {},
   "source": [
    "## 1. 1 Run Python\n",
    "\n",
    "You could activate a python shell as describe in the above installation link. Or type \"command\" at the start menu of window to active the command prompt window.\n",
    "\n",
    "\n",
    "![alt text](images/command.jpg)\n",
    "\n",
    "<center>Figure 1. Open command windows</center>\n",
    "\n",
    "\n",
    "\n",
    "Type the command \"python --version\" at the command prompt and press the enter key. The version number of the python you installed would be returned as shown:\n",
    "\n",
    "![alt text](images/command2.jpg)\n",
    "<center>Figure 2. Show version of Python installed</center>\n",
    "\n",
    "Type \"python\" and you would be in python shell and able to execute python command. Below show an example of assigning value to variable a and b. Then print the result of their addition.\n",
    "\n",
    "![alt text](images/command3.jpg)\n",
    "<center>Figure 3. Python interactive shell</center>\n",
    "\n",
    "## 1.2 Installation of pip\n",
    "\n",
    "The PyPA recommended tool for installing Python packages is pip. This really useful for managing and installation python packages.\n",
    "\n",
    "Download [get-pip.py](https://bootstrap.pypa.io/get-pip.py) to a folder on your computer. Open a command prompt window and navigate to the folder containing get-pip.py. Then run python get-pip.py. This will install pip.\n",
    "\n"
   ]
  },
  {
   "cell_type": "markdown",
   "metadata": {},
   "source": [
    "## 1.3 Variables and Assignment\n",
    "\n",
    "\n",
    "Variables are nothing but reserved memory locations to store values. It means that when you create a variable, you reserve some space in the memory.\n",
    "\n",
    "Based on the data type of a variable, the interpreter allocates memory and decides what can be stored in the reserved memory. Therefore, by assigning different data types to the variables, you can store integers, decimals or characters in these variables.\n",
    "\n",
    "Assigning Values to Variables\n",
    "Python variables do not need explicit declaration to reserve memory space. The declaration happens automatically when you assign a value to a variable. The equal sign (=) is used to assign values to variables.\n",
    "\n",
    "The operand to the left of the = operator is the name of the variable and the operand to the right of the = operator is the value stored in the variable. For example −"
   ]
  },
  {
   "cell_type": "markdown",
   "metadata": {},
   "source": [
    "#whatever after # is comment\n",
    "#lets do some simple assignment and value\n",
    "count=10       #assigned integer 10 to a variable name count\n",
    "hello='hello'  #assigned string 'hello' to variable name hello\n",
    "i=1.2          #assigned floating point 1.2 to variable name i\n",
    "\n",
    "print(count)\n",
    "print(hello)\n",
    "print(i)\n",
    "\n",
    "#As you can see there is no need to declare these variables like what we need to do in language such as C/C+="
   ]
  },
  {
   "cell_type": "markdown",
   "metadata": {},
   "source": [
    "We can even do multiple assignment"
   ]
  },
  {
   "cell_type": "code",
   "execution_count": null,
   "metadata": {},
   "outputs": [],
   "source": [
    "a = b = c = 1\n",
    "\n",
    "print(a)\n",
    "print(9)\n",
    "print(c)"
   ]
  },
  {
   "cell_type": "markdown",
   "metadata": {},
   "source": [
    "## 1.4 Number cacluation\n",
    "\n",
    "Lets continue with something simplerr, that is to do common mathematical computation. The  most straightforward operations that come to mind is +,-,.,*%,and etc.\n"
   ]
  },
  {
   "cell_type": "code",
   "execution_count": null,
   "metadata": {},
   "outputs": [],
   "source": [
    "#you could change the number and re-run this cell Lets do some additon and assgin the result to some variable called result\n",
    "\n",
    "#addition\n",
    "result=2+3\n",
    "print(\"The result of the addiotn is {answer}.\".format(answer=result))\n",
    "\n",
    "#substraction\n",
    "result=2-3\n",
    "print(\"The result of the substraction is {answer}.\".format(answer=result))\n",
    "\n",
    "#classic division that return a float\n",
    "result=4/3\n",
    "print(\"The result of the division is {:.3f}.\".format(result))\n",
    "\n",
    "#floor division that return an integer that discard the fractional part\n",
    "result=4//3\n",
    "print(\"The result of the floor division is {answer}.\".format(answer=result))\n",
    "\n",
    "#modulus\n",
    "result=5%3\n",
    "print(\"The result of the modulus is {answer}.\".format(answer=result))\n",
    "\n",
    "#power\n",
    "result=2**3   #2 to the power of 3\n",
    "print(\"The result of the 2 to the power 3 is {answer}.\".format(answer=result))\n",
    "\n",
    "result=2**10   #2 to the power of 10\n",
    "print(\"The result of the 2 to the power 10 is {answer}.\".format(answer=result))\n",
    "\n",
    "#find the square  root of 4\n",
    "import math #import math function\n",
    "result=int(math.sqrt(4))\n",
    "print(\"The result of square root of 4 is {answer}.\".format(answer=result))\n",
    "\n"
   ]
  },
  {
   "cell_type": "markdown",
   "metadata": {},
   "source": [
    "## 1.5 Logical Operations\n",
    "\n",
    "Logical operations are commonly used in flow control and decision. Assume variable a holds 10 and variable b holds 0 then −"
   ]
  },
  {
   "cell_type": "code",
   "execution_count": null,
   "metadata": {},
   "outputs": [],
   "source": [
    "a=10\n",
    "b=0\n",
    "\n",
    "c=a and b \n",
    "print(c)\n",
    "c=a or b\n",
    "print(c)\n",
    "\n",
    "c=not(a or b)\n",
    "print(c)"
   ]
  },
  {
   "cell_type": "markdown",
   "metadata": {},
   "source": [
    "There are lot of mathatical function  available in Python which I would not go through, you could refer to [link](https://www.tutorialspoint.com/python3/python_numbers.htm) for detail."
   ]
  },
  {
   "cell_type": "markdown",
   "metadata": {},
   "source": [
    "## Exercise 1\n",
    "\n",
    "### Exercise 1a\n",
    "\n",
    "Compute the volume of a sphere with different radius, verfiy your result with calculator. You may want to refer to [link](https://www.tutorialspoint.com/python3/python_numbers.htm)  for other mathematical functions available."
   ]
  },
  {
   "cell_type": "code",
   "execution_count": null,
   "metadata": {},
   "outputs": [],
   "source": [
    "#insert your code here for exercise 1a\n",
    "\n",
    "import math\n",
    "\n",
    "\n",
    "\n",
    "\n",
    "\n"
   ]
  },
  {
   "cell_type": "markdown",
   "metadata": {},
   "source": [
    "### Exercise 1b\n",
    "\n",
    "Solve the quadratic equation: ax<sup>2</sup>+bx+c=0 with different value of a,b and c.\n",
    "\n"
   ]
  },
  {
   "cell_type": "code",
   "execution_count": null,
   "metadata": {},
   "outputs": [],
   "source": [
    "#insert your code here for exercise 1b\n",
    "import math #import math package\n",
    "\n",
    "\n"
   ]
  },
  {
   "cell_type": "markdown",
   "metadata": {},
   "source": [
    "# 1.5 Flow Control - If else \n",
    "\n",
    "Decision-making is the anticipation of conditions occurring during the execution of a program and specified actions taken according to the conditions.\n",
    "\n",
    "Decision structures evaluate multiple expressions, which produce TRUE or FALSE as the outcome. You need to determine which action to take and which statements to execute if the outcome is TRUE or FALSE otherwise.\n",
    "\n",
    "Following is the general form of a typical decision making structure found in most of the programming languages −\n",
    "\n",
    "![alt text](images/ifelsechart.png)\n",
    "\n",
    "\n",
    "Python programming language assumes any non-zero and non-null values as TRUE, and any zero or null values as FALSE value.\n",
    "\n",
    "\n"
   ]
  },
  {
   "cell_type": "markdown",
   "metadata": {},
   "source": [
    "## Example of if else\n",
    "\n",
    "python do not use {} for enclosing block of "
   ]
  },
  {
   "cell_type": "code",
   "execution_count": null,
   "metadata": {},
   "outputs": [],
   "source": [
    "# example of a simple if else\n",
    "\n",
    "temp=52\n",
    "\n",
    "if (temp>50):\n",
    "    print(\"great than 50\")\n",
    "else:\n",
    "    print(\"less than 50\")\n",
    "    "
   ]
  },
  {
   "cell_type": "code",
   "execution_count": null,
   "metadata": {},
   "outputs": [],
   "source": [
    "# example of if else with else if\n",
    "\n",
    "temp=20\n",
    "\n",
    "if temp>50:\n",
    "    print(\"great than 50\")\n",
    "elif temp>=30:\n",
    "    print(\"between 50 and 30\")\n",
    "elif temp>=20:\n",
    "    print(\"between 29 and 20\")\n",
    "else:\n",
    "    print(\"less than 19\")\n",
    "\n"
   ]
  },
  {
   "cell_type": "markdown",
   "metadata": {},
   "source": [
    "## Exercise 2\n",
    "\n",
    "Write a program to compute the cost of good after discount according to the table below:\n",
    "    \n",
    "| Cost       | Are           |\n",
    "| -----------|:--------------|\n",
    "| >=1500      | 10%           |\n",
    "| >=1000      | 5%            |    \n",
    "| others     | no discount   |"
   ]
  },
  {
   "cell_type": "code",
   "execution_count": null,
   "metadata": {},
   "outputs": [],
   "source": [
    "#insert code here for exercises 2\n",
    "\n",
    "\n",
    "\n"
   ]
  },
  {
   "cell_type": "markdown",
   "metadata": {},
   "source": [
    "## 1.6 Flow Control - While Loop\n",
    "\n",
    "\n",
    "A while loop statement in Python programming language repeatedly executes a target statement as long as a given condition is true.\n",
    "\n",
    "![alt_text](images/while_loop.jpeg)\n",
    "\n"
   ]
  },
  {
   "cell_type": "code",
   "execution_count": null,
   "metadata": {},
   "outputs": [],
   "source": [
    "#while loop example\n",
    "count = 0\n",
    "while (count < 9):\n",
    "   print ('The count is:', count)\n",
    "   count = count + 1"
   ]
  },
  {
   "cell_type": "code",
   "execution_count": null,
   "metadata": {},
   "outputs": [],
   "source": [
    "#while loop with else example\n",
    "count = 0\n",
    "while (count < 9):\n",
    "   print ('The count is:', count)\n",
    "   count = count + 1\n",
    "else:\n",
    "    print(\"ended\")"
   ]
  },
  {
   "cell_type": "markdown",
   "metadata": {},
   "source": [
    "## Exercise 3\n",
    "\n",
    "In mathematics, an arithmetic progression (AP) or arithmetic sequence is a sequence of numbers such that the difference between the consecutive terms is constant. For instance, the sequence 5, 7, 9, 11, 13, 15, . . . is an arithmetic progression with common difference of 2.\n",
    "\n",
    "Write a program that print a sequence of AP number with parameters such as start value, common difference and number of instances. Also print the sum of the sequence. Please use while loop."
   ]
  },
  {
   "cell_type": "code",
   "execution_count": null,
   "metadata": {},
   "outputs": [],
   "source": [
    "#exercise 3\n",
    "#insert code here\n",
    "\n",
    "\n",
    "\n"
   ]
  },
  {
   "cell_type": "markdown",
   "metadata": {},
   "source": [
    "# 1.7 String Operation\n",
    "\n",
    "Strings are amongst the most popular types in Python. We can create them simply by enclosing characters in quotes. Python treats single quotes the same as double quotes. Creating strings is as simple as assigning a value to a variable. Lets look at next cell of codes to see how we initialize and access string.\n"
   ]
  },
  {
   "cell_type": "code",
   "execution_count": null,
   "metadata": {},
   "outputs": [],
   "source": [
    "#string operation\n",
    "\n",
    "str1='hello world'   #initialization of string\n",
    "str2='I love Python!' #initialization of string\n",
    "str3=''   #initialize an empty string to be used later\n",
    "\n",
    "#lets try to access individual element of the string \n",
    "\n",
    "print('Index element 0 of str1 is',str1[0])   #expect to see 'h', note that python string is 0 based just like c/c++\n",
    "print('Index element 2 of str2 is',str2[2])   #expect to see 'l'\n",
    "print('Index element -1 of str1 is',str1[-1]) #access by negative number which is backward, the last character is index as -1\n",
    "print('Index element -7 of str2 is',str2[-7]) \n",
    "#replace first element of str1 with 'a'. note that we cannot update individual element as python strings are are immutable \n",
    "str1=str1[:1]+'a'+str1[2:]                  \n",
    "print('The updated content of str1 is {:s}'.format(str1))\n",
    "\n"
   ]
  },
  {
   "cell_type": "markdown",
   "metadata": {},
   "source": [
    "## String slicing\n",
    "\n",
    "We can also call out a range of characters from the string. Say we would like to just print the word Python from the str2. We can do so by creating a slice, which is a sequence of characters within an original string. With slices, we can call multiple character values by creating a range of index numbers separated by a colon [x:y]:\n",
    "\n",
    "When constructing a slice, as in [x:y], the first index number is where the slice starts (inclusive), and the second index number is where the slice ends (exclusive), which is why in our example above the range has to be the index number that would occur just after the string ends."
   ]
  },
  {
   "cell_type": "code",
   "execution_count": null,
   "metadata": {},
   "outputs": [],
   "source": [
    "#string slicing operation examples\n",
    "\n",
    "print('slice from element 0 (inclusive) to 5(exclusive) is',str1[0:5]) #expect to see 'hello'\n",
    "print('slice from element 7 (inclusive) to 13(exclusive) is',str2[7:13]) #expect to see Python\n",
    "\n",
    "#the same effect can be achieved by including on more parameter which is the stride\n",
    "print('slice from element 0 (inclusive) to 13(exclusive) with stride=1 is',str2[7:13:1]) \n",
    "#slice from element 7 to 13 with stride=2 where an element would be skip\n",
    "print('slice from element 7 (inclusive) to 13(exclusive) with stride=2 is',str2[7:13:2]) \n"
   ]
  },
  {
   "cell_type": "markdown",
   "metadata": {},
   "source": [
    "## String properties \n",
    "\n",
    "There are also functions/operations available for us to know properties such as length of the string, index of occurance of certain characters and etc."
   ]
  },
  {
   "cell_type": "code",
   "execution_count": null,
   "metadata": {},
   "outputs": [],
   "source": [
    "# more examples on  operation on string\n",
    "\n",
    "print('Length of str1 is',len(str1))    #to find the length of the str1\n",
    "print('Length of str2 is',len(str2))    #to find the length of str2\n",
    "print('Length of str3 is',len(str3))    #to find he length of str3\n",
    "print('The number of o in str1 is',str1.count('o'))   #count the number of 'o' in str1\n",
    "print('The number of o in str2 is',str2.count('o'))   #cound the number of 'o' in str2\n",
    "#find the first occurance of a specify character in the string\n",
    "print('The first occurance of w at str1 is at index:',str1.find('w'))"
   ]
  },
  {
   "cell_type": "markdown",
   "metadata": {},
   "source": [
    "## String Concatenation\n",
    "\n",
    "One common task you’ll need to accomplish with any language involves merging or combining strings. This process is referred to as concatenation.\n",
    "\n",
    "The best way to describe it is when you take two separate strings – stored by the interpreter – and merge them so that they become one.\n",
    "\n",
    "For instance, one string would be “hello” and the other would be “world.” When you use concatenation to combine them it becomes one string, or “hello world”."
   ]
  },
  {
   "cell_type": "code",
   "execution_count": null,
   "metadata": {},
   "outputs": [],
   "source": [
    "#To concatenate two string\n",
    "\n",
    "h='hello'\n",
    "w='world'\n",
    "\n",
    "result=h+' '+w+'!'\n",
    "print(result)"
   ]
  },
  {
   "cell_type": "markdown",
   "metadata": {},
   "source": [
    "## Exercise 4\n",
    "\n",
    "\"Good Night, Good night! Parting is such ----- sorrow, that I shall say good night till it be morrow.\"\n",
    "\n",
    "Above is a famous quote from   Juliet (Act II, Scene 2)\n",
    "\n",
    "where the word 'sweet' is replace  by -----\n",
    "\n",
    "Write a short code to put the word 'sweet' in the position of -----"
   ]
  },
  {
   "cell_type": "code",
   "execution_count": null,
   "metadata": {},
   "outputs": [],
   "source": [
    "#insert your code here for exercise 4\n",
    "\n"
   ]
  },
  {
   "cell_type": "markdown",
   "metadata": {},
   "source": [
    "# 1.8 Flow Control - For Loop\n",
    "\n",
    "The for statement in Python has the ability to iterate over the items of any sequence, such as a list or a string.\n",
    "\n",
    "Syntax\n",
    "for iterating_var in sequence:\n",
    "   statements(s)\n",
    "   \n",
    "If a sequence contains an expression list, it is evaluated first. Then, the first item in the sequence is assigned to the iterating variable iterating_var. Next, the statements block is executed. Each item in the list is assigned to iterating_var, and the statement(s) block is executed until the entire sequence is exhausted.\n",
    "\n",
    "\n",
    "![alt_text](images/python_for_loop.jpg)\n",
    "\n"
   ]
  },
  {
   "cell_type": "code",
   "execution_count": null,
   "metadata": {},
   "outputs": [],
   "source": [
    "#The built-in function range() is the right function to iterate over a sequence of numbers. \n",
    "#It generates an iterator of arithmetic progressions.\n",
    "\n",
    "range(0, 10) \n",
    "\n",
    "list(range(0,10)) #to generate a list start from 0 and 10 numbers\n"
   ]
  },
  {
   "cell_type": "markdown",
   "metadata": {},
   "source": [
    "A simple for loop implmentation with range"
   ]
  },
  {
   "cell_type": "code",
   "execution_count": null,
   "metadata": {},
   "outputs": [],
   "source": [
    " for par in list(range(10)): #to loop from 0 to 9\n",
    "   print (par)"
   ]
  },
  {
   "cell_type": "code",
   "execution_count": null,
   "metadata": {},
   "outputs": [],
   "source": [
    "#another examples of for loop\n",
    "\n",
    "for letter in 'Python':     # traversal of a string sequence\n",
    "   print ('Current Letter :', letter)\n",
    "print()\n",
    "fruits = ['banana', 'apple',  'mango']\n",
    "for fruit in fruits:        # traversal of List sequence\n",
    "   print ('Current fruit :', fruit)\n",
    "\n"
   ]
  },
  {
   "cell_type": "markdown",
   "metadata": {},
   "source": [
    "An alternative way of iterating through each item is by index offset into the sequence itself. Following is a simple example −\n",
    "\n"
   ]
  },
  {
   "cell_type": "code",
   "execution_count": null,
   "metadata": {},
   "outputs": [],
   "source": [
    "words='Python'\n",
    "for index in range(len(words)):     # traversal of a string sequence\n",
    "   print ('Current Letter :', words[index])\n",
    "print()\n",
    "\n",
    "fruits = ['banana', 'apple',  'mango']\n",
    "for index in range(len(fruits)):\n",
    "   print ('Current fruit :', fruits[index])"
   ]
  },
  {
   "cell_type": "markdown",
   "metadata": {},
   "source": [
    "## Exercise 5\n",
    "\n",
    "Reverse the string variable buff. eg. if buff contact 'how', it become 'woh'."
   ]
  },
  {
   "cell_type": "code",
   "execution_count": null,
   "metadata": {},
   "outputs": [],
   "source": [
    "#insert your code here for exercise 5\n",
    "\n",
    "\n",
    "\n"
   ]
  },
  {
   "cell_type": "markdown",
   "metadata": {},
   "source": [
    "# 1.9 Function\n",
    "\n",
    "Just like any languages such as C/C++, Python allowed programmer to group statement into reusable function moduels. A function is a block of organized, reusable code that is used to perform a single, related action. Functions provide better modularity for your application and a high degree of code reusing.\n",
    "\n",
    "As you already know, Python gives you many built-in functions like print(), etc. but you can also create your own functions. These functions are called user-defined functions.\n",
    "\n",
    "## Defining a Function\n",
    "\n",
    "You can define functions to provide the required functionality. Here are simple rules to define a function in Python.\n",
    "\n",
    "Function blocks begin with the keyword def followed by the function name and parentheses ( ( ) ).\n",
    "\n",
    "Any input parameters or arguments should be placed within these parentheses. You can also define parameters inside these parentheses.\n",
    "\n",
    "The first statement of a function can be an optional statement - the documentation string of the function or docstring.\n",
    "\n",
    "The code block within every function starts with a colon (:) and is indented.\n",
    "\n",
    "The statement return [expression] exits a function, optionally passing back an expression to the caller. A return statement with no arguments is the same as return None.\n",
    "\n",
    "The syntax is as below:\n",
    "\n",
    "```python\n",
    "def functionname( parameters ):\n",
    "   \"function_docstring\"\n",
    "   function_suite\n",
    "   return [expression]\n",
    "```\n",
    "   "
   ]
  },
  {
   "cell_type": "code",
   "execution_count": null,
   "metadata": {},
   "outputs": [],
   "source": [
    "#example of a function that print a number pass to it\n",
    "\n",
    "def printnum(num):\n",
    "    \"print number pass to function\"\n",
    "    print('Number passed is',num)\n",
    "    return\n",
    "#now we can call the function\n",
    "\n",
    "printnum(10)\n",
    "printnum(20)"
   ]
  },
  {
   "cell_type": "markdown",
   "metadata": {},
   "source": [
    "## Pass by reference and value?\n",
    "\n",
    "The most common evaluation strategy when passing arguments to a function has been call by value and call by reference:\n",
    "\n",
    "### Call by Value \n",
    "The most common strategy is the call-by-value evaluation, sometimes also called pass-by-value. This strategy is used in C and C++, for example. In call-by-value, the argument expression is evaluated, and the result of this evaluation is bound to the corresponding variable in the function. So, if the expression is a variable, a local copy of its value will be used, i.e. the variable in the caller's scope will be unchanged when the function returns.\n",
    "\n",
    "### Call by Reference\n",
    "In call-by-reference evaluation, which is also known as pass-by-reference, a function gets an implicit reference to the argument, rather than a copy of its value. As a consequence, the function can modify the argument, i.e. the value of the variable in the caller's scope can be changed. The advantage of call-by-reference consists in the advantage of greater time- and space-efficiency, because arguments do not need to be copied. On the other hand this harbours the disadvantage that variables can be \"accidentally\" changed in a function call. So special care has to be taken to \"protect\" the values, which shouldn't be changed. \n",
    "\n",
    "Many programming language support call-by-reference, like C or C++, but Perl uses it as default.\n",
    "\n",
    "Python is neither of them. Python initially behaves like call-by-reference, but as soon as we are changing the value of such a variable, Python \"switches\" to call-by-value if the variable is an immutable object.\n",
    "\n",
    "A mutable object exhibits time-varying behavior. Changes to a mutable object are visible through all names bound to it. Python's lists are an example of mutable objects. An immutable object does not exhibit time-varying behavior. \n",
    "\n",
    "In the example below, we used the id() function, which takes an object as a parameter. id(obj) returns the \"identity\" of the object \"obj\". This identity, the return value of the function, is an integer which is unique and constant for this object during its lifetime. Two different objects with non-overlapping lifetimes may have the same id() value.\n"
   ]
  },
  {
   "cell_type": "code",
   "execution_count": null,
   "metadata": {},
   "outputs": [],
   "source": [
    "#example of the pass an immutable object that would modified in the function\n",
    "\n",
    "def printnum(str1):\n",
    "    \"print number pass to function\"\n",
    "    print('id of object before modification',id(str1))\n",
    "    str1='how'\n",
    "    print('id of object after modication',id(str1))\n",
    "    print('The value inside the function',str1)\n",
    "    return\n",
    "#now we can call the function\n",
    "n='yes'\n",
    "print('id of variable to be pass',id(n))\n",
    "print('The  value of n before passing to the function',n)\n",
    "printnum(n)\n",
    "print('The value of n after passing to the function',n)\n",
    "\n",
    "\n",
    "\n"
   ]
  },
  {
   "cell_type": "markdown",
   "metadata": {},
   "source": [
    "Example below show the behavior of a mutable object "
   ]
  },
  {
   "cell_type": "code",
   "execution_count": null,
   "metadata": {},
   "outputs": [],
   "source": [
    "#exmaple of passing a immutable object\n",
    "\n",
    "def printnum(num):\n",
    "    \"print number pass to function\"\n",
    "    print('id of object before modification',id(num))\n",
    "    num=10\n",
    "    print('id of object after modication',id(num))\n",
    "    print('The value inside the function',num)\n",
    "    return\n",
    "#now we can call the function\n",
    "n=1\n",
    "print('id of variable to be pass',id(n))\n",
    "print('The  value of n before passing to the function',n)\n",
    "printnum(n)\n",
    "print('The value of n after passing to the function is',n)\n"
   ]
  },
  {
   "cell_type": "code",
   "execution_count": null,
   "metadata": {},
   "outputs": [],
   "source": [
    "#exmaple of passing a mutable object\n",
    "num=[1,2,3]\n",
    "def printnum(num):\n",
    "    \"print number pass to function\"\n",
    "    print('id of object before modification',id(num))\n",
    "    num[1]=10\n",
    "    print('id of object after modication',id(num))\n",
    "    print('The value inside the function',num)\n",
    "    return\n",
    "#now we can call the function\n",
    "\n",
    "print('id of variable to be pass',id(num))\n",
    "print('The  value of n before passing to the function',num)\n",
    "printnum(num)\n",
    "print('The value of n after passing to the function is',num)\n"
   ]
  },
  {
   "cell_type": "markdown",
   "metadata": {},
   "source": [
    "## Function Arguments\n",
    "\n",
    "You can call a function by using the following types of formal arguments −\n",
    "\n",
    "* Required arguments\n",
    "* Keyword arguments\n",
    "* Default arguments\n",
    "* Variable-length arguments\n",
    "\n",
    "### Required Arguments\n",
    "\n",
    "Required arguments are the arguments passed to a function in correct positional order. Here, the number of arguments in the function call should match exactly with the function definition."
   ]
  },
  {
   "cell_type": "code",
   "execution_count": null,
   "metadata": {},
   "outputs": [],
   "source": [
    "#required arguments\n",
    "\n",
    "def printstr(str1,str2):\n",
    "    \"print the two string as one\"\n",
    "    print(str1+str2)\n",
    "\n",
    "printstr()    #error would be report if we call the function printstr without passing any parameter\n"
   ]
  },
  {
   "cell_type": "code",
   "execution_count": null,
   "metadata": {},
   "outputs": [],
   "source": [
    "#required arguments\n",
    "\n",
    "def printstr(str1,str2):\n",
    "    \"print the two string as one\"\n",
    "    print(str1+str2)\n",
    "\n",
    "printstr('hello','world')    #when the required arguments are supplied no error would be reported"
   ]
  },
  {
   "cell_type": "markdown",
   "metadata": {},
   "source": [
    "### Keyword Arguments\n",
    "\n",
    "Keyword arguments are related to the function calls. When you use keyword arguments in a function call, the caller identifies the arguments by the parameter name.\n",
    "\n",
    "This allows you to skip arguments or place them out of order because the Python interpreter is able to use the keywords provided to match the values with parameters."
   ]
  },
  {
   "cell_type": "code",
   "execution_count": null,
   "metadata": {},
   "outputs": [],
   "source": [
    "# Function definition is here\n",
    "def printdata( name, age ):\n",
    "   \"This prints a passed info into this function\"\n",
    "   print (\"Name: \", name)\n",
    "   print (\"Age \", age)\n",
    "   return\n",
    "\n",
    "# Now you can call printinfo function\n",
    "printdata( age = 8, name = \"mini\" )  #with keywrod, the order doesnt matter anymore"
   ]
  },
  {
   "cell_type": "markdown",
   "metadata": {},
   "source": [
    "### Default Arguments\n",
    "\n",
    "A default argument is an argument that assumes a default value if a value is not provided in the function call for that argument. The following example gives an idea on default arguments, it prints default age if it is not passed"
   ]
  },
  {
   "cell_type": "code",
   "execution_count": null,
   "metadata": {},
   "outputs": [],
   "source": [
    "# Function definition is here\n",
    "def printdata( name, age=5 ):\n",
    "   \"This prints a passed info into this function\"\n",
    "   print (\"Name: \", name)\n",
    "   print (\"Age \", age)\n",
    "   return\n",
    "\n",
    "# Now you can call printinfo function\n",
    "printdata( name = \"mini\" )  #age value is not passed\n",
    "printdata(name='notmini',age=10)"
   ]
  },
  {
   "cell_type": "markdown",
   "metadata": {},
   "source": [
    "### Return Statement\n",
    "The statement return [expression] exits a function, optionally passing back an expression to the caller. A return statement with no arguments is the same as return None.\n",
    "\n",
    "All the examples given below are not returning any value. You can return a value from a function as follows −"
   ]
  },
  {
   "cell_type": "code",
   "execution_count": null,
   "metadata": {},
   "outputs": [],
   "source": [
    "# Function definition is here\n",
    "def sumnsub( n1, n2 ):\n",
    "    # Add and sub both the parameters and return them.\"\n",
    "    total =n1 + n2\n",
    "    r=n1-n2\n",
    "    print (\"Total inside the function : \", total)\n",
    "    print(\"R inside the function: \",r)\n",
    "    return total,r\n",
    "\n",
    "# Now you can call the function\n",
    "total, r  = sumnsub( 30, 20 )\n",
    "print (\"Total outside the function : \", total )\n",
    "print(\"R outside the function: \",r)"
   ]
  },
  {
   "cell_type": "markdown",
   "metadata": {},
   "source": [
    "It might seem as if Python function can return multiple values (which it did in a certain way). Lets  take a look at the function shown below that only return whatever are passed to the funciton foo:"
   ]
  },
  {
   "cell_type": "code",
   "execution_count": null,
   "metadata": {},
   "outputs": [],
   "source": [
    "def foo(a, b):\n",
    "    return a,b \n",
    "\n",
    "w=foo(2,5)\n",
    "print(w) \n"
   ]
  },
  {
   "cell_type": "markdown",
   "metadata": {},
   "source": [
    "You will see that the return values of a and b are return as tuples ( we will cover later). Let see what happen when we provide two variable to contain the return value. If you run the code below, you would realized that the tuples are wrap into w and x and become two seperate vraiable.\n"
   ]
  },
  {
   "cell_type": "code",
   "execution_count": null,
   "metadata": {},
   "outputs": [],
   "source": [
    "def foo(a, b):\n",
    "    return a,b \n",
    "\n",
    "w,x=foo(2,5)\n",
    "print(w) \n",
    "print(x)\n"
   ]
  },
  {
   "cell_type": "markdown",
   "metadata": {},
   "source": [
    "##  Exerise 6\n",
    "\n",
    "A Geometric series is a series with a constant ratio between successive terms. The first term of the series is denoted by a and common ratio is denoted by r. The series looks like this :- a, ar, ar2, ar3, ar4, . . .. The task is write a function to find the sum of such a series."
   ]
  },
  {
   "cell_type": "code",
   "execution_count": null,
   "metadata": {},
   "outputs": [],
   "source": [
    "from test import sum_gp_test\n",
    "#function defintion here\n",
    "def sum_gp(a,r,n):\n",
    "    #start your code here\n",
    "  \n",
    "\n",
    "     \n",
    "    return sum\n",
    "\n",
    "\n",
    "#test code do not change \n",
    "\n",
    "if(sum_gp(1,2,10)==sum_gp_test(1,2,10)):\n",
    "    print(\"Pass test 1\")\n",
    "else:\n",
    "    print(\"faiil test 1\")\n",
    "if(sum_gp(10,0.5,20)==sum_gp_test(10,0.5,20)):\n",
    "    print(\"Pass Test 2\")\n",
    "else:\n",
    "    print(\"Fail test 2\")\n",
    "if(sum_gp(0.5,3,10)==sum_gp_test(0.5,3,10)):\n",
    "    print(\"Pass Test 3\")\n",
    "else:\n",
    "    print(\"Fail test 3\")\n",
    "if(sum_gp(1,0.5,10)==sum_gp_test(1,0.5,10)):\n",
    "    print(\"Pass Test 4\")\n",
    "else:\n",
    "    print(\"Fail test 4\")\n"
   ]
  }
 ],
 "metadata": {
  "kernelspec": {
   "display_name": "Python 3",
   "language": "python",
   "name": "python3"
  },
  "language_info": {
   "codemirror_mode": {
    "name": "ipython",
    "version": 3
   },
   "file_extension": ".py",
   "mimetype": "text/x-python",
   "name": "python",
   "nbconvert_exporter": "python",
   "pygments_lexer": "ipython3",
   "version": "3.5.3"
  }
 },
 "nbformat": 4,
 "nbformat_minor": 2
}
