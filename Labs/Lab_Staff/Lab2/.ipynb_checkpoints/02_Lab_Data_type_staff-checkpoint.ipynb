{
 "cells": [
  {
   "cell_type": "markdown",
   "metadata": {},
   "source": [
    "# Engineering Analytics and Machine Learning Lab 2\n",
    "## for Specialist Diploma in Internet of Things\n",
    "\n",
    "### Author’s Name: Teo Kok Keong\n",
    "\n",
    "### Property of Temasek Polytechnic, Copyright ©.\n",
    "### For circulation within Temasek Polytechnic only.\n",
    "\n",
    "\n",
    "\n",
    "# Python Data structure, Numpy and Panda\n",
    "\n",
    "\n",
    "The most basic data structure in Python is the sequence. Each element of a sequence is assigned a number - its position or index. The first index is zero, the second index is one, and so forth.\n",
    "\n",
    "Python has six built-in types of sequences, but the most common ones are lists and tuples, which we would see in this tutorial.\n",
    "\n",
    "There are certain things you can do with all the sequence types. These operations include indexing, slicing, adding, multiplying, and checking for membership. In addition, Python has built-in functions for finding the length of a sequence and for finding its largest and smallest elements."
   ]
  },
  {
   "cell_type": "markdown",
   "metadata": {},
   "source": [
    "## 1 Python Lists\n",
    "\n",
    "The list is the most versatile datatype available in Python, which can be written as a list of comma-separated values (items) between square brackets. Important thing about a list is that the items in a list need not be of the same type.\n",
    "\n",
    "Creating a list is as simple as putting different comma-separated values between square brackets. "
   ]
  },
  {
   "cell_type": "code",
   "execution_count": 1,
   "metadata": {},
   "outputs": [
    {
     "name": "stdout",
     "output_type": "stream",
     "text": [
      "['hello', 'world', 'myfriend']\n",
      "[1, 2, 3, 4, 5, 6]\n",
      "['a', 'b', 'c', 'd']\n"
     ]
    }
   ],
   "source": [
    "#list creation\n",
    "\n",
    "list1=[\"hello\",\"world\",\"myfriend\"]\n",
    "list2=[1,2,3,4,5,6]\n",
    "list3=[\"a\",\"b\",\"c\",\"d\"]\n",
    "\n",
    "print(list1)\n",
    "print(list2)\n",
    "print(list3)\n",
    "\n"
   ]
  },
  {
   "cell_type": "markdown",
   "metadata": {},
   "source": [
    "## 2 Accessing values in List\n",
    "\n",
    "To access values in lists, use the square brackets for slicing along with the index or indices to obtain value available at that index. Please note that the index of list start from 0.\n"
   ]
  },
  {
   "cell_type": "code",
   "execution_count": 2,
   "metadata": {},
   "outputs": [
    {
     "name": "stdout",
     "output_type": "stream",
     "text": [
      "hello\n",
      "4\n",
      "c\n"
     ]
    }
   ],
   "source": [
    "#examples of access values in list\n",
    "print(list1[0])\n",
    "print(list2[3])\n",
    "print(list3[2])\n"
   ]
  },
  {
   "cell_type": "code",
   "execution_count": 3,
   "metadata": {},
   "outputs": [
    {
     "name": "stdout",
     "output_type": "stream",
     "text": [
      "['how', 'world', 'myfriend']\n",
      "[1, 2, 3, 10, 5, 6]\n",
      "['a', 'b', 'z', 'd']\n"
     ]
    }
   ],
   "source": [
    "#example to update the value of a particular element in the list\n",
    "\n",
    "list1[0]='how'\n",
    "list2[3]=10\n",
    "list3[2]='z'\n",
    "\n",
    "#print the  content of the three  lists\n",
    "#take note of respective element been updated\n",
    "\n",
    "print(list1)\n",
    "print(list2)\n",
    "print(list3)\n"
   ]
  },
  {
   "cell_type": "code",
   "execution_count": 4,
   "metadata": {},
   "outputs": [
    {
     "name": "stdout",
     "output_type": "stream",
     "text": [
      "list content before delete [2, 3, 4, 5, 6, 7]\n",
      "list content after delete [2, 4, 5, 6, 7]\n"
     ]
    }
   ],
   "source": [
    "#example of deleting element in a list\n",
    "\n",
    "list4=[2,3,4,5,6,7]\n",
    "print(\"list content before delete\",list4)\n",
    "del list4[1]\n",
    "print(\"list content after delete\",list4)"
   ]
  },
  {
   "cell_type": "markdown",
   "metadata": {},
   "source": [
    "## 3 Basic List  Operation\n",
    "\n",
    "Lists respond to the + and * operators much like strings; they mean concatenation and repetition here too, except that the result is a new list, not a string.\n",
    "\n",
    "In fact, lists respond to all of the general sequence operations we used on strings in the prior chapter."
   ]
  },
  {
   "cell_type": "code",
   "execution_count": 12,
   "metadata": {},
   "outputs": [
    {
     "name": "stdout",
     "output_type": "stream",
     "text": [
      "The lenght of the list is 6\n",
      "We could performation Concatenation of two lists with result [2, 3, 4, 5, 6, 7, 12, 13, 14]\n",
      "Reptition by * operator,result of list4*3 is  [2, 3, 4, 5, 6, 7, 2, 3, 4, 5, 6, 7, 2, 3, 4, 5, 6, 7]\n",
      "We could find whether a particular value is an member of a list by. Example if 3 is in list4 is  True\n",
      "We could find whether a particular value is an member of a list by. Example if 3 is in list5 is  False\n",
      "2 3 4 5 6 7 "
     ]
    }
   ],
   "source": [
    "#example of operation for List\n",
    "\n",
    "list4=[2,3,4,5,6,7]\n",
    "list5=[12,13,14]\n",
    "\n",
    "print(\"The lenght of the list is\",len(list4))\n",
    "print(\"We could performation Concatenation of two lists with result\",list4+list5)\n",
    "print(\"Reptition by * operator,result of list4*3 is \",list4*3)\n",
    "print(\"We could find whether a particular value is an member of a list by. Example if 3 is in list4 is \",2 in list4)\n",
    "print(\"We could find whether a particular value is an member of a list by. Example if 3 is in list5 is \",2 in list5)\n",
    "\n",
    "#iteration can be done by\n",
    "\n",
    "for x in list4 : print (x,end = ' ')  # print for every value in list4 with a space at the end\n",
    "\n"
   ]
  },
  {
   "cell_type": "code",
   "execution_count": 19,
   "metadata": {},
   "outputs": [
    {
     "name": "stdout",
     "output_type": "stream",
     "text": [
      "This\n",
      "Python\n",
      "['This', 'is']\n",
      "['is', 'Python']\n",
      "3\n",
      "14\n",
      "12\n"
     ]
    }
   ],
   "source": [
    "#slicing and other function which is similar to string\n",
    "\n",
    "list6=['This','is','Python']\n",
    "\n",
    "print(list6[0])   #zero based\n",
    "print(list6[-1])  #count from behind\n",
    "print(list6[:2])  #slicing from start to index 2 (exclude)\n",
    "print(list6[1:3]) #slicing from index 1 (inclusive) to 3 (exclusive)\n",
    "print(len(list6)) #lenght of list6\n",
    "print(max(list5)) #max value of list5\n",
    "print(min(list5)) #min value of list5\n",
    "\n",
    "\n",
    "\n"
   ]
  },
  {
   "cell_type": "markdown",
   "metadata": {},
   "source": [
    "## Exercise 1\n",
    "\n",
    "Write a function to compute the mean and standard deviation of a given list of number.\n",
    "\n"
   ]
  },
  {
   "cell_type": "code",
   "execution_count": 52,
   "metadata": {},
   "outputs": [
    {
     "name": "stdout",
     "output_type": "stream",
     "text": [
      "(5.5, 3.0276503540974917)\n",
      "Passed, correct answer\n"
     ]
    }
   ],
   "source": [
    "def com_value(inlist):\n",
    "    #your code start here\n",
    "    mean=sum(inlist)/len(inlist)\n",
    "    std=0.0\n",
    "    for x in inlist:\n",
    "        std=(x-mean)**2+std\n",
    "    std=math.sqrt(std/(len(inlist)-1))\n",
    "   \n",
    "    return mean,std\n",
    "    #end here\n",
    "    \n",
    "#test code, do not change anything here\n",
    "test1=[1.0,2.0,3.0,4.0,5.0,6.0,7.0,8.0,9.0,10.0]\n",
    "ans=com_value(test1)\n",
    "print(ans)\n",
    "if(ans[0]==5.5 and ans[1]==3.0276503540974917):\n",
    "    print(\"Passed, correct answer\")\n",
    "else:\n",
    "    print(\"Wrong, try harder\")\n",
    "\n",
    "\n",
    "\n"
   ]
  },
  {
   "cell_type": "markdown",
   "metadata": {},
   "source": [
    "## 4 List methods \n",
    "\n",
    "Below are a few commonly used Python list methods that are useful."
   ]
  },
  {
   "cell_type": "code",
   "execution_count": 65,
   "metadata": {},
   "outputs": [
    {
     "name": "stdout",
     "output_type": "stream",
     "text": [
      "Ojbect like is appended to the end of list7 reuslt in:  ['I', 'Love', 'Python', 'like']\n",
      "Append object mad in list7, result:  ['I', 'Love', 'Python', 'like', 'mad']\n",
      "The number of count mad occour in list 7 is:  1\n",
      "The lowest index of mad appear in list7 is:  4\n",
      "list with number from 0 to 5 [0, 1, 2, 3, 4, 5]\n",
      "Extended list7 contain:  ['I', 'Love', 'Python', 'like', 'mad', 0, 1, 2, 3, 4, 5]\n",
      "Content of list7 after Object hate is added:  ['I', 'hate', 'Love', 'Python', 'like', 'mad', 0, 1, 2, 3, 4, 5]\n",
      "Remove the oject Love from list7:  ['I', 'hate', 'Python', 'like', 'mad', 0, 1, 2, 3, 4, 5]\n",
      "Reversed list7 result:  [5, 4, 3, 2, 1, 0, 'mad', 'like', 'Python', 'hate', 'I']\n"
     ]
    }
   ],
   "source": [
    "#list methhods\n",
    "list7=['I','Love','Python']\n",
    "list7.append('like')  #append a new value to the list\n",
    "print('Object like is appended to the end of list7 reuslt in: ',list7)\n",
    "list7.append('mad')   #append another new  value to the list\n",
    "print('Append object mad in list7, result: ',list7)\n",
    "\n",
    "print('The number of count mad occour in list 7 is: ',list7.count('mad'))   #ount of how many times obj 'mad' occurs in list\n",
    "print('The lowest index of mad appear in list7 is: ',list7.index('mad'))\n",
    "\n",
    "list8=list(range(6))      #create a list of number from 0 to 5\n",
    "print('list with number from 0 to 5', list8)\n",
    "\n",
    "list7.extend(list8)     #extend list7 with list8\n",
    "print('Extended list7 contain: ',list7) #print the extended list7\n",
    "\n",
    "list7.insert(1,'hate')  #insert a new object 'hate' at index 1\n",
    "print('Content of list7 after Object hate is added: ', list7)\n",
    "\n",
    "list7.remove('Love')   #remove the object 'Love'\n",
    "print('Remove the oject Love from list7: ',list7)\n",
    "\n",
    "list7.reverse()   #reverse list 7\n",
    "print('Reversed list7 result: ',list7)\n",
    "\n"
   ]
  },
  {
   "cell_type": "markdown",
   "metadata": {},
   "source": [
    "## Exercise 2\n",
    "\n",
    "Write a function to compute do a words count of unique words provided in a list. The function should return a list of unique words and a list of corresponding count.\n",
    "\n"
   ]
  },
  {
   "cell_type": "code",
   "execution_count": 79,
   "metadata": {
    "scrolled": true
   },
   "outputs": [
    {
     "name": "stdout",
     "output_type": "stream",
     "text": [
      "a\n",
      "ab\n",
      "c\n",
      "v\n",
      "['a', 'ab', 'c', 'v']\n",
      "[3, 2, 2, 1]\n"
     ]
    }
   ],
   "source": [
    "def word_count(nlist):\n",
    "    unique=[]\n",
    "    unique_count=[]\n",
    "    for x in nlist:\n",
    "        if x not in unique:\n",
    "            unique.append(x)\n",
    "   \n",
    "    for y in unique:\n",
    "        c=nlist.count(y)\n",
    "        print(y)\n",
    "        unique_count.append(c)\n",
    "    return unique,unique_count\n",
    "            \n",
    "test=['a','ab','a','c','ab','a','v','c']        \n",
    "q,q_count=word_count(test)\n",
    "print(q)\n",
    "print(q_count)\n",
    "    "
   ]
  },
  {
   "cell_type": "markdown",
   "metadata": {},
   "source": [
    "## Exercise 3\n",
    "\n",
    "Write a program that accept a string with number seperated by space and produce a list wit these number.\n",
    "E.g. \"1 2 4 5 34 55\" -->[1,2,4,5,34,55]\n",
    "(Hint: use split method)\n"
   ]
  },
  {
   "cell_type": "code",
   "execution_count": 2,
   "metadata": {},
   "outputs": [
    {
     "name": "stdout",
     "output_type": "stream",
     "text": [
      "[1, 2, 4, 5, 34, 55]\n"
     ]
    }
   ],
   "source": [
    "str1='1 2 4 5 34 55'\n",
    "num=[int(x) for x in str1.split()]\n",
    "print(num)"
   ]
  },
  {
   "cell_type": "markdown",
   "metadata": {},
   "source": [
    "## 1.5 Python  Tuples\n",
    "\n",
    "A tuple is a sequence of immutable Python objects. Tuples are sequences, just like lists. The main difference between the tuples and the lists is that the tuples cannot be changed unlike lists. Tuples use parentheses, whereas lists use square brackets.\n"
   ]
  },
  {
   "cell_type": "code",
   "execution_count": 2,
   "metadata": {},
   "outputs": [
    {
     "name": "stdout",
     "output_type": "stream",
     "text": [
      "(1, 2, 3, 4, 5)\n",
      "('a', 'b', 'c', 'd')\n",
      "('electrical', 'digitial', 2007, 2018)\n",
      "()\n"
     ]
    }
   ],
   "source": [
    "#tuples creation\n",
    "\n",
    "tup1 = (1, 2, 3, 4, 5 )    #round  bracket is used to initialze tuples\n",
    "tup2 = \"a\", \"b\", \"c\", \"d\"  \n",
    "tup3 = ('electrical', 'digitial', 2007, 2018)  #tuples can have a mixed  type of content\n",
    "tup4=()    #a empty tuple\n",
    "\n",
    "print(tup1)  \n",
    "print(tup2)\n",
    "print(tup3)\n",
    "print(tup4)\n",
    "\n",
    "\n"
   ]
  },
  {
   "cell_type": "markdown",
   "metadata": {},
   "source": [
    "### Accessing Access Values in Tuples\n",
    "\n",
    "To access values in tuple, use the square brackets for slicing along with the index or indices to obtain the value available at that index."
   ]
  },
  {
   "cell_type": "code",
   "execution_count": 3,
   "metadata": {},
   "outputs": [
    {
     "name": "stdout",
     "output_type": "stream",
     "text": [
      "5\n",
      "('a', 'b', 'c')\n",
      "('digitial', 2007, 2018)\n"
     ]
    }
   ],
   "source": [
    "#access value in tuples please make sure that the previous code cell is run before running this one\n",
    "\n",
    "print(tup1[4])\n",
    "print(tup2[:3])\n",
    "print(tup3[1:])"
   ]
  },
  {
   "cell_type": "markdown",
   "metadata": {},
   "source": [
    "### Updating Tuples\n",
    "\n",
    "Tuples are immutable, which means you cannot update or change the values of tuple elements. You are able to take portions of the existing tuples to create new tuples "
   ]
  },
  {
   "cell_type": "code",
   "execution_count": 7,
   "metadata": {},
   "outputs": [
    {
     "name": "stdout",
     "output_type": "stream",
     "text": [
      "(3, 4, 5, 'electrical', 'digitial', 2007)\n"
     ]
    }
   ],
   "source": [
    "#tup1[0]=2 #this command would give us error\n",
    "\n",
    "tup5=tup1[2:]+tup3[:3]\n",
    "\n",
    "print(tup5)"
   ]
  },
  {
   "cell_type": "markdown",
   "metadata": {},
   "source": [
    "## Exercise 4\n",
    "\n",
    "An email address is provided in variable called email. Use tuple assignment to seperate the username and domain from the email address. (Hint: Use split method)"
   ]
  },
  {
   "cell_type": "code",
   "execution_count": 2,
   "metadata": {},
   "outputs": [
    {
     "name": "stdout",
     "output_type": "stream",
     "text": [
      "hello\n",
      "enganlyml.com\n"
     ]
    }
   ],
   "source": [
    "#initialize the email address\n",
    "email='hello@enganlyml.com'\n",
    "\n",
    "#your code start there\n",
    "username,domain=email.split('@')\n",
    "\n",
    "print(username)\n",
    "print(domain)"
   ]
  },
  {
   "cell_type": "markdown",
   "metadata": {},
   "source": [
    "# 1.6 Dictionary\n",
    "\n",
    "A dictionary is a collection which is unordered, changeable and indexed. In Python dictionaries are written with curly brackets, and they have keys and values. Each key is separated from its value by a colon (:), the items are separated by commas, and the whole thing is enclosed in curly braces. An empty dictionary without any items is written with just two curly braces, like this: {}.\n",
    "\n",
    "Let's see an example of a dictionary shown in the cell below:"
   ]
  },
  {
   "cell_type": "code",
   "execution_count": 10,
   "metadata": {},
   "outputs": [
    {
     "name": "stdout",
     "output_type": "stream",
     "text": [
      "{'banana': 'yellow', 'apple': 'green', 'cherry': 'red'}\n"
     ]
    }
   ],
   "source": [
    "thisdict =\t{\n",
    "  \"apple\": \"green\",\n",
    "  \"banana\": \"yellow\",\n",
    "  \"cherry\": \"red\"\n",
    "}\n",
    "print(thisdict)"
   ]
  },
  {
   "cell_type": "markdown",
   "metadata": {},
   "source": [
    "Dictionary with mixed keys"
   ]
  },
  {
   "cell_type": "code",
   "execution_count": 4,
   "metadata": {},
   "outputs": [
    {
     "name": "stdout",
     "output_type": "stream",
     "text": [
      "{3: ['hello', 1, 2], 'name': 'John'}\n"
     ]
    }
   ],
   "source": [
    "dict1={\n",
    "    'name':'John',\n",
    "    3:['hello',1,2],\n",
    "}\n",
    "print(dict1)\n"
   ]
  },
  {
   "cell_type": "code",
   "execution_count": 6,
   "metadata": {},
   "outputs": [
    {
     "name": "stdout",
     "output_type": "stream",
     "text": [
      "{1: 'amber', 2: 'Jenny', 3: 'Amy'}\n",
      "amber\n",
      "Jenny\n",
      "John\n",
      "['hello', 1, 2]\n"
     ]
    }
   ],
   "source": [
    "#more example of dictionary initialization\n",
    "\n",
    "d1={1:'amber',2:'Jenny',3:'Amy'}\n",
    "print(d1)\n",
    "#to access individual value, we need to use the key to access\n",
    "print(d1[1])\n",
    "print(d1[2])\n",
    "\n",
    "#for mixed key like dict1 (please make sure you had already run previous cell)\n",
    "print(dict1['name'])\n",
    "print(dict1[3])"
   ]
  },
  {
   "cell_type": "markdown",
   "metadata": {},
   "source": [
    "### Update of Dictionary\n",
    "\n",
    "Dictionary in python are mutable. That mean the value unlike those in tuple and string can be updated, added or deleted. If the key specified is present in the dictionary, then the associated value with that key is updated or change, otherwiese a new key:value pair is added or created."
   ]
  },
  {
   "cell_type": "code",
   "execution_count": 7,
   "metadata": {},
   "outputs": [
    {
     "name": "stdout",
     "output_type": "stream",
     "text": [
      "{1: 'Alice', 2: 'Jenny', 3: 'Amy'}\n",
      "{1: 'Alice', 2: 'Jenny', 3: 'Amy', 4: 'Mary'}\n",
      "{1: 'Alice', 2: 'Jenny', 3: 'Amy'}\n",
      "Mary\n"
     ]
    }
   ],
   "source": [
    "#please ensure the previous is run successfully as we are using dictionary created in previous cell\n",
    "\n",
    "d1[1]='Alice'   #update the value of key 1 with 'Alice'\n",
    "print(d1) \n",
    "d1[4]='Mary'    #Add a new key pair 4:Mary\n",
    "print(d1)\n",
    "m=d1.pop(4)      #use pop method to remove key:value pair with key=2, the method return the value of the deleted item\n",
    "print(d1)\n",
    "print(m)\n",
    "\n"
   ]
  },
  {
   "cell_type": "markdown",
   "metadata": {},
   "source": [
    "### Tranversing Dictionary\n",
    "\n",
    "We have learn about tranversing strings and etc, it is perhap right for us to learn about transversing Dictionary too."
   ]
  },
  {
   "cell_type": "code",
   "execution_count": 9,
   "metadata": {},
   "outputs": [
    {
     "name": "stdout",
     "output_type": "stream",
     "text": [
      "1 Alice\n",
      "2 Jenny\n",
      "3 Amy\n"
     ]
    }
   ],
   "source": [
    "#lets use the d1 dictionary defined in the previous cell\n",
    "\n",
    "for c in d1:\n",
    "    print(c,d1[c])"
   ]
  },
  {
   "cell_type": "markdown",
   "metadata": {},
   "source": [
    "### Membership \n",
    "Using the membership operator in  and not in, we can test whether a key is in the dictionary or not. "
   ]
  },
  {
   "cell_type": "code",
   "execution_count": 11,
   "metadata": {},
   "outputs": [
    {
     "data": {
      "text/plain": [
       "False"
      ]
     },
     "execution_count": 11,
     "metadata": {},
     "output_type": "execute_result"
    }
   ],
   "source": [
    "1 in d1  # test whether 1 is key of d1\n",
    "10 in d1 # test whether 10 is key of d1"
   ]
  },
  {
   "cell_type": "markdown",
   "metadata": {},
   "source": [
    "## Exercise 5\n",
    "\n",
    "A company wanted to write a simple python program to score potential candiates skill according to the company skill matrix as shown below:\n",
    "\n",
    "| skill      | Weightage  |\n",
    "|--------    |------------|\n",
    "|python      |  3         |\n",
    "|deeplearning|  5         |\n",
    "|excel       |  1         |  \n",
    "|c++         |  3         |\n",
    "|tensorflow  |  4         |\n",
    "\n",
    "The candidates would be stored in tuple with their skills such as \\['python','deeplearning','excel','c++','tensorflow'\\]. A candidate with skill python, excel and c++ would achieve a scare of 5.333333\n"
   ]
  },
  {
   "cell_type": "code",
   "execution_count": 1,
   "metadata": {},
   "outputs": [
    {
     "name": "stdout",
     "output_type": "stream",
     "text": [
      "5.333333333333333\n"
     ]
    }
   ],
   "source": [
    "d2={'python':3,\n",
    "    'deeplearning':5,\n",
    "   'excel':1,\n",
    "   'c++':3,\n",
    "    'tensorflow':4\n",
    "   }\n",
    "skill2=['python','deeplearning','excel','c++','tensorflow']\n",
    "skill=['python',\n",
    "     'excel',\n",
    "     'c++']\n",
    "score=0\n",
    "for a in skill2:\n",
    "    if a in d2:\n",
    "        score=score+d2[a]\n",
    "score=score/len(skill)\n",
    "print(score)"
   ]
  },
  {
   "cell_type": "markdown",
   "metadata": {},
   "source": [
    "## 2 Numpy\n",
    "\n",
    "NumPy is the fundamental package for scientific computing with Python. It contains among other things:\n",
    "\n",
    "- a powerful N-dimensional array object\n",
    "- sophisticated (broadcasting) functions\n",
    "- tools for integrating C/C++ and Fortran code\n",
    "- useful linear algebra, Fourier transform, and random number capabilities\n",
    "- Besides its obvious scientific uses, NumPy can also be used as an efficient multi-dimensional container of generic data.  \n",
    "- Arbitrary data-types can be defined. This allows NumPy to seamlessly and speedily integrate with a wide variety of databases.\n",
    "\n",
    "[http://www.numpy.org/](http://www.numpy.org/)\n",
    "\n",
    "Array types and conversions between types\n",
    "NumPy supports a much greater variety of numerical types than Python does. This section shows which are available, and how to modify an array’s data-type.\n",
    "\n",
    "** Data type\tDescription **\n",
    "\n",
    "- bool_\tBoolean (True or False) stored as a byte\n",
    "- int_\tDefault integer type (same as C long; normally either int64 or int32)\n",
    "- intc\tIdentical to C int (normally int32 or int64)\n",
    "- intp\tInteger used for indexing (same as C ssize_t; normally either int32 or int64)\n",
    "- int8\tByte (-128 to 127)\n",
    "- int16\tInteger (-32768 to 32767)\n",
    "- int32\tInteger (-2147483648 to 2147483647)\n",
    "- int64\tInteger (-9223372036854775808 to 9223372036854775807)\n",
    "- uint8\tUnsigned integer (0 to 255)\n",
    "- uint16\tUnsigned integer (0 to 65535)\n",
    "- uint32\tUnsigned integer (0 to 4294967295)\n",
    "- uint64\tUnsigned integer (0 to 18446744073709551615)\n",
    "- float_\tShorthand for float64.\n",
    "- float16\tHalf precision float: sign bit, 5 bits exponent, 10 bits mantissa\n",
    "- float32\tSingle precision float: sign bit, 8 bits exponent, 23 bits mantissa\n",
    "- float64\tDouble precision float: sign bit, 11 bits exponent, 52 bits mantissa\n",
    "- complex_\tShorthand for complex128.\n",
    "- complex64\tComplex number, represented by two 32-bit floats (real and imaginary components)\n",
    "- complex128\tComplex number, represented by two 64-bit floats (real and imaginary components)\n",
    "\n",
    "source: [https://docs.scipy.org/doc/numpy/user/basics.types.html](https://docs.scipy.org/doc/numpy/user/basics.types.html)\n"
   ]
  },
  {
   "cell_type": "markdown",
   "metadata": {},
   "source": [
    "### 2.1 Basic of Numpy Arrays"
   ]
  },
  {
   "cell_type": "code",
   "execution_count": 30,
   "metadata": {},
   "outputs": [
    {
     "name": "stdout",
     "output_type": "stream",
     "text": [
      "x1 information\n",
      "1\n",
      "(6,)\n",
      "6\n",
      "[5 0 3 3 7 9]\n",
      "x2 information\n",
      "2\n",
      "(3, 4)\n",
      "12\n",
      "[[3 5 2 4]\n",
      " [7 6 8 8]\n",
      " [1 6 7 7]]\n",
      "x3 information\n",
      "3\n",
      "(3, 4, 5)\n",
      "60\n",
      "[[[8 1 5 9 8]\n",
      "  [9 4 3 0 3]\n",
      "  [5 0 2 3 8]\n",
      "  [1 3 3 3 7]]\n",
      "\n",
      " [[0 1 9 9 0]\n",
      "  [4 7 3 2 7]\n",
      "  [2 0 0 4 5]\n",
      "  [5 6 8 4 1]]\n",
      "\n",
      " [[4 9 8 1 1]\n",
      "  [7 9 9 3 6]\n",
      "  [7 2 0 3 5]\n",
      "  [9 4 4 6 4]]]\n"
     ]
    }
   ],
   "source": [
    "# to use numpy we need to import the library\n",
    "import numpy as np\n",
    "\n",
    "#Lets define some numpy arrays\n",
    "\n",
    "np.random.seed(0)  #seed for reproducibility\n",
    "\n",
    "#initialize a numpy one-dimension array with 6 elements with random number from 0 to 9\n",
    "x1=np.random.randint(10,size=6)  \n",
    "#each numpy array come with a few data\n",
    "print(\"x1 information\")\n",
    "print(x1.ndim)    #ndim (number of dimension)\n",
    "print(x1.shape)   #shape (size of each dimension)\n",
    "print(x1.size)    #size (the total size of the array)\n",
    "print(x1)         #content of x1\n",
    "\n",
    "#initialize a numpy two-dimension array with 3x4 elements with random number from 0 to 9\n",
    "x2=np.random.randint(10,size=(3,4))\n",
    "#initialize a numpy three-dimension array with 3x4x5 elements with random number from 0 to 9                     \n",
    "x3=np.random.randint(10,size=(3,4,5)) \n",
    "\n",
    "#each numpy array come with a few data\n",
    "print(\"x2 information\")\n",
    "print(x2.ndim)    #ndim (number of dimension)\n",
    "print(x2.shape)   #shape (size of each dimension)\n",
    "print(x2.size)    #size (the total size of the array)\n",
    "print(x2)         #content of x1\n",
    "\n",
    "print(\"x3 information\")\n",
    "print(x3.ndim)    #ndim (number of dimension)\n",
    "print(x3.shape)   #shape (size of each dimension)\n",
    "print(x3.size)    #size (the total size of the array)\n",
    "print(x3)         #content of x1\n",
    "\n"
   ]
  },
  {
   "cell_type": "code",
   "execution_count": 37,
   "metadata": {},
   "outputs": [
    {
     "name": "stdout",
     "output_type": "stream",
     "text": [
      "[5 0 3 3 7 9]\n",
      "7\n",
      "0\n",
      "9\n",
      "7\n"
     ]
    }
   ],
   "source": [
    "# to access single elements\n",
    "print(x1)\n",
    "print(x1[4]) #access the 4th elements of x1\n",
    "print(x1[1]) #access the 1st element of x1\n",
    "print(x1[-1]) #to access from the end of array\n",
    "print(x1[-2]) #to access the seoncd last element of the x1"
   ]
  },
  {
   "cell_type": "code",
   "execution_count": 46,
   "metadata": {},
   "outputs": [
    {
     "name": "stdout",
     "output_type": "stream",
     "text": [
      "[[3 5 2 4]\n",
      " [7 6 8 8]\n",
      " [1 6 7 7]]\n",
      "3\n",
      "1\n",
      "6\n"
     ]
    }
   ],
   "source": [
    "#to access single elements in multi-dimension array using comma-seperated tuple of indices\n",
    "\n",
    "print(x2)\n",
    "print(x2[0,0]) #top left corner element\n",
    "print(x2[2,0]) # access row 2 column 0 element\n",
    "print(x2[1,-3]) # row 1 column three from end behind\n",
    "\n"
   ]
  },
  {
   "cell_type": "markdown",
   "metadata": {},
   "source": [
    "### Exercise 6\n",
    "\n",
    "Below would be code to initize a three-dimensional array. Please write code to access (print) all those elements with value of 3.\n"
   ]
  },
  {
   "cell_type": "code",
   "execution_count": 61,
   "metadata": {},
   "outputs": [
    {
     "name": "stdout",
     "output_type": "stream",
     "text": [
      "[[[5 6 7 8 9]\n",
      "  [6 8 4 4 3]\n",
      "  [3 8 4 4 6]\n",
      "  [6 0 7 3 6]]\n",
      "\n",
      " [[4 9 7 2 7]\n",
      "  [3 5 5 1 2]\n",
      "  [4 9 0 0 6]\n",
      "  [8 4 1 8 1]]\n",
      "\n",
      " [[0 9 6 6 6]\n",
      "  [6 8 1 6 0]\n",
      "  [9 6 4 4 0]\n",
      "  [8 0 3 2 1]]]\n",
      "3\n",
      "3\n",
      "3\n",
      "3\n"
     ]
    }
   ],
   "source": [
    "#numpy array initialization -- do not change the code here\n",
    "np.random.seed(78)  #seed for reproducibility\n",
    "x4=np.random.randint(10,size=(3,4,5)) \n",
    "print(x4)\n",
    "\n",
    "\n",
    "#your code start here\n",
    "print(x4[0,1,-1])\n",
    "print(x4[0,2,0])\n",
    "print(x4[1,1,0])\n",
    "print(x4[2,3,2])"
   ]
  },
  {
   "cell_type": "markdown",
   "metadata": {},
   "source": [
    "### 2.2 Slicing of Numpy to access Subarrays\n",
    "\n",
    "Very often in Data Analytics, we need to slice our data input different subarrays for processing and analysis. Numpy slicing syntax follows that of the standard Python list, to access a slice of an array x, \n",
    "\n",
    "x\\[start:steop:step\\]\n"
   ]
  },
  {
   "cell_type": "code",
   "execution_count": 77,
   "metadata": {},
   "outputs": [
    {
     "name": "stdout",
     "output_type": "stream",
     "text": [
      "[0 1 2 3 4 5 6 7 8 9]\n",
      "[0 1 2 3 4]\n",
      "[5 6 7 8 9]\n",
      "[2 3 4 5]\n",
      "[0 2 4 6 8]\n",
      "[1 3 5 7 9]\n",
      "[9 8 7 6 5 4 3 2 1 0]\n",
      "[9 7 5 3 1]\n",
      "[0 3 6]\n"
     ]
    }
   ],
   "source": [
    "np.random.seed(0)  #seed for reproducibility\n",
    "\n",
    "#initialize a numpy one-dimension array with number from 0 to 9\n",
    "x5=np.arange(10)\n",
    "print(x5)\n",
    "print(x5[:5])         # get first 5 element\n",
    "print(x5[5:])         # get subarray from element 5 to end of array\n",
    "print(x5[2:6])        # get subarray from element 2 to element 6 (not inclusive)\n",
    "print(x5[::2])        #alternate element\n",
    "print(x5[1::2])       #alternate element starting from index 1\n",
    "print(x5[::-1])       #all element but reverse\n",
    "print(x5[::-2])       #alternate all but reverse order\n",
    "print(x5[0:9:3])      #start from element 1 to 8 (not  inclusive) with step of 3\n"
   ]
  },
  {
   "cell_type": "code",
   "execution_count": 79,
   "metadata": {},
   "outputs": [
    {
     "name": "stdout",
     "output_type": "stream",
     "text": [
      "[[5 0 3 3]\n",
      " [7 9 3 5]\n",
      " [2 4 7 6]]\n"
     ]
    }
   ],
   "source": [
    "#Lets work on multi-dimension slicing \n",
    "#initialize x6 for use\n",
    "np.random.seed(0)  #seed for reproducibility\n",
    "\n",
    "x6=np.random.randint(10,size=(3,4))\n",
    "print(x6)         #content of x6"
   ]
  },
  {
   "cell_type": "code",
   "execution_count": 102,
   "metadata": {},
   "outputs": [
    {
     "name": "stdout",
     "output_type": "stream",
     "text": [
      "[[5 0 3]\n",
      " [7 9 3]]\n",
      "[0 9 4]\n",
      "[[5 3]\n",
      " [7 3]\n",
      " [2 7]]\n",
      "[[6 7 4 2]\n",
      " [5 3 9 7]\n",
      " [3 3 0 5]]\n"
     ]
    }
   ],
   "source": [
    "# multidimensional slices work in the same way, with multiple slices seperated by commas. Example\n",
    "\n",
    "print(x6[:2,:3]) # first two rows and three columns\n",
    "print(x6[:,1])   #slice column index 1\n",
    "print(x6[:3,::2]) #all rows, every other column\n",
    "print(x6[::-1,::-1]) #reverse all in once"
   ]
  },
  {
   "cell_type": "markdown",
   "metadata": {},
   "source": [
    "Note that Numpy array slices return views rather than copies of the array data as in standard Python list operation. This default behavior is usefufl as it means that when we deal with hug datsets, we can access and process these datasets without the need to keep creating copy in the data buffer. Lets illustrate this behavior with a simple example."
   ]
  },
  {
   "cell_type": "code",
   "execution_count": 88,
   "metadata": {},
   "outputs": [
    {
     "name": "stdout",
     "output_type": "stream",
     "text": [
      "[[3 5 2 4]\n",
      " [7 6 8 8]\n",
      " [1 6 7 7]]\n",
      "[[3 5]\n",
      " [7 6]]\n",
      "[[99  5]\n",
      " [ 7  6]]\n",
      "[[99  5  2  4]\n",
      " [ 7  6  8  8]\n",
      " [ 1  6  7  7]]\n"
     ]
    }
   ],
   "source": [
    "print(x2) #recall the two-dimensional array x2\n",
    "subx2=x2[:2,:2] #slice a 2x2 subarray from x2\n",
    "print(subx2)\n",
    "subx2[0,0]=99 #modify the element 0,0 to 99\n",
    "print(subx2)\n",
    "print(x2)   #the correspending element in x2 is also modified"
   ]
  },
  {
   "cell_type": "code",
   "execution_count": 92,
   "metadata": {},
   "outputs": [
    {
     "name": "stdout",
     "output_type": "stream",
     "text": [
      "[[99  5]\n",
      " [ 7  6]]\n",
      "[[-1  5]\n",
      " [ 7  6]]\n",
      "[[99  5  2  4]\n",
      " [ 7  6  8  8]\n",
      " [ 1  6  7  7]]\n"
     ]
    }
   ],
   "source": [
    "#if we want to create a copy instead of a view, we could use the copy method\n",
    "subx2copy=x2[:2,:2].copy()\n",
    "print(subx2copy)\n",
    "subx2copy[0,0]=-1\n",
    "print(subx2copy)  #the subx2copy element 0,0 is modified to -1\n",
    "print(x2)         #the  corresponding element in x2 is not modified"
   ]
  },
  {
   "cell_type": "markdown",
   "metadata": {},
   "source": [
    "### Exercise 7\n",
    "\n",
    "Slice the multidimensional array create below into:\n",
    "\n",
    "1. A vector make up of all column 1\n",
    "2. All of row 3\n",
    "3. A subarry consist of first array with row 1 to 3 and column 0 to 2\n",
    "\n",
    "\n"
   ]
  },
  {
   "cell_type": "code",
   "execution_count": 122,
   "metadata": {},
   "outputs": [
    {
     "name": "stdout",
     "output_type": "stream",
     "text": [
      "[[[5 6 7 8 9]\n",
      "  [6 8 4 4 3]\n",
      "  [3 8 4 4 6]\n",
      "  [6 0 7 3 6]\n",
      "  [4 9 7 2 7]\n",
      "  [3 5 5 1 2]]\n",
      "\n",
      " [[4 9 0 0 6]\n",
      "  [8 4 1 8 1]\n",
      "  [0 9 6 6 6]\n",
      "  [6 8 1 6 0]\n",
      "  [9 6 4 4 0]\n",
      "  [8 0 3 2 1]]\n",
      "\n",
      " [[6 8 3 6 7]\n",
      "  [3 6 3 1 5]\n",
      "  [6 8 3 1 4]\n",
      "  [4 7 7 2 6]\n",
      "  [1 0 5 5 7]\n",
      "  [9 1 5 8 8]]\n",
      "\n",
      " [[6 6 7 0 4]\n",
      "  [7 6 2 9 4]\n",
      "  [5 3 0 5 6]\n",
      "  [7 2 9 9 5]\n",
      "  [5 0 8 4 0]\n",
      "  [6 3 2 4 6]]]\n",
      "[[6 8 4]\n",
      " [3 8 4]\n",
      " [6 0 7]]\n"
     ]
    }
   ],
   "source": [
    "#code to initialize the array, do not modify\n",
    "np.random.seed(78)  #seed for reproducibility\n",
    "xtest=np.random.randint(10,size=(4,6,5)) \n",
    "\n",
    "#your code start here\n",
    "\n",
    "print(xtest)\n",
    "#print(xtest[:,:,1:2]) #!\n",
    "#print(xtest[:,3:4,:]) #2\n",
    "print(xtest[0,1:4,0:3])"
   ]
  },
  {
   "cell_type": "markdown",
   "metadata": {},
   "source": [
    "Another operation useful in data analytic is the reshaping operation. The most flexible way of doing this is with the reshape() method. If you want to put the number 1 through 9 in a 3x3 grid, it can be done in"
   ]
  },
  {
   "cell_type": "code",
   "execution_count": 124,
   "metadata": {},
   "outputs": [
    {
     "name": "stdout",
     "output_type": "stream",
     "text": [
      "[[1 2 3]\n",
      " [4 5 6]\n",
      " [7 8 9]]\n"
     ]
    }
   ],
   "source": [
    "#arange is to create a one dimensiona array with number from 1 to 10\n",
    "grid=np.arange(1,10).reshape((3,3)) #reshape method is used to convert the one dimensional array to a 3x3 matrix\n",
    "print(grid)"
   ]
  },
  {
   "cell_type": "markdown",
   "metadata": {},
   "source": [
    "Numpy array can be concatente and split. Let try a few examples.\n"
   ]
  },
  {
   "cell_type": "code",
   "execution_count": 148,
   "metadata": {},
   "outputs": [
    {
     "name": "stdout",
     "output_type": "stream",
     "text": [
      "[1 2 3 4 5 6]\n",
      "[1 2 3 4 5 6 7 8 9]\n",
      "[[1 2 3]\n",
      " [4 5 6]\n",
      " [7 8 9]]\n",
      "[[1 2 3]\n",
      " [4 5 6]\n",
      " [7 8 9]\n",
      " [1 2 3]\n",
      " [4 5 6]\n",
      " [7 8 9]]\n",
      "[[1 2 3 1 2 3]\n",
      " [4 5 6 4 5 6]\n",
      " [7 8 9 7 8 9]]\n"
     ]
    }
   ],
   "source": [
    "x=np.array([1,2,3])\n",
    "y=np.array([4,5,6])\n",
    "z=np.array([7,8,9])\n",
    "xy=np.concatenate([x,y])\n",
    "print(xy)\n",
    "xyz=np.concatenate([x,y,z])\n",
    "print(xyz)\n",
    "x2=np.array([x,y,z])\n",
    "print(x2)\n",
    "xyz2=np.concatenate([x2,x2],axis=0)\n",
    "print(xyz2)\n",
    "xyz3=np.concatenate([x2,x2],axis=1)\n",
    "print(xyz3)"
   ]
  },
  {
   "cell_type": "markdown",
   "metadata": {},
   "source": [
    "## 3 Data Manipulation with Pandas\n",
    "\n",
    "\n",
    "Python Data Analysis Library\n",
    "pandas is an open source, BSD-licensed library providing high-performance, easy-to-use data structures and data analysis tools for the Python programming language.\n",
    "\n",
    "pandas is a NumFOCUS sponsored project. This will help ensure the success of development of pandas as a world-class open-source project, and makes it possible to donate to the project.\n",
    "\n",
    "[https://pandas.pydata.org/](https://pandas.pydata.org/)\n",
    "\n",
    "Again to use Panda, we need to install either by pip or conda depend on your environment. To use Panda, \"import pandas as pd\" is essential.\n"
   ]
  },
  {
   "cell_type": "code",
   "execution_count": 9,
   "metadata": {},
   "outputs": [],
   "source": [
    "import  numpy as np\n",
    "import pandas as pd\n"
   ]
  },
  {
   "cell_type": "markdown",
   "metadata": {},
   "source": [
    "### 3.1 Pandas series\n",
    "\n",
    "Pandas series wrap both a sequenceof values and a sequence of indices, which can be access with the value and index attributes. The values are simply a Numpy array as shown below:"
   ]
  },
  {
   "cell_type": "code",
   "execution_count": 8,
   "metadata": {},
   "outputs": [
    {
     "name": "stdout",
     "output_type": "stream",
     "text": [
      "0    0.25\n",
      "1    0.50\n",
      "2    0.75\n",
      "3    1.00\n",
      "dtype: float64\n",
      "[0.25 0.5  0.75 1.  ]\n",
      "RangeIndex(start=0, stop=4, step=1)\n",
      "0.75\n",
      "1    0.50\n",
      "2    0.75\n",
      "dtype: float64\n"
     ]
    }
   ],
   "source": [
    "data=pd.Series([0.25,0.5,0.75,1.0])\n",
    "print(data)\n",
    "print(data.values)  #access the values of a pandas series\n",
    "print(data.index)   #acess the index of a pandas series\n",
    "print(data[2])      #access individual value\n",
    "print(data[1:3])    #access subset of a series"
   ]
  },
  {
   "cell_type": "code",
   "execution_count": 7,
   "metadata": {},
   "outputs": [
    {
     "name": "stdout",
     "output_type": "stream",
     "text": [
      "0    2\n",
      "1    4\n",
      "2    6\n",
      "dtype: int64\n",
      "100    5\n",
      "200    5\n",
      "300    5\n",
      "dtype: int64\n",
      "1    b\n",
      "2    a\n",
      "3    c\n",
      "dtype: object\n",
      "3    c\n",
      "2    a\n",
      "dtype: object\n"
     ]
    }
   ],
   "source": [
    "# Constructing Series objects\n",
    "\n",
    "p1=pd.Series([2, 4, 6])  #created from array by default the index is integer\n",
    "print(p1)\n",
    "p2=pd.Series(5, index=[100, 200, 300])   #value is scalar which repeat itself while indexes are changed\n",
    "print(p2)\n",
    "p3=pd.Series({2:'a', 1:'b', 3:'c'})  #pandas series created from dictionary\n",
    "print(p3)\n",
    "p4=pd.Series({2:'a', 1:'b', 3:'c'}, index=[3, 2])  #even if created from dictionary we could still specify the index\n",
    "print(p4)               #Notice that in this case, the Series is populated only with the explicitly identified keys."
   ]
  },
  {
   "cell_type": "markdown",
   "metadata": {},
   "source": [
    "## 3.2 Pandas DataFrame Object\n",
    "\n",
    "The next fundamental structure in Pandas is the DataFrame. Like the Series object discussed in the previous section, the DataFrame can be thought of either as a generalization of a NumPy array, or as a specialization of a Python dictionary. We’ll now take a look at each of these perspectives.\n",
    "\n",
    "\n",
    "### DataFrame as a generalized NumPy array\n",
    "\n",
    "If a Series is an analog of a one-dimensional array with flexible indices, a DataFrame is an analog of a two-dimensional array with both flexible row indices and flexible column names. Just as you might think of a two-dimensional array as an ordered sequence of aligned one-dimensional columns, you can think of a DataFrame as a sequence of aligned Series objects. Here, by “aligned” we mean that they share the same index.\n"
   ]
  },
  {
   "cell_type": "code",
   "execution_count": 15,
   "metadata": {},
   "outputs": [
    {
     "name": "stdout",
     "output_type": "stream",
     "text": [
      "Bedok       423967\n",
      "Katong      141297\n",
      "Punggol     149995\n",
      "Sengkang    170312\n",
      "Tampines    695662\n",
      "dtype: int64\n",
      "            area  population\n",
      "Bedok     423967       12345\n",
      "Katong    141297      435678\n",
      "Punggol   149995      345796\n",
      "Sengkang  170312       34568\n",
      "Tampines  695662      678542\n",
      "Index(['Bedok', 'Katong', 'Punggol', 'Sengkang', 'Tampines'], dtype='object')\n"
     ]
    }
   ],
   "source": [
    "#some fictional data for illustration purposes\n",
    "area_dict = {'Bedok': 423967, 'Tampines': 695662, 'Katong': 141297,\n",
    "             'Sengkang': 170312, 'Punggol': 149995}\n",
    "pop_dict = {'Bedok': 12345, 'Tampines': 678542, 'Katong': 435678,\n",
    "             'Sengkang': 34568, 'Punggol': 345796}\n",
    "area = pd.Series(area_dict)\n",
    "pop = pd.Series(pop_dict)\n",
    "print(area)\n",
    "\n",
    "town = pd.DataFrame({'population': pop,\n",
    "                               'area': area})\n",
    "print(town)\n",
    "print(town.index)"
   ]
  },
  {
   "cell_type": "code",
   "execution_count": 28,
   "metadata": {},
   "outputs": [
    {
     "name": "stdout",
     "output_type": "stream",
     "text": [
      "First five data for previw\n",
      "          Town  area Population\n",
      "0   Ang Mo Kio  6.38    149,800\n",
      "1        Bedok  9.37    204,300\n",
      "2       Bishan  6.90     65,700\n",
      "3  Bukit Batok  7.85    113,800\n",
      "4  Bukit Merah  8.58    147,000\n",
      "The columns names\n",
      "Index(['Town', 'area', 'Population'], dtype='object')\n",
      "some information on the dataframe\n",
      "<class 'pandas.core.frame.DataFrame'>\n",
      "RangeIndex: 23 entries, 0 to 22\n",
      "Data columns (total 3 columns):\n",
      "Town          23 non-null object\n",
      "area          23 non-null float64\n",
      "Population    23 non-null object\n",
      "dtypes: float64(1), object(2)\n",
      "memory usage: 632.0+ bytes\n",
      "None\n"
     ]
    }
   ],
   "source": [
    "#lets read in some real data from the town_area_pop.csv\n",
    "\n",
    "df=pd.read_csv('town_area_pop.csv')\n",
    "print(\"First five data for previw\")\n",
    "print(df.head())\n",
    "print(\"The columns names\")\n",
    "print(df.columns)\n",
    "print(\"some information on the dataframe\")\n",
    "print(df.info(verbose=True))"
   ]
  },
  {
   "cell_type": "code",
   "execution_count": 29,
   "metadata": {},
   "outputs": [
    {
     "name": "stdout",
     "output_type": "stream",
     "text": [
      "0      6.38\n",
      "1      9.37\n",
      "2      6.90\n",
      "3      7.85\n",
      "4      8.58\n",
      "5      4.89\n",
      "6      5.83\n",
      "7      4.12\n",
      "8      6.78\n",
      "9     13.09\n",
      "10     3.84\n",
      "11     9.87\n",
      "12     7.99\n",
      "13     6.01\n",
      "14     9.57\n",
      "15     6.94\n",
      "16     7.08\n",
      "17    10.55\n",
      "18     7.37\n",
      "19    12.00\n",
      "20     5.56\n",
      "21    11.98\n",
      "22     7.78\n",
      "Name: area, dtype: float64\n"
     ]
    }
   ],
   "source": [
    "#data selection\n",
    "\n",
    "print(df[\"area\"])  #access only the area"
   ]
  },
  {
   "cell_type": "markdown",
   "metadata": {},
   "source": [
    "As we can see that currently the index is just number and it would be quite inconvenience to use in this case. We may want to replace the index by Town name."
   ]
  },
  {
   "cell_type": "code",
   "execution_count": 31,
   "metadata": {},
   "outputs": [
    {
     "name": "stdout",
     "output_type": "stream",
     "text": [
      "                            Town   area Population\n",
      "Town                                              \n",
      "Ang Mo Kio            Ang Mo Kio   6.38    149,800\n",
      "Bedok                      Bedok   9.37    204,300\n",
      "Bishan                    Bishan   6.90     65,700\n",
      "Bukit Batok          Bukit Batok   7.85    113,800\n",
      "Bukit Merah          Bukit Merah   8.58    147,000\n",
      "Bukit Panjang      Bukit Panjang   4.89    119,300\n",
      "Choa Chu Kang      Choa Chu Kang   5.83    161,100\n",
      "Clementi                Clementi   4.12     72,500\n",
      "Geylang                  Geylang   6.78     91,900\n",
      "Hougang                  Hougang  13.09    179,800\n",
      "Jurong East          Jurong East   3.84     80,300\n",
      "Jurong West          Jurong West   9.87    260,000\n",
      "Kallang/Whampoa  Kallang/Whampoa   7.99    105,500\n",
      "Pasir Ris              Pasir Ris   6.01    111,000\n",
      "Punggol                  Punggol   9.57     99,500\n",
      "Queenstown            Queenstown   6.94     82,100\n",
      "Sembawang              Sembawang   7.08     71,600\n",
      "Sengkang                Sengkang  10.55    186,500\n",
      "Serangoon              Serangoon   7.37     73,000\n",
      "Tampines                Tampines  12.00    239,100\n",
      "Toa Payoh              Toa Payoh   5.56    107,500\n",
      "Woodlands              Woodlands  11.98    243,100\n",
      "Yishun                    Yishun   7.78    186,600\n"
     ]
    }
   ],
   "source": [
    "df.index=df['Town']\n",
    "print(df)"
   ]
  },
  {
   "cell_type": "code",
   "execution_count": null,
   "metadata": {},
   "outputs": [],
   "source": [
    "A better way is to set the index column to 'Town' when reading in the csv as shown below."
   ]
  },
  {
   "cell_type": "code",
   "execution_count": 33,
   "metadata": {},
   "outputs": [
    {
     "name": "stdout",
     "output_type": "stream",
     "text": [
      "                  area Population\n",
      "Town                             \n",
      "Ang Mo Kio        6.38    149,800\n",
      "Bedok             9.37    204,300\n",
      "Bishan            6.90     65,700\n",
      "Bukit Batok       7.85    113,800\n",
      "Bukit Merah       8.58    147,000\n",
      "Bukit Panjang     4.89    119,300\n",
      "Choa Chu Kang     5.83    161,100\n",
      "Clementi          4.12     72,500\n",
      "Geylang           6.78     91,900\n",
      "Hougang          13.09    179,800\n",
      "Jurong East       3.84     80,300\n",
      "Jurong West       9.87    260,000\n",
      "Kallang/Whampoa   7.99    105,500\n",
      "Pasir Ris         6.01    111,000\n",
      "Punggol           9.57     99,500\n",
      "Queenstown        6.94     82,100\n",
      "Sembawang         7.08     71,600\n",
      "Sengkang         10.55    186,500\n",
      "Serangoon         7.37     73,000\n",
      "Tampines         12.00    239,100\n",
      "Toa Payoh         5.56    107,500\n",
      "Woodlands        11.98    243,100\n",
      "Yishun            7.78    186,600\n"
     ]
    }
   ],
   "source": [
    "df2=pd.read_csv('town_area_pop.csv',index_col='Town')\n",
    "print(df2)"
   ]
  },
  {
   "cell_type": "markdown",
   "metadata": {},
   "source": [
    "### Exercise  8\n",
    "\n",
    "Read DAILYDATA_S24_201801.csv file into a Pandas dataframe. Read in using the 'Day' as index"
   ]
  },
  {
   "cell_type": "code",
   "execution_count": 50,
   "metadata": {},
   "outputs": [
    {
     "name": "stdout",
     "output_type": "stream",
     "text": [
      "    Station  Year  Month  DailyRainfallTotal  Highest30MinRainfall  \\\n",
      "Day                                                                  \n",
      "1    Changi  2018      1                29.4                   6.0   \n",
      "2    Changi  2018      1                 1.0                   0.4   \n",
      "3    Changi  2018      1                 2.8                   1.8   \n",
      "4    Changi  2018      1                 0.4                   0.2   \n",
      "5    Changi  2018      1                 1.0                   1.0   \n",
      "\n",
      "     Highest60MinRainfall  Highest120MinRainfall  MeanTemperature  \\\n",
      "Day                                                                 \n",
      "1                    11.6                   13.4             24.8   \n",
      "2                     0.4                    0.4             25.5   \n",
      "3                     2.0                    2.0             26.5   \n",
      "4                     0.2                    0.2             26.1   \n",
      "5                     1.0                    1.0             26.0   \n",
      "\n",
      "     MaximumTemperature  MinimumTemperature  MeanWindSpeed  MaxWindSpeed  \n",
      "Day                                                                       \n",
      "1                  26.7                23.6            5.4          36.0  \n",
      "2                  27.3                24.2            7.9          24.5  \n",
      "3                  31.1                24.1            7.2          29.2  \n",
      "4                  28.2                25.0            8.3          23.8  \n",
      "5                  29.0                24.8            4.3          18.7  \n"
     ]
    }
   ],
   "source": [
    "#your code start here\n",
    "\n",
    "import pandas as pd\n",
    "df=pd.read_csv('DAILYDATA_S24_201801.csv',index_col='Day')\n",
    "print(df.head())"
   ]
  },
  {
   "cell_type": "markdown",
   "metadata": {},
   "source": [
    "As we can see that column station and Year seem to be all the same value (you could try verifying them by display more data to convince yourself), we may want to remove these two columns so as not to waste memory space. Lets try to remove the two columns"
   ]
  },
  {
   "cell_type": "code",
   "execution_count": 51,
   "metadata": {},
   "outputs": [
    {
     "name": "stdout",
     "output_type": "stream",
     "text": [
      "     Month  DailyRainfallTotal  Highest30MinRainfall  Highest60MinRainfall  \\\n",
      "Day                                                                          \n",
      "1        1                29.4                   6.0                  11.6   \n",
      "2        1                 1.0                   0.4                   0.4   \n",
      "3        1                 2.8                   1.8                   2.0   \n",
      "4        1                 0.4                   0.2                   0.2   \n",
      "5        1                 1.0                   1.0                   1.0   \n",
      "\n",
      "     Highest120MinRainfall  MeanTemperature  MaximumTemperature  \\\n",
      "Day                                                               \n",
      "1                     13.4             24.8                26.7   \n",
      "2                      0.4             25.5                27.3   \n",
      "3                      2.0             26.5                31.1   \n",
      "4                      0.2             26.1                28.2   \n",
      "5                      1.0             26.0                29.0   \n",
      "\n",
      "     MinimumTemperature  MeanWindSpeed  MaxWindSpeed  \n",
      "Day                                                   \n",
      "1                  23.6            5.4          36.0  \n",
      "2                  24.2            7.9          24.5  \n",
      "3                  24.1            7.2          29.2  \n",
      "4                  25.0            8.3          23.8  \n",
      "5                  24.8            4.3          18.7  \n"
     ]
    }
   ],
   "source": [
    "df=df.drop(columns=['Station','Year'])\n",
    "print(df.head())"
   ]
  }
 ],
 "metadata": {
  "kernelspec": {
   "display_name": "Python 3",
   "language": "python",
   "name": "python3"
  },
  "language_info": {
   "codemirror_mode": {
    "name": "ipython",
    "version": 3
   },
   "file_extension": ".py",
   "mimetype": "text/x-python",
   "name": "python",
   "nbconvert_exporter": "python",
   "pygments_lexer": "ipython3",
   "version": "3.5.3"
  }
 },
 "nbformat": 4,
 "nbformat_minor": 2
}
