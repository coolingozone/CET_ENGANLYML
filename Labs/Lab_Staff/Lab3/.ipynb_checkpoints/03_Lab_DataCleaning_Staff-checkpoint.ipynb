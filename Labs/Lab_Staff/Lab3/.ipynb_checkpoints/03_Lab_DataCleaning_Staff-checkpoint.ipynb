{
 "cells": [
  {
   "cell_type": "markdown",
   "metadata": {},
   "source": [
    "# Engineering Analytics and Machine Learning Lab 3\n",
    "## for Specialist Diploma in Internet of Things\n",
    "\n",
    "### Author’s Name: Teo Kok Keong\n",
    "\n",
    "### Property of Temasek Polytechnic, Copyright ©.\n",
    "### For circulation within Temasek Polytechnic only.\n",
    "\n",
    "\n",
    "\n",
    "# 1 Data Cleaning\n",
    "\n"
   ]
  },
  {
   "cell_type": "markdown",
   "metadata": {},
   "source": [
    "# 1.1  Missing Data\n",
    "\n",
    "Missing Data in Pandas was handled in two ways, the None and NaN.\n"
   ]
  },
  {
   "cell_type": "code",
   "execution_count": 1,
   "metadata": {},
   "outputs": [
    {
     "data": {
      "text/plain": [
       "array([1, None, 3, 2], dtype=object)"
      ]
     },
     "execution_count": 1,
     "metadata": {},
     "output_type": "execute_result"
    }
   ],
   "source": [
    "import numpy as np\n",
    "import pandas as pd\n",
    "\n",
    "#Let's look at None as a python object\n",
    "x = np.array([1, None, 3, 2])\n",
    "x           "
   ]
  },
  {
   "cell_type": "code",
   "execution_count": 2,
   "metadata": {},
   "outputs": [
    {
     "name": "stdout",
     "output_type": "stream",
     "text": [
      "float64\n"
     ]
    }
   ],
   "source": [
    "#NaN is recognized by all systems that use standard IEEE floating-point representation\n",
    "y=np.array([1,np.nan,3,4])\n",
    "print(y.dtype)"
   ]
  },
  {
   "cell_type": "code",
   "execution_count": 3,
   "metadata": {},
   "outputs": [
    {
     "name": "stdout",
     "output_type": "stream",
     "text": [
      "nan\n",
      "nan\n"
     ]
    }
   ],
   "source": [
    "#anything that have arithmetic operation with nan the result is nan\n",
    "\n",
    "result=2+np.nan\n",
    "print(result)\n",
    "result2=np.nan/2\n",
    "print(result2)"
   ]
  },
  {
   "cell_type": "markdown",
   "metadata": {},
   "source": [
    "Pandas treat None and NaN essentially interchangeable for indicating missing or null values. To faciliate this convention, there are several useful methods to due with null values in Pandas data structure."
   ]
  },
  {
   "cell_type": "code",
   "execution_count": 4,
   "metadata": {},
   "outputs": [
    {
     "name": "stdout",
     "output_type": "stream",
     "text": [
      "0        1\n",
      "1      NaN\n",
      "2    hello\n",
      "3     None\n",
      "dtype: object\n"
     ]
    }
   ],
   "source": [
    "data=pd.Series([1,np.nan,'hello',None])\n",
    "print(data)\n"
   ]
  },
  {
   "cell_type": "code",
   "execution_count": 5,
   "metadata": {},
   "outputs": [
    {
     "name": "stdout",
     "output_type": "stream",
     "text": [
      "isnull result\n",
      "0    False\n",
      "1     True\n",
      "2    False\n",
      "3     True\n",
      "dtype: bool\n",
      "notnull  result\n",
      "0     True\n",
      "1    False\n",
      "2     True\n",
      "3    False\n",
      "dtype: bool\n"
     ]
    }
   ],
   "source": [
    "#we can detect null values using the isnull() method\n",
    "print(\"isnull result\")\n",
    "print(data.isnull()) \n",
    "\n",
    "#we can do the opposite using the notnull() method\n",
    "print(\"notnull  result\")\n",
    "print(data.notnull()) \n"
   ]
  },
  {
   "cell_type": "markdown",
   "metadata": {},
   "source": [
    "## 1.2 Data Selection in Series\n",
    "\n",
    "A Series object acts in many ways like a one-dimensional NumPy array, and in many ways like a standard Python dictionary. If we keep these two overlapping analogies in mind, it will help us to understand the patterns of data indexing and selection in these arrays"
   ]
  },
  {
   "cell_type": "code",
   "execution_count": 6,
   "metadata": {},
   "outputs": [
    {
     "data": {
      "text/plain": [
       "a    0.25\n",
       "b    0.50\n",
       "c    0.75\n",
       "d    1.00\n",
       "dtype: float64"
      ]
     },
     "execution_count": 6,
     "metadata": {},
     "output_type": "execute_result"
    }
   ],
   "source": [
    "import pandas as pd\n",
    "data = pd.Series([0.25, 0.5, 0.75, 1.0],index=['a', 'b', 'c', 'd'])\n",
    "data"
   ]
  },
  {
   "cell_type": "code",
   "execution_count": 7,
   "metadata": {},
   "outputs": [
    {
     "data": {
      "text/plain": [
       "0.5"
      ]
     },
     "execution_count": 7,
     "metadata": {},
     "output_type": "execute_result"
    }
   ],
   "source": [
    "# we can select any value by\n",
    "\n",
    "data['b']"
   ]
  },
  {
   "cell_type": "code",
   "execution_count": 8,
   "metadata": {},
   "outputs": [
    {
     "name": "stdout",
     "output_type": "stream",
     "text": [
      "True\n",
      "False\n",
      "Index(['a', 'b', 'c', 'd'], dtype='object')\n",
      "[('a', 0.25), ('b', 0.5), ('c', 0.75), ('d', 1.0)]\n",
      "a    0.25\n",
      "b    0.50\n",
      "c    0.75\n",
      "d    1.00\n",
      "e    1.25\n",
      "dtype: float64\n"
     ]
    }
   ],
   "source": [
    "#dictionary like expression \n",
    "\n",
    "print('a' in data)   #check key 'a' exist\n",
    "\n",
    "print('w' in data)    #check key 'w' exist\n",
    "\n",
    "print(data.keys())   \n",
    "\n",
    "print(list(data.items()))\n",
    "\n",
    "data['e']=1.25      #modify value to 1.25 with key='e'\n",
    "print(data)      "
   ]
  },
  {
   "cell_type": "code",
   "execution_count": 9,
   "metadata": {},
   "outputs": [
    {
     "name": "stdout",
     "output_type": "stream",
     "text": [
      "a    0.25\n",
      "b    0.50\n",
      "c    0.75\n",
      "dtype: float64\n",
      "a    0.25\n",
      "b    0.50\n",
      "dtype: float64\n",
      "b    0.50\n",
      "c    0.75\n",
      "dtype: float64\n",
      "a    0.25\n",
      "e    1.25\n",
      "dtype: float64\n"
     ]
    }
   ],
   "source": [
    "#also can be slice and select by Numpy array\n",
    "\n",
    "print(data['a':'c'])  #select data from key='a' to 'c'\n",
    "print(data[0:2])      #select data by implicit integer index\n",
    "print(data[(data>0.3)&(data<0.8)] )  #by masking only select value between 0.3 and 0.8\n",
    "print(data[['a','e']])   #select only value with key='a' and 'e'"
   ]
  },
  {
   "cell_type": "code",
   "execution_count": 10,
   "metadata": {},
   "outputs": [
    {
     "name": "stdout",
     "output_type": "stream",
     "text": [
      "0        1\n",
      "1      NaN\n",
      "2    hello\n",
      "3     None\n",
      "dtype: object\n"
     ]
    }
   ],
   "source": [
    "#these selection can be use to mask out missing value\n",
    "#lets redefine the data we have previously\n",
    "data=pd.Series([1,np.nan,'hello',None])\n",
    "print(data)"
   ]
  },
  {
   "cell_type": "code",
   "execution_count": 11,
   "metadata": {},
   "outputs": [
    {
     "name": "stdout",
     "output_type": "stream",
     "text": [
      "0        1\n",
      "2    hello\n",
      "dtype: object\n"
     ]
    }
   ],
   "source": [
    "print(data[data.notnull()])   #remove all the missing data"
   ]
  },
  {
   "cell_type": "code",
   "execution_count": 12,
   "metadata": {},
   "outputs": [
    {
     "name": "stdout",
     "output_type": "stream",
     "text": [
      "0        1\n",
      "2    hello\n",
      "dtype: object\n"
     ]
    }
   ],
   "source": [
    "#or there is convenience methods such as dropna() which mean removes NA value\n",
    "print(data.dropna())\n"
   ]
  },
  {
   "cell_type": "markdown",
   "metadata": {},
   "source": [
    "Pandas DataFrame which is usually multidimensional is a little more complicated than Pandas Series. Simply because we cannot drop single values from a DataFrame, we can only drop full rows or full columns. However, that would affected a lot of other unrelated data points which essentially greatly reduce the number of data points. How to drop is very application dependent and there is no a simple all correct answer to all situations.\n",
    "\n",
    "By default dropna() will drop all rows which any null value is present. We can dropna() of all column which any null is present by using the setting the axis='columns'"
   ]
  },
  {
   "cell_type": "code",
   "execution_count": 13,
   "metadata": {},
   "outputs": [
    {
     "name": "stdout",
     "output_type": "stream",
     "text": [
      "     0    1  2\n",
      "1  2.0  3.0  5\n",
      "   2\n",
      "0  2\n",
      "1  5\n",
      "2  6\n"
     ]
    }
   ],
   "source": [
    " df = pd.DataFrame([[1,      np.nan, 2],\n",
    "                    [2,      3,      5],\n",
    "                    [np.nan, 4,      6]])\n",
    "print(df.dropna())     #drop all rolls with null value\n",
    "print(df.dropna(axis='columns'))  #drop all columns with null value\n",
    "\n",
    "    \n"
   ]
  },
  {
   "cell_type": "code",
   "execution_count": 14,
   "metadata": {},
   "outputs": [
    {
     "name": "stdout",
     "output_type": "stream",
     "text": [
      "     0    1  2   3\n",
      "0  1.0  NaN  2 NaN\n",
      "1  2.0  3.0  5 NaN\n",
      "2  NaN  4.0  6 NaN\n",
      "     0    1  2\n",
      "0  1.0  NaN  2\n",
      "1  2.0  3.0  5\n",
      "2  NaN  4.0  6\n",
      "     0    1  2   3\n",
      "1  2.0  3.0  5 NaN\n"
     ]
    }
   ],
   "source": [
    "#lets see how we can clean data with finerr grain of control\n",
    "df[3] = np.nan   #add a third column that is all null values\n",
    "print(df)\n",
    "#The default of how='any', such that any row or column (depending on the axis keyword) containing a null value will be dropped. \n",
    "#we can set how='all' that mean only drop if cany row or column is all null value\n",
    "print(df.dropna(axis='columns',how='all'))\n",
    "#thresh let you specify what ist he minimum number of non-null values for the row/columns to be kept\n",
    "print(df.dropna(axis='rows', thresh=3))   "
   ]
  },
  {
   "cell_type": "markdown",
   "metadata": {},
   "source": [
    "Sometime in certain application missing data can be replace by a certain number. In this section we are going to fill null values."
   ]
  },
  {
   "cell_type": "code",
   "execution_count": 15,
   "metadata": {},
   "outputs": [
    {
     "name": "stdout",
     "output_type": "stream",
     "text": [
      "a    1.0\n",
      "b    NaN\n",
      "c    2.0\n",
      "d    NaN\n",
      "e    3.0\n",
      "dtype: float64\n",
      "a    1.0\n",
      "b    0.0\n",
      "c    2.0\n",
      "d    0.0\n",
      "e    3.0\n",
      "dtype: float64\n",
      "a    1.0\n",
      "b    1.0\n",
      "c    2.0\n",
      "d    2.0\n",
      "e    3.0\n",
      "dtype: float64\n",
      "a    1.0\n",
      "b    2.0\n",
      "c    2.0\n",
      "d    3.0\n",
      "e    3.0\n",
      "dtype: float64\n"
     ]
    }
   ],
   "source": [
    "data1 = pd.Series([1, np.nan, 2, None, 3], index=list('abcde'))\n",
    "print(data1)\n",
    "#we can fill all null with any value such as 0 in  this example\n",
    "print(data1.fillna(0))\n",
    "#forward-fill to propagate the previous value value forward, mean to fill null value with value of the previous non-null value\n",
    "print(data1.fillna(method='ffill'))\n",
    "#the opposite would be back fill\n",
    "print(data1.fillna(method='bfill'))\n",
    "\n",
    "\n"
   ]
  },
  {
   "cell_type": "code",
   "execution_count": 16,
   "metadata": {},
   "outputs": [
    {
     "name": "stdout",
     "output_type": "stream",
     "text": [
      "     0    1  2   3\n",
      "0  1.0  NaN  2 NaN\n",
      "1  2.0  3.0  5 NaN\n",
      "2  NaN  4.0  6 NaN\n",
      "     0    1    2    3\n",
      "0  1.0  1.0  2.0  2.0\n",
      "1  2.0  3.0  5.0  5.0\n",
      "2  NaN  4.0  6.0  6.0\n",
      "     0    1  2   3\n",
      "0  1.0  NaN  2 NaN\n",
      "1  2.0  3.0  5 NaN\n",
      "2  2.0  4.0  6 NaN\n"
     ]
    }
   ],
   "source": [
    "#we can do similar thing with dataframe\n",
    "print(df)\n",
    "print(df.fillna(method='ffill',axis=1)) #in row\n",
    "print(df.fillna(method='ffill',axis=0)) #in column\n",
    "#if previous value not available nan would remain"
   ]
  },
  {
   "cell_type": "markdown",
   "metadata": {},
   "source": [
    "## Exercise 1\n",
    "\n",
    "Load the data file april-2017.csv and use the head() and info() methods to understand more about the data. We want to drop the null values.\n",
    "\n",
    "1. We cannot tolerate any null value, we  would remove any rows/columns with any null values. Rows or Column is feasible in this case?\n",
    "2. Perform operation so that we can keep the rows/columns it does not contain all null values and forward fill the null value.\n"
   ]
  },
  {
   "cell_type": "code",
   "execution_count": 17,
   "metadata": {},
   "outputs": [
    {
     "data": {
      "text/html": [
       "<div>\n",
       "<style scoped>\n",
       "    .dataframe tbody tr th:only-of-type {\n",
       "        vertical-align: middle;\n",
       "    }\n",
       "\n",
       "    .dataframe tbody tr th {\n",
       "        vertical-align: top;\n",
       "    }\n",
       "\n",
       "    .dataframe thead th {\n",
       "        text-align: right;\n",
       "    }\n",
       "</style>\n",
       "<table border=\"1\" class=\"dataframe\">\n",
       "  <thead>\n",
       "    <tr style=\"text-align: right;\">\n",
       "      <th></th>\n",
       "      <th>UTC time</th>\n",
       "      <th>3_temperature</th>\n",
       "      <th>3_humidity</th>\n",
       "      <th>3_pressure</th>\n",
       "      <th>3_pm1</th>\n",
       "      <th>3_pm25</th>\n",
       "      <th>3_pm10</th>\n",
       "      <th>140_temperature</th>\n",
       "      <th>140_humidity</th>\n",
       "      <th>140_pressure</th>\n",
       "      <th>...</th>\n",
       "      <th>857_pressure</th>\n",
       "      <th>857_pm1</th>\n",
       "      <th>857_pm25</th>\n",
       "      <th>857_pm10</th>\n",
       "      <th>895_temperature</th>\n",
       "      <th>895_humidity</th>\n",
       "      <th>895_pressure</th>\n",
       "      <th>895_pm1</th>\n",
       "      <th>895_pm25</th>\n",
       "      <th>895_pm10</th>\n",
       "    </tr>\n",
       "  </thead>\n",
       "  <tbody>\n",
       "    <tr>\n",
       "      <th>0</th>\n",
       "      <td>2017-04-01T00:00:00</td>\n",
       "      <td>NaN</td>\n",
       "      <td>NaN</td>\n",
       "      <td>NaN</td>\n",
       "      <td>NaN</td>\n",
       "      <td>NaN</td>\n",
       "      <td>NaN</td>\n",
       "      <td>6</td>\n",
       "      <td>92</td>\n",
       "      <td>101906</td>\n",
       "      <td>...</td>\n",
       "      <td>NaN</td>\n",
       "      <td>NaN</td>\n",
       "      <td>NaN</td>\n",
       "      <td>NaN</td>\n",
       "      <td>NaN</td>\n",
       "      <td>NaN</td>\n",
       "      <td>NaN</td>\n",
       "      <td>NaN</td>\n",
       "      <td>NaN</td>\n",
       "      <td>NaN</td>\n",
       "    </tr>\n",
       "    <tr>\n",
       "      <th>1</th>\n",
       "      <td>2017-04-01T01:00:00</td>\n",
       "      <td>NaN</td>\n",
       "      <td>NaN</td>\n",
       "      <td>NaN</td>\n",
       "      <td>NaN</td>\n",
       "      <td>NaN</td>\n",
       "      <td>NaN</td>\n",
       "      <td>6</td>\n",
       "      <td>92</td>\n",
       "      <td>101869</td>\n",
       "      <td>...</td>\n",
       "      <td>NaN</td>\n",
       "      <td>NaN</td>\n",
       "      <td>NaN</td>\n",
       "      <td>NaN</td>\n",
       "      <td>NaN</td>\n",
       "      <td>NaN</td>\n",
       "      <td>NaN</td>\n",
       "      <td>NaN</td>\n",
       "      <td>NaN</td>\n",
       "      <td>NaN</td>\n",
       "    </tr>\n",
       "    <tr>\n",
       "      <th>2</th>\n",
       "      <td>2017-04-01T02:00:00</td>\n",
       "      <td>NaN</td>\n",
       "      <td>NaN</td>\n",
       "      <td>NaN</td>\n",
       "      <td>NaN</td>\n",
       "      <td>NaN</td>\n",
       "      <td>NaN</td>\n",
       "      <td>5</td>\n",
       "      <td>94</td>\n",
       "      <td>101837</td>\n",
       "      <td>...</td>\n",
       "      <td>NaN</td>\n",
       "      <td>NaN</td>\n",
       "      <td>NaN</td>\n",
       "      <td>NaN</td>\n",
       "      <td>NaN</td>\n",
       "      <td>NaN</td>\n",
       "      <td>NaN</td>\n",
       "      <td>NaN</td>\n",
       "      <td>NaN</td>\n",
       "      <td>NaN</td>\n",
       "    </tr>\n",
       "    <tr>\n",
       "      <th>3</th>\n",
       "      <td>2017-04-01T03:00:00</td>\n",
       "      <td>NaN</td>\n",
       "      <td>NaN</td>\n",
       "      <td>NaN</td>\n",
       "      <td>NaN</td>\n",
       "      <td>NaN</td>\n",
       "      <td>NaN</td>\n",
       "      <td>5</td>\n",
       "      <td>92</td>\n",
       "      <td>101834</td>\n",
       "      <td>...</td>\n",
       "      <td>NaN</td>\n",
       "      <td>NaN</td>\n",
       "      <td>NaN</td>\n",
       "      <td>NaN</td>\n",
       "      <td>NaN</td>\n",
       "      <td>NaN</td>\n",
       "      <td>NaN</td>\n",
       "      <td>NaN</td>\n",
       "      <td>NaN</td>\n",
       "      <td>NaN</td>\n",
       "    </tr>\n",
       "    <tr>\n",
       "      <th>4</th>\n",
       "      <td>2017-04-01T04:00:00</td>\n",
       "      <td>NaN</td>\n",
       "      <td>NaN</td>\n",
       "      <td>NaN</td>\n",
       "      <td>NaN</td>\n",
       "      <td>NaN</td>\n",
       "      <td>NaN</td>\n",
       "      <td>4</td>\n",
       "      <td>94</td>\n",
       "      <td>101832</td>\n",
       "      <td>...</td>\n",
       "      <td>NaN</td>\n",
       "      <td>NaN</td>\n",
       "      <td>NaN</td>\n",
       "      <td>NaN</td>\n",
       "      <td>NaN</td>\n",
       "      <td>NaN</td>\n",
       "      <td>NaN</td>\n",
       "      <td>NaN</td>\n",
       "      <td>NaN</td>\n",
       "      <td>NaN</td>\n",
       "    </tr>\n",
       "  </tbody>\n",
       "</table>\n",
       "<p>5 rows × 337 columns</p>\n",
       "</div>"
      ],
      "text/plain": [
       "              UTC time  3_temperature  3_humidity  3_pressure  3_pm1  3_pm25  \\\n",
       "0  2017-04-01T00:00:00            NaN         NaN         NaN    NaN     NaN   \n",
       "1  2017-04-01T01:00:00            NaN         NaN         NaN    NaN     NaN   \n",
       "2  2017-04-01T02:00:00            NaN         NaN         NaN    NaN     NaN   \n",
       "3  2017-04-01T03:00:00            NaN         NaN         NaN    NaN     NaN   \n",
       "4  2017-04-01T04:00:00            NaN         NaN         NaN    NaN     NaN   \n",
       "\n",
       "   3_pm10  140_temperature  140_humidity  140_pressure    ...     \\\n",
       "0     NaN                6            92        101906    ...      \n",
       "1     NaN                6            92        101869    ...      \n",
       "2     NaN                5            94        101837    ...      \n",
       "3     NaN                5            92        101834    ...      \n",
       "4     NaN                4            94        101832    ...      \n",
       "\n",
       "   857_pressure  857_pm1  857_pm25  857_pm10  895_temperature  895_humidity  \\\n",
       "0           NaN      NaN       NaN       NaN              NaN           NaN   \n",
       "1           NaN      NaN       NaN       NaN              NaN           NaN   \n",
       "2           NaN      NaN       NaN       NaN              NaN           NaN   \n",
       "3           NaN      NaN       NaN       NaN              NaN           NaN   \n",
       "4           NaN      NaN       NaN       NaN              NaN           NaN   \n",
       "\n",
       "   895_pressure  895_pm1  895_pm25  895_pm10  \n",
       "0           NaN      NaN       NaN       NaN  \n",
       "1           NaN      NaN       NaN       NaN  \n",
       "2           NaN      NaN       NaN       NaN  \n",
       "3           NaN      NaN       NaN       NaN  \n",
       "4           NaN      NaN       NaN       NaN  \n",
       "\n",
       "[5 rows x 337 columns]"
      ]
     },
     "execution_count": 17,
     "metadata": {},
     "output_type": "execute_result"
    }
   ],
   "source": [
    "import numpy as np\n",
    "import pandas as pd\n",
    "\n",
    "ddf=pd.read_csv('april-2017.csv')\n",
    "ddf.head()\n"
   ]
  },
  {
   "cell_type": "code",
   "execution_count": 18,
   "metadata": {},
   "outputs": [
    {
     "name": "stdout",
     "output_type": "stream",
     "text": [
      "<class 'pandas.core.frame.DataFrame'>\n",
      "RangeIndex: 720 entries, 0 to 719\n",
      "Columns: 337 entries, UTC time to 895_pm10\n",
      "dtypes: float64(193), int64(143), object(1)\n",
      "memory usage: 1.9+ MB\n"
     ]
    }
   ],
   "source": [
    "ddf.info()"
   ]
  },
  {
   "cell_type": "code",
   "execution_count": 19,
   "metadata": {},
   "outputs": [
    {
     "data": {
      "text/html": [
       "<div>\n",
       "<style scoped>\n",
       "    .dataframe tbody tr th:only-of-type {\n",
       "        vertical-align: middle;\n",
       "    }\n",
       "\n",
       "    .dataframe tbody tr th {\n",
       "        vertical-align: top;\n",
       "    }\n",
       "\n",
       "    .dataframe thead th {\n",
       "        text-align: right;\n",
       "    }\n",
       "</style>\n",
       "<table border=\"1\" class=\"dataframe\">\n",
       "  <thead>\n",
       "    <tr style=\"text-align: right;\">\n",
       "      <th></th>\n",
       "      <th>UTC time</th>\n",
       "      <th>140_temperature</th>\n",
       "      <th>140_humidity</th>\n",
       "      <th>140_pressure</th>\n",
       "      <th>147_pressure</th>\n",
       "      <th>147_pm1</th>\n",
       "      <th>147_pm25</th>\n",
       "      <th>147_pm10</th>\n",
       "      <th>169_temperature</th>\n",
       "      <th>169_humidity</th>\n",
       "      <th>...</th>\n",
       "      <th>225_pressure</th>\n",
       "      <th>225_pm1</th>\n",
       "      <th>225_pm25</th>\n",
       "      <th>225_pm10</th>\n",
       "      <th>226_temperature</th>\n",
       "      <th>226_humidity</th>\n",
       "      <th>226_pressure</th>\n",
       "      <th>226_pm1</th>\n",
       "      <th>226_pm25</th>\n",
       "      <th>226_pm10</th>\n",
       "    </tr>\n",
       "  </thead>\n",
       "  <tbody>\n",
       "    <tr>\n",
       "      <th>0</th>\n",
       "      <td>2017-04-01T00:00:00</td>\n",
       "      <td>6</td>\n",
       "      <td>92</td>\n",
       "      <td>101906</td>\n",
       "      <td>101829</td>\n",
       "      <td>69</td>\n",
       "      <td>65</td>\n",
       "      <td>94</td>\n",
       "      <td>6</td>\n",
       "      <td>89</td>\n",
       "      <td>...</td>\n",
       "      <td>101918</td>\n",
       "      <td>58</td>\n",
       "      <td>55</td>\n",
       "      <td>73</td>\n",
       "      <td>6</td>\n",
       "      <td>89</td>\n",
       "      <td>101904</td>\n",
       "      <td>32</td>\n",
       "      <td>31</td>\n",
       "      <td>53</td>\n",
       "    </tr>\n",
       "    <tr>\n",
       "      <th>1</th>\n",
       "      <td>2017-04-01T01:00:00</td>\n",
       "      <td>6</td>\n",
       "      <td>92</td>\n",
       "      <td>101869</td>\n",
       "      <td>101793</td>\n",
       "      <td>73</td>\n",
       "      <td>69</td>\n",
       "      <td>99</td>\n",
       "      <td>6</td>\n",
       "      <td>89</td>\n",
       "      <td>...</td>\n",
       "      <td>101879</td>\n",
       "      <td>56</td>\n",
       "      <td>53</td>\n",
       "      <td>70</td>\n",
       "      <td>5</td>\n",
       "      <td>89</td>\n",
       "      <td>101867</td>\n",
       "      <td>29</td>\n",
       "      <td>27</td>\n",
       "      <td>46</td>\n",
       "    </tr>\n",
       "    <tr>\n",
       "      <th>2</th>\n",
       "      <td>2017-04-01T02:00:00</td>\n",
       "      <td>5</td>\n",
       "      <td>94</td>\n",
       "      <td>101837</td>\n",
       "      <td>101760</td>\n",
       "      <td>76</td>\n",
       "      <td>72</td>\n",
       "      <td>103</td>\n",
       "      <td>5</td>\n",
       "      <td>91</td>\n",
       "      <td>...</td>\n",
       "      <td>101854</td>\n",
       "      <td>53</td>\n",
       "      <td>50</td>\n",
       "      <td>66</td>\n",
       "      <td>4</td>\n",
       "      <td>93</td>\n",
       "      <td>101833</td>\n",
       "      <td>24</td>\n",
       "      <td>21</td>\n",
       "      <td>35</td>\n",
       "    </tr>\n",
       "    <tr>\n",
       "      <th>3</th>\n",
       "      <td>2017-04-01T03:00:00</td>\n",
       "      <td>5</td>\n",
       "      <td>92</td>\n",
       "      <td>101834</td>\n",
       "      <td>101757</td>\n",
       "      <td>73</td>\n",
       "      <td>70</td>\n",
       "      <td>100</td>\n",
       "      <td>4</td>\n",
       "      <td>88</td>\n",
       "      <td>...</td>\n",
       "      <td>101847</td>\n",
       "      <td>51</td>\n",
       "      <td>47</td>\n",
       "      <td>64</td>\n",
       "      <td>4</td>\n",
       "      <td>89</td>\n",
       "      <td>101829</td>\n",
       "      <td>23</td>\n",
       "      <td>20</td>\n",
       "      <td>33</td>\n",
       "    </tr>\n",
       "    <tr>\n",
       "      <th>4</th>\n",
       "      <td>2017-04-01T04:00:00</td>\n",
       "      <td>4</td>\n",
       "      <td>94</td>\n",
       "      <td>101832</td>\n",
       "      <td>101755</td>\n",
       "      <td>74</td>\n",
       "      <td>71</td>\n",
       "      <td>101</td>\n",
       "      <td>4</td>\n",
       "      <td>91</td>\n",
       "      <td>...</td>\n",
       "      <td>101847</td>\n",
       "      <td>47</td>\n",
       "      <td>43</td>\n",
       "      <td>61</td>\n",
       "      <td>3</td>\n",
       "      <td>93</td>\n",
       "      <td>101827</td>\n",
       "      <td>26</td>\n",
       "      <td>23</td>\n",
       "      <td>37</td>\n",
       "    </tr>\n",
       "  </tbody>\n",
       "</table>\n",
       "<p>5 rows × 144 columns</p>\n",
       "</div>"
      ],
      "text/plain": [
       "              UTC time  140_temperature  140_humidity  140_pressure  \\\n",
       "0  2017-04-01T00:00:00                6            92        101906   \n",
       "1  2017-04-01T01:00:00                6            92        101869   \n",
       "2  2017-04-01T02:00:00                5            94        101837   \n",
       "3  2017-04-01T03:00:00                5            92        101834   \n",
       "4  2017-04-01T04:00:00                4            94        101832   \n",
       "\n",
       "   147_pressure  147_pm1  147_pm25  147_pm10  169_temperature  169_humidity  \\\n",
       "0        101829       69        65        94                6            89   \n",
       "1        101793       73        69        99                6            89   \n",
       "2        101760       76        72       103                5            91   \n",
       "3        101757       73        70       100                4            88   \n",
       "4        101755       74        71       101                4            91   \n",
       "\n",
       "     ...     225_pressure  225_pm1  225_pm25  225_pm10  226_temperature  \\\n",
       "0    ...           101918       58        55        73                6   \n",
       "1    ...           101879       56        53        70                5   \n",
       "2    ...           101854       53        50        66                4   \n",
       "3    ...           101847       51        47        64                4   \n",
       "4    ...           101847       47        43        61                3   \n",
       "\n",
       "   226_humidity  226_pressure  226_pm1  226_pm25  226_pm10  \n",
       "0            89        101904       32        31        53  \n",
       "1            89        101867       29        27        46  \n",
       "2            93        101833       24        21        35  \n",
       "3            89        101829       23        20        33  \n",
       "4            93        101827       26        23        37  \n",
       "\n",
       "[5 rows x 144 columns]"
      ]
     },
     "execution_count": 19,
     "metadata": {},
     "output_type": "execute_result"
    }
   ],
   "source": [
    "ddf.dropna(axis='columns').head()"
   ]
  },
  {
   "cell_type": "markdown",
   "metadata": {},
   "source": [
    "## 1.3 Date Time \n",
    "\n",
    "Most Engineering data are time series, handling date time is one of the commonly data type. However date time come in all kind of format and many time when read from file it is read in as text/string. We would learn how to convert to proper python date time so that we could easily perform further processing.\n",
    "\n",
    "Please refer to the below link for more on date time of Pandas:\n",
    "\n",
    "[https://pandas.pydata.org/pandas-docs/stable/generated/pandas.to_datetime.html](https://pandas.pydata.org/pandas-docs/stable/generated/pandas.to_datetime.html)"
   ]
  },
  {
   "cell_type": "markdown",
   "metadata": {},
   "source": [
    "## Exercise 2\n",
    "\n",
    "Read in the lab3_date1.csv file into Pandas dataframe and preview the data.\n",
    "\n",
    "Clean the data to remove all null value."
   ]
  },
  {
   "cell_type": "code",
   "execution_count": 20,
   "metadata": {},
   "outputs": [
    {
     "data": {
      "text/html": [
       "<div>\n",
       "<style scoped>\n",
       "    .dataframe tbody tr th:only-of-type {\n",
       "        vertical-align: middle;\n",
       "    }\n",
       "\n",
       "    .dataframe tbody tr th {\n",
       "        vertical-align: top;\n",
       "    }\n",
       "\n",
       "    .dataframe thead th {\n",
       "        text-align: right;\n",
       "    }\n",
       "</style>\n",
       "<table border=\"1\" class=\"dataframe\">\n",
       "  <thead>\n",
       "    <tr style=\"text-align: right;\">\n",
       "      <th></th>\n",
       "      <th>Datetime</th>\n",
       "      <th>this</th>\n",
       "      <th>Values</th>\n",
       "    </tr>\n",
       "  </thead>\n",
       "  <tbody>\n",
       "    <tr>\n",
       "      <th>0</th>\n",
       "      <td>2017-04-01T00:00:00</td>\n",
       "      <td>NaN</td>\n",
       "      <td>1</td>\n",
       "    </tr>\n",
       "    <tr>\n",
       "      <th>1</th>\n",
       "      <td>2017-04-01T01:00:00</td>\n",
       "      <td>NaN</td>\n",
       "      <td>2</td>\n",
       "    </tr>\n",
       "    <tr>\n",
       "      <th>2</th>\n",
       "      <td>2017-04-01T02:00:00</td>\n",
       "      <td>NaN</td>\n",
       "      <td>3</td>\n",
       "    </tr>\n",
       "    <tr>\n",
       "      <th>3</th>\n",
       "      <td>2017-04-01T03:00:00</td>\n",
       "      <td>NaN</td>\n",
       "      <td>4</td>\n",
       "    </tr>\n",
       "    <tr>\n",
       "      <th>4</th>\n",
       "      <td>2017-04-01T04:00:00</td>\n",
       "      <td>NaN</td>\n",
       "      <td>5</td>\n",
       "    </tr>\n",
       "  </tbody>\n",
       "</table>\n",
       "</div>"
      ],
      "text/plain": [
       "              Datetime  this  Values\n",
       "0  2017-04-01T00:00:00   NaN       1\n",
       "1  2017-04-01T01:00:00   NaN       2\n",
       "2  2017-04-01T02:00:00   NaN       3\n",
       "3  2017-04-01T03:00:00   NaN       4\n",
       "4  2017-04-01T04:00:00   NaN       5"
      ]
     },
     "execution_count": 20,
     "metadata": {},
     "output_type": "execute_result"
    }
   ],
   "source": [
    "import numpy as np\n",
    "import pandas as pd\n",
    "\n",
    "dd=pd.read_csv('lab3_dateT.csv')\n",
    "dd.head()\n",
    "#the Datetime is read in as string/text we need to convert them to proper datetime format"
   ]
  },
  {
   "cell_type": "code",
   "execution_count": 21,
   "metadata": {},
   "outputs": [
    {
     "data": {
      "text/html": [
       "<div>\n",
       "<style scoped>\n",
       "    .dataframe tbody tr th:only-of-type {\n",
       "        vertical-align: middle;\n",
       "    }\n",
       "\n",
       "    .dataframe tbody tr th {\n",
       "        vertical-align: top;\n",
       "    }\n",
       "\n",
       "    .dataframe thead th {\n",
       "        text-align: right;\n",
       "    }\n",
       "</style>\n",
       "<table border=\"1\" class=\"dataframe\">\n",
       "  <thead>\n",
       "    <tr style=\"text-align: right;\">\n",
       "      <th></th>\n",
       "      <th>Datetime</th>\n",
       "      <th>Values</th>\n",
       "    </tr>\n",
       "  </thead>\n",
       "  <tbody>\n",
       "    <tr>\n",
       "      <th>0</th>\n",
       "      <td>2017-04-01T00:00:00</td>\n",
       "      <td>1</td>\n",
       "    </tr>\n",
       "    <tr>\n",
       "      <th>1</th>\n",
       "      <td>2017-04-01T01:00:00</td>\n",
       "      <td>2</td>\n",
       "    </tr>\n",
       "    <tr>\n",
       "      <th>2</th>\n",
       "      <td>2017-04-01T02:00:00</td>\n",
       "      <td>3</td>\n",
       "    </tr>\n",
       "    <tr>\n",
       "      <th>3</th>\n",
       "      <td>2017-04-01T03:00:00</td>\n",
       "      <td>4</td>\n",
       "    </tr>\n",
       "    <tr>\n",
       "      <th>4</th>\n",
       "      <td>2017-04-01T04:00:00</td>\n",
       "      <td>5</td>\n",
       "    </tr>\n",
       "  </tbody>\n",
       "</table>\n",
       "</div>"
      ],
      "text/plain": [
       "              Datetime  Values\n",
       "0  2017-04-01T00:00:00       1\n",
       "1  2017-04-01T01:00:00       2\n",
       "2  2017-04-01T02:00:00       3\n",
       "3  2017-04-01T03:00:00       4\n",
       "4  2017-04-01T04:00:00       5"
      ]
     },
     "execution_count": 21,
     "metadata": {},
     "output_type": "execute_result"
    }
   ],
   "source": [
    "dd=dd.dropna(axis='columns')\n",
    "dd.head()"
   ]
  },
  {
   "cell_type": "markdown",
   "metadata": {},
   "source": [
    "Lets proceed to convert the Datetime read in (still a string)  to proper Python date time."
   ]
  },
  {
   "cell_type": "code",
   "execution_count": 22,
   "metadata": {},
   "outputs": [
    {
     "data": {
      "text/html": [
       "<div>\n",
       "<style scoped>\n",
       "    .dataframe tbody tr th:only-of-type {\n",
       "        vertical-align: middle;\n",
       "    }\n",
       "\n",
       "    .dataframe tbody tr th {\n",
       "        vertical-align: top;\n",
       "    }\n",
       "\n",
       "    .dataframe thead th {\n",
       "        text-align: right;\n",
       "    }\n",
       "</style>\n",
       "<table border=\"1\" class=\"dataframe\">\n",
       "  <thead>\n",
       "    <tr style=\"text-align: right;\">\n",
       "      <th></th>\n",
       "      <th>Datetime</th>\n",
       "      <th>Values</th>\n",
       "    </tr>\n",
       "  </thead>\n",
       "  <tbody>\n",
       "    <tr>\n",
       "      <th>0</th>\n",
       "      <td>2017-04-01 00:00:00+00:00</td>\n",
       "      <td>1</td>\n",
       "    </tr>\n",
       "    <tr>\n",
       "      <th>1</th>\n",
       "      <td>2017-04-01 01:00:00+00:00</td>\n",
       "      <td>2</td>\n",
       "    </tr>\n",
       "    <tr>\n",
       "      <th>2</th>\n",
       "      <td>2017-04-01 02:00:00+00:00</td>\n",
       "      <td>3</td>\n",
       "    </tr>\n",
       "    <tr>\n",
       "      <th>3</th>\n",
       "      <td>2017-04-01 03:00:00+00:00</td>\n",
       "      <td>4</td>\n",
       "    </tr>\n",
       "    <tr>\n",
       "      <th>4</th>\n",
       "      <td>2017-04-01 04:00:00+00:00</td>\n",
       "      <td>5</td>\n",
       "    </tr>\n",
       "  </tbody>\n",
       "</table>\n",
       "</div>"
      ],
      "text/plain": [
       "                   Datetime  Values\n",
       "0 2017-04-01 00:00:00+00:00       1\n",
       "1 2017-04-01 01:00:00+00:00       2\n",
       "2 2017-04-01 02:00:00+00:00       3\n",
       "3 2017-04-01 03:00:00+00:00       4\n",
       "4 2017-04-01 04:00:00+00:00       5"
      ]
     },
     "execution_count": 22,
     "metadata": {},
     "output_type": "execute_result"
    }
   ],
   "source": [
    "dd['Datetime']=pd.to_datetime(dd['Datetime'],format='%Y-%m-%dT%H:%M:%S',utc=True) #convert string to datetime\n",
    "#Note: the format string is provided as the date and time are seperated by 'T' rather than space\n",
    "dd.head()\n"
   ]
  },
  {
   "cell_type": "code",
   "execution_count": 23,
   "metadata": {},
   "outputs": [
    {
     "name": "stdout",
     "output_type": "stream",
     "text": [
      "0    1491004800000000000\n",
      "1    1491008400000000000\n",
      "2    1491012000000000000\n",
      "3    1491015600000000000\n",
      "4    1491019200000000000\n",
      "Name: Datetime, dtype: int64\n"
     ]
    }
   ],
   "source": [
    "#convert the date time back to epoch notice that the epeoch is in us 1/1,000,000 second)\n",
    "print(dd['Datetime'].astype(np.int64).head()) "
   ]
  },
  {
   "cell_type": "code",
   "execution_count": 24,
   "metadata": {},
   "outputs": [
    {
     "data": {
      "text/html": [
       "<div>\n",
       "<style scoped>\n",
       "    .dataframe tbody tr th:only-of-type {\n",
       "        vertical-align: middle;\n",
       "    }\n",
       "\n",
       "    .dataframe tbody tr th {\n",
       "        vertical-align: top;\n",
       "    }\n",
       "\n",
       "    .dataframe thead th {\n",
       "        text-align: right;\n",
       "    }\n",
       "</style>\n",
       "<table border=\"1\" class=\"dataframe\">\n",
       "  <thead>\n",
       "    <tr style=\"text-align: right;\">\n",
       "      <th></th>\n",
       "      <th>Values</th>\n",
       "    </tr>\n",
       "    <tr>\n",
       "      <th>Datetime</th>\n",
       "      <th></th>\n",
       "    </tr>\n",
       "  </thead>\n",
       "  <tbody>\n",
       "    <tr>\n",
       "      <th>2017-04-01 00:00:00+00:00</th>\n",
       "      <td>1</td>\n",
       "    </tr>\n",
       "    <tr>\n",
       "      <th>2017-04-01 01:00:00+00:00</th>\n",
       "      <td>2</td>\n",
       "    </tr>\n",
       "    <tr>\n",
       "      <th>2017-04-01 02:00:00+00:00</th>\n",
       "      <td>3</td>\n",
       "    </tr>\n",
       "    <tr>\n",
       "      <th>2017-04-01 03:00:00+00:00</th>\n",
       "      <td>4</td>\n",
       "    </tr>\n",
       "    <tr>\n",
       "      <th>2017-04-01 04:00:00+00:00</th>\n",
       "      <td>5</td>\n",
       "    </tr>\n",
       "  </tbody>\n",
       "</table>\n",
       "</div>"
      ],
      "text/plain": [
       "                           Values\n",
       "Datetime                         \n",
       "2017-04-01 00:00:00+00:00       1\n",
       "2017-04-01 01:00:00+00:00       2\n",
       "2017-04-01 02:00:00+00:00       3\n",
       "2017-04-01 03:00:00+00:00       4\n",
       "2017-04-01 04:00:00+00:00       5"
      ]
     },
     "execution_count": 24,
     "metadata": {},
     "output_type": "execute_result"
    }
   ],
   "source": [
    "dd.set_index('Datetime', inplace=True)  # set the date time as index\n",
    "dd.head()\n",
    "\n"
   ]
  },
  {
   "cell_type": "code",
   "execution_count": 25,
   "metadata": {},
   "outputs": [
    {
     "data": {
      "text/plain": [
       "<Figure size 640x480 with 1 Axes>"
      ]
     },
     "metadata": {},
     "output_type": "display_data"
    }
   ],
   "source": [
    "#lets plot our first graph just for fun\n",
    "import matplotlib.pyplot as plt\n",
    "plt.plot(dd)\n",
    "plt.show()"
   ]
  },
  {
   "cell_type": "code",
   "execution_count": 26,
   "metadata": {},
   "outputs": [
    {
     "name": "stdout",
     "output_type": "stream",
     "text": [
      "2018-10-11 12:08:05\n",
      "1539259685.0\n"
     ]
    }
   ],
   "source": [
    "#lets see how we convert from unix timestamp to python datetime then back to unix timestamp\n",
    "from datetime import timezone\n",
    "t=pd.to_datetime(1539259685,unit='s')   #Thursday, 11 October 2018 12:08:05\n",
    "print(t)\n",
    "print(t.timestamp())  #back to unix timestamp\n",
    "\n"
   ]
  },
  {
   "cell_type": "markdown",
   "metadata": {},
   "source": [
    "## Exercise 3\n",
    "\n",
    "Load remote_v3.csv and set the datetime to index (firstly convert to python datetime) then plot the scatter plot. Then select only data from 2017-08-11 09:00:00 to 2017-08-11 23:00:00 and plot the scatter plot\n"
   ]
  },
  {
   "cell_type": "code",
   "execution_count": 27,
   "metadata": {},
   "outputs": [
    {
     "data": {
      "text/html": [
       "<div>\n",
       "<style scoped>\n",
       "    .dataframe tbody tr th:only-of-type {\n",
       "        vertical-align: middle;\n",
       "    }\n",
       "\n",
       "    .dataframe tbody tr th {\n",
       "        vertical-align: top;\n",
       "    }\n",
       "\n",
       "    .dataframe thead th {\n",
       "        text-align: right;\n",
       "    }\n",
       "</style>\n",
       "<table border=\"1\" class=\"dataframe\">\n",
       "  <thead>\n",
       "    <tr style=\"text-align: right;\">\n",
       "      <th></th>\n",
       "      <th>time</th>\n",
       "      <th>value</th>\n",
       "    </tr>\n",
       "  </thead>\n",
       "  <tbody>\n",
       "    <tr>\n",
       "      <th>0</th>\n",
       "      <td>2017-08-11 00:00:00+08:00</td>\n",
       "      <td>0.0</td>\n",
       "    </tr>\n",
       "    <tr>\n",
       "      <th>1</th>\n",
       "      <td>2017-08-11 00:03:00+08:00</td>\n",
       "      <td>0.0</td>\n",
       "    </tr>\n",
       "    <tr>\n",
       "      <th>2</th>\n",
       "      <td>2017-08-11 00:06:00+08:00</td>\n",
       "      <td>0.0</td>\n",
       "    </tr>\n",
       "    <tr>\n",
       "      <th>3</th>\n",
       "      <td>2017-08-11 00:09:00+08:00</td>\n",
       "      <td>0.0</td>\n",
       "    </tr>\n",
       "    <tr>\n",
       "      <th>4</th>\n",
       "      <td>2017-08-11 00:12:00+08:00</td>\n",
       "      <td>0.0</td>\n",
       "    </tr>\n",
       "  </tbody>\n",
       "</table>\n",
       "</div>"
      ],
      "text/plain": [
       "                        time  value\n",
       "0  2017-08-11 00:00:00+08:00    0.0\n",
       "1  2017-08-11 00:03:00+08:00    0.0\n",
       "2  2017-08-11 00:06:00+08:00    0.0\n",
       "3  2017-08-11 00:09:00+08:00    0.0\n",
       "4  2017-08-11 00:12:00+08:00    0.0"
      ]
     },
     "execution_count": 27,
     "metadata": {},
     "output_type": "execute_result"
    }
   ],
   "source": [
    "import numpy as np\n",
    "import pandas as pd\n",
    "from datetime import timezone\n",
    "dd=pd.read_csv('remote_v3.csv')\n",
    "dd.head()\n",
    "\n",
    "\n"
   ]
  },
  {
   "cell_type": "code",
   "execution_count": 28,
   "metadata": {},
   "outputs": [
    {
     "data": {
      "text/html": [
       "<div>\n",
       "<style scoped>\n",
       "    .dataframe tbody tr th:only-of-type {\n",
       "        vertical-align: middle;\n",
       "    }\n",
       "\n",
       "    .dataframe tbody tr th {\n",
       "        vertical-align: top;\n",
       "    }\n",
       "\n",
       "    .dataframe thead th {\n",
       "        text-align: right;\n",
       "    }\n",
       "</style>\n",
       "<table border=\"1\" class=\"dataframe\">\n",
       "  <thead>\n",
       "    <tr style=\"text-align: right;\">\n",
       "      <th></th>\n",
       "      <th>value</th>\n",
       "    </tr>\n",
       "    <tr>\n",
       "      <th>time</th>\n",
       "      <th></th>\n",
       "    </tr>\n",
       "  </thead>\n",
       "  <tbody>\n",
       "    <tr>\n",
       "      <th>2017-08-11 00:00:00+00:00</th>\n",
       "      <td>0.0</td>\n",
       "    </tr>\n",
       "    <tr>\n",
       "      <th>2017-08-11 00:03:00+00:00</th>\n",
       "      <td>0.0</td>\n",
       "    </tr>\n",
       "    <tr>\n",
       "      <th>2017-08-11 00:06:00+00:00</th>\n",
       "      <td>0.0</td>\n",
       "    </tr>\n",
       "    <tr>\n",
       "      <th>2017-08-11 00:09:00+00:00</th>\n",
       "      <td>0.0</td>\n",
       "    </tr>\n",
       "    <tr>\n",
       "      <th>2017-08-11 00:12:00+00:00</th>\n",
       "      <td>0.0</td>\n",
       "    </tr>\n",
       "  </tbody>\n",
       "</table>\n",
       "</div>"
      ],
      "text/plain": [
       "                           value\n",
       "time                            \n",
       "2017-08-11 00:00:00+00:00    0.0\n",
       "2017-08-11 00:03:00+00:00    0.0\n",
       "2017-08-11 00:06:00+00:00    0.0\n",
       "2017-08-11 00:09:00+00:00    0.0\n",
       "2017-08-11 00:12:00+00:00    0.0"
      ]
     },
     "execution_count": 28,
     "metadata": {},
     "output_type": "execute_result"
    }
   ],
   "source": [
    "dd['time']=pd.to_datetime(dd['time'],format='%Y-%m-%d %H:%M:%S+08:00',utc=True) #convert string to datetime\n",
    "#tt=pd.to_datetime(dd['time'],format='%Y-%m-%d %H:%M:%S',utc=True) #convert string to datetime\n",
    "#dd['time']=(dd['time'].astype(np.int64)) /100000000   #convert to second\n",
    "dd.set_index('time', inplace=True)\n",
    "dd.head()\n"
   ]
  },
  {
   "cell_type": "code",
   "execution_count": 29,
   "metadata": {},
   "outputs": [
    {
     "data": {
      "image/png": "[encoded data removed]",
      "text/plain": [
       "<Figure size 432x288 with 1 Axes>"
      ]
     },
     "metadata": {},
     "output_type": "display_data"
    }
   ],
   "source": [
    "import matplotlib.pyplot as plt\n",
    "plt.plot(dd)\n",
    "plt.show()"
   ]
  },
  {
   "cell_type": "code",
   "execution_count": 30,
   "metadata": {},
   "outputs": [
    {
     "data": {
      "image/png": "[encoded data removed]",
      "text/plain": [
       "<Figure size 432x288 with 1 Axes>"
      ]
     },
     "metadata": {},
     "output_type": "display_data"
    }
   ],
   "source": [
    "aa= dd['2017-08-11 09:00:00':'2017-08-11 23:00:00']\n",
    "plt.plot(aa)\n",
    "plt.show()"
   ]
  }
 ],
 "metadata": {
  "kernelspec": {
   "display_name": "Python 3",
   "language": "python",
   "name": "python3"
  },
  "language_info": {
   "codemirror_mode": {
    "name": "ipython",
    "version": 3
   },
   "file_extension": ".py",
   "mimetype": "text/x-python",
   "name": "python",
   "nbconvert_exporter": "python",
   "pygments_lexer": "ipython3",
   "version": "3.5.3"
  }
 },
 "nbformat": 4,
 "nbformat_minor": 2
}
