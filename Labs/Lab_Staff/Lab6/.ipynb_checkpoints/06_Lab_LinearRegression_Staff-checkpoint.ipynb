{
 "cells": [
  {
   "cell_type": "markdown",
   "metadata": {},
   "source": [
    "# Engineering Analytics and Machine Learning Lab 6\n",
    "## for Specialist Diploma in Internet of Things\n",
    "\n",
    "### Author’s Name: Teo Kok Keong\n",
    "\n",
    "### Property of Temasek Polytechnic, Copyright ©.\n",
    "### For circulation within Temasek Polytechnic only.\n",
    "\n"
   ]
  },
  {
   "cell_type": "markdown",
   "metadata": {},
   "source": [
    "# 1 Supervised Learning: Simple Linear Model for Regression\n",
    "\n",
    "The simplest example of a simple linear regression would be to fitting a line to (x,y) data. We are using commonly use Scikit Learning model in this course.\n",
    "You may follow the below link to learn more and in detail of the package:\n",
    "\n",
    "[http://scikit-learn.org/stable/#](http://scikit-learn.org/stable/#)\n"
   ]
  },
  {
   "cell_type": "markdown",
   "metadata": {},
   "source": [
    "## 1.1 Simple  Model Linear Regression with Scikit Learning\n",
    "\n",
    "Let use a randomly generated data to go through the steps to learning USING Scikit learning. In this example, we are using Generalized Linear model available in Scikit. For more information refer to:\n",
    "\n",
    "[http://scikit-learn.org/stable/supervised_learning.html](http://scikit-learn.org/stable/supervised_learning.html)\n",
    "\n",
    "\n",
    "Commonmly steps in using the Scikit-Learn estimator API:\n",
    "\n",
    "1. Choose a class of model by importing the appropriate estimator class from Scikit-Learn\n",
    "2. Choose model hyperparameters by instantiating this class with desired values\n",
    "3. Arrange data into a feature matrix and target vector \n",
    "4. Fit the model to data by call the fic() method of the model instance.\n",
    "5. Apply the model to new data:\n",
    "   - For supervised learning, we predict labels for unknown data using the predict() methhod\n",
    "   - For unsupervised learning, we often transform or infer properties of the data using the transform or predict() methods"
   ]
  },
  {
   "cell_type": "code",
   "execution_count": 1,
   "metadata": {},
   "outputs": [
    {
     "data": {
      "text/plain": [
       "<matplotlib.collections.PathCollection at 0x202d9d44da0>"
      ]
     },
     "execution_count": 1,
     "metadata": {},
     "output_type": "execute_result"
    },
    {
     "data": {
      "image/png": "[encoded data removed]",
      "text/plain": [
       "<Figure size 432x288 with 1 Axes>"
      ]
     },
     "metadata": {},
     "output_type": "display_data"
    }
   ],
   "source": [
    "%matplotlib inline\n",
    "#import library required\n",
    "import matplotlib.pyplot as plt\n",
    "plt.style.use('seaborn-whitegrid') #set t he stype to use\n",
    "import numpy as np\n",
    "\n",
    "rn=np.random.RandomState(30) #set the seed for reproducibility\n",
    "x=10*rn.rand(50) #produce 10 reandom number\n",
    "a=2  # the slope of the line\n",
    "c=5 #y insterseciton of the line\n",
    "\n",
    "y=a*x+-1+rn.randn(50)\n",
    "ax=plt.axes()\n",
    "ax.scatter(x,y)"
   ]
  },
  {
   "cell_type": "code",
   "execution_count": 2,
   "metadata": {},
   "outputs": [
    {
     "name": "stdout",
     "output_type": "stream",
     "text": [
      "(50,)\n",
      "(50, 1)\n",
      "[2.02341135]\n",
      "-1.2628188060722358\n"
     ]
    },
    {
     "data": {
      "text/plain": [
       "[<matplotlib.lines.Line2D at 0x202d9db44e0>]"
      ]
     },
     "execution_count": 2,
     "metadata": {},
     "output_type": "execute_result"
    },
    {
     "data": {
      "image/png": "[encoded data removed]",
      "text/plain": [
       "<Figure size 432x288 with 1 Axes>"
      ]
     },
     "metadata": {},
     "output_type": "display_data"
    }
   ],
   "source": [
    "#use a sklearn linear model to fit the data\n",
    "from sklearn.linear_model import LinearRegression     #step 1\n",
    "model=LinearRegression(fit_intercept=True)            #step 2\n",
    "print(x.shape)\n",
    "X=x[:,np.newaxis]                                     #step 3\n",
    "print(X.shape)\n",
    "model.fit(X,y)                                        #step 4 \n",
    "print(model.coef_)         #print the coeffficents\n",
    "print(model.intercept_)    #print the incept value             \n",
    "xfit=np.linspace(-1,11)\n",
    "xfit=xfit[:,np.newaxis]\n",
    "yfit=model.predict(xfit)                            #step 5\n",
    "plt.scatter(x,y)\n",
    "plt.plot(xfit,yfit,c='r')"
   ]
  },
  {
   "cell_type": "markdown",
   "metadata": {},
   "source": [
    "## 1.2 Simple data with Housing Dataset\n",
    "\n",
    "Let's try our hand on some housing data where we try to predict the price based on other attributes included in the csv file. Let's load the housing.csv file and take a look at the first few rows of the data and also check the info to ensure that the data is cleaned. If the data is not cleaned, further processing had to be done to clean before proceeding to prediction."
   ]
  },
  {
   "cell_type": "code",
   "execution_count": 3,
   "metadata": {},
   "outputs": [
    {
     "name": "stdout",
     "output_type": "stream",
     "text": [
      "   Unnamed: 0    price  lotsize  bedrooms  bathrms  stories driveway recroom  \\\n",
      "0           1  42000.0     5850         3        1        2      yes      no   \n",
      "1           2  38500.0     4000         2        1        1      yes      no   \n",
      "2           3  49500.0     3060         3        1        1      yes      no   \n",
      "3           4  60500.0     6650         3        1        2      yes     yes   \n",
      "4           5  61000.0     6360         2        1        1      yes      no   \n",
      "\n",
      "  fullbase gashw airco  garagepl prefarea  \n",
      "0      yes    no    no         1       no  \n",
      "1       no    no    no         0       no  \n",
      "2       no    no    no         0       no  \n",
      "3       no    no    no         0       no  \n",
      "4       no    no    no         0       no  \n",
      "<class 'pandas.core.frame.DataFrame'>\n",
      "RangeIndex: 546 entries, 0 to 545\n",
      "Data columns (total 13 columns):\n",
      "Unnamed: 0    546 non-null int64\n",
      "price         546 non-null float64\n",
      "lotsize       546 non-null int64\n",
      "bedrooms      546 non-null int64\n",
      "bathrms       546 non-null int64\n",
      "stories       546 non-null int64\n",
      "driveway      546 non-null object\n",
      "recroom       546 non-null object\n",
      "fullbase      546 non-null object\n",
      "gashw         546 non-null object\n",
      "airco         546 non-null object\n",
      "garagepl      546 non-null int64\n",
      "prefarea      546 non-null object\n",
      "dtypes: float64(1), int64(6), object(6)\n",
      "memory usage: 55.5+ KB\n",
      "None\n",
      "       Unnamed: 0          price       lotsize    bedrooms     bathrms  \\\n",
      "count  546.000000     546.000000    546.000000  546.000000  546.000000   \n",
      "mean   273.500000   68121.597070   5150.265568    2.965201    1.285714   \n",
      "std    157.760895   26702.670926   2168.158725    0.737388    0.502158   \n",
      "min      1.000000   25000.000000   1650.000000    1.000000    1.000000   \n",
      "25%    137.250000   49125.000000   3600.000000    2.000000    1.000000   \n",
      "50%    273.500000   62000.000000   4600.000000    3.000000    1.000000   \n",
      "75%    409.750000   82000.000000   6360.000000    3.000000    2.000000   \n",
      "max    546.000000  190000.000000  16200.000000    6.000000    4.000000   \n",
      "\n",
      "          stories    garagepl  \n",
      "count  546.000000  546.000000  \n",
      "mean     1.807692    0.692308  \n",
      "std      0.868203    0.861307  \n",
      "min      1.000000    0.000000  \n",
      "25%      1.000000    0.000000  \n",
      "50%      2.000000    0.000000  \n",
      "75%      2.000000    1.000000  \n",
      "max      4.000000    3.000000  \n"
     ]
    }
   ],
   "source": [
    "import numpy as np\n",
    "import pandas as pd\n",
    "from sklearn.metrics import mean_squared_error\n",
    "\n",
    "df=pd.read_csv('housing.csv')   \n",
    "print(df.head())\n",
    "print(df.info())\n",
    "print(df.describe())\n"
   ]
  },
  {
   "cell_type": "markdown",
   "metadata": {},
   "source": [
    "We start using lotsize to predict the price of the house."
   ]
  },
  {
   "cell_type": "code",
   "execution_count": 4,
   "metadata": {},
   "outputs": [
    {
     "data": {
      "text/plain": [
       "Text(0.5,1,'Test data of Price vs lot size')"
      ]
     },
     "execution_count": 4,
     "metadata": {},
     "output_type": "execute_result"
    },
    {
     "data": {
      "image/png": "[encoded data removed]",
      "text/plain": [
       "<Figure size 432x288 with 1 Axes>"
      ]
     },
     "metadata": {},
     "output_type": "display_data"
    }
   ],
   "source": [
    "#prepare data which is step 3\n",
    "Y = df['price']  #price is the target, Y\n",
    "X = df['lotsize']  #lotsize is the attribute, X\n",
    "X=X.values.reshape(len(X),1)   #convert to \n",
    "Y=Y.values.reshape(len(Y),1)\n",
    " \n",
    "# Split the data into training/testing sets\n",
    "X_train = X[:-250]    #first 250 is training data\n",
    "X_test = X[-250:]     #the rest are test data\n",
    " \n",
    "# Split the targets into training/testing sets\n",
    "Y_train = Y[:-250]\n",
    "Y_test = Y[-250:]\n",
    "ax=plt.axes()\n",
    "ax.scatter(X_test,Y_test)\n",
    "ax.set_xlabel('lotsize')\n",
    "ax.set_ylabel('price')\n",
    "ax.set_title(\"Test data of Price vs lot size\")"
   ]
  },
  {
   "cell_type": "code",
   "execution_count": 5,
   "metadata": {},
   "outputs": [
    {
     "name": "stdout",
     "output_type": "stream",
     "text": [
      "[[6.13186178]]\n",
      "[30963.20639361]\n",
      "725949564.3930496\n"
     ]
    },
    {
     "data": {
      "image/png": "[encoded data removed]",
      "text/plain": [
       "<Figure size 432x288 with 1 Axes>"
      ]
     },
     "metadata": {},
     "output_type": "display_data"
    }
   ],
   "source": [
    "from sklearn.linear_model import LinearRegression     #step 1\n",
    "modelP=LinearRegression(fit_intercept=True)           #step 2\n",
    "\n",
    "modelP.fit(X_train,Y_train)                          #step 4\n",
    "\n",
    "\n",
    "print(modelP.coef_)\n",
    "print(modelP.intercept_)\n",
    "\n",
    "yfit=modelP.predict(X_test)                        #step 5\n",
    "plt.scatter(X_test,Y_test)\n",
    "plt.plot(X_test,yfit,c='r')\n",
    "err1=mean_squared_error(Y_test,yfit)\n",
    "print(err1)"
   ]
  },
  {
   "cell_type": "markdown",
   "metadata": {},
   "source": [
    "## 1.3 Predication Performance Improvement\n",
    "\n",
    "Obviously there is lot of room for improvement. Let's try various simple methods to improve the performance. Start by using train_test_split function provided by sklearn."
   ]
  },
  {
   "cell_type": "code",
   "execution_count": 6,
   "metadata": {},
   "outputs": [
    {
     "name": "stdout",
     "output_type": "stream",
     "text": [
      "525330745.02119094\n"
     ]
    }
   ],
   "source": [
    "from sklearn.model_selection import train_test_split\n",
    "from sklearn.metrics import mean_squared_error\n",
    "\n",
    "modelG=LinearRegression(fit_intercept=True)\n",
    "x1,x2,y1,y2=train_test_split(X,Y,random_state=0,test_size=0.5)  #to randomly spilt data to train and test\n",
    "modelG.fit(x1,y1)\n",
    "y2_model=modelG.predict(x2)\n",
    "err2=mean_squared_error(y2,y2_model)\n",
    "print(err2)"
   ]
  },
  {
   "cell_type": "code",
   "execution_count": 7,
   "metadata": {},
   "outputs": [
    {
     "name": "stdout",
     "output_type": "stream",
     "text": [
      "improvement in accuracy (%) :\n",
      "27.635366038078917\n",
      "we can see a immediate reduction in error\n"
     ]
    }
   ],
   "source": [
    "print('improvement in accuracy (%) :')\n",
    "print(((err1-err2)/err1)*100)\n",
    "print(\"we can see a immediate reduction in error\")"
   ]
  },
  {
   "cell_type": "markdown",
   "metadata": {},
   "source": [
    "\n",
    "\n",
    "\n",
    "\n"
   ]
  },
  {
   "cell_type": "code",
   "execution_count": 8,
   "metadata": {},
   "outputs": [
    {
     "name": "stdout",
     "output_type": "stream",
     "text": [
      "459385724.43571514\n"
     ]
    }
   ],
   "source": [
    "#add in more attributes for learning and we prepare our dta here\n",
    "X=np.array([df['lotsize'], df['bedrooms']]) #using two attributes, lotsize and bedrooms for prediction.\n",
    "X=X.T\n",
    "modelB=LinearRegression(fit_intercept=True)\n",
    "x1,x2,y1,y2=train_test_split(X,Y,random_state=0,test_size=0.5)\n",
    "modelB.fit(x1,y1)\n",
    "y2_modelB=modelB.predict(x2)\n",
    "err3=mean_squared_error(y2,y2_modelB)\n",
    "print(err3)\n",
    "\n",
    "\n"
   ]
  },
  {
   "cell_type": "markdown",
   "metadata": {},
   "source": [
    "As we can see the square error is worst then having only lotsize alone. Let's try to add in one more attribute : driveway. Only there is one issue, driveway contain text either 'yes' or 'no'. Thus we need to convert these text to numerical value. Below is the code to encode \"no\" or \"yes\" to 0 and 1 using sklearn preprocessing LabelEncoder."
   ]
  },
  {
   "cell_type": "code",
   "execution_count": 9,
   "metadata": {},
   "outputs": [
    {
     "name": "stdout",
     "output_type": "stream",
     "text": [
      "['no', 'yes']\n",
      "   Unnamed: 0    price  lotsize  bedrooms  bathrms  stories  driveway recroom  \\\n",
      "0           1  42000.0     5850         3        1        2         1      no   \n",
      "1           2  38500.0     4000         2        1        1         1      no   \n",
      "2           3  49500.0     3060         3        1        1         1      no   \n",
      "3           4  60500.0     6650         3        1        2         1     yes   \n",
      "4           5  61000.0     6360         2        1        1         1      no   \n",
      "\n",
      "  fullbase gashw airco  garagepl prefarea  \n",
      "0      yes    no    no         1       no  \n",
      "1       no    no    no         0       no  \n",
      "2       no    no    no         0       no  \n",
      "3       no    no    no         0       no  \n",
      "4       no    no    no         0       no  \n"
     ]
    }
   ],
   "source": [
    "from sklearn import preprocessing \n",
    "# encode class values as integers\n",
    "le = preprocessing.LabelEncoder() #create an encoder instance\n",
    "le.fit([\"no\", \"yes\"])             #fit the encoder with two string \"no\" and \"yes\"\n",
    "print(list(list(le.classes_)))\n",
    "df['driveway']=le.transform(df['driveway'])    #to transform df['driveway'] value of yes and no to 1 and 0\n",
    "print(df.head())\n"
   ]
  },
  {
   "cell_type": "code",
   "execution_count": 10,
   "metadata": {},
   "outputs": [
    {
     "name": "stdout",
     "output_type": "stream",
     "text": [
      "343624214.3735021\n"
     ]
    }
   ],
   "source": [
    "#once driveway is properly encoded to numberic, we can proceed to train a model with them\n",
    "modelC=LinearRegression(fit_intercept=True)\n",
    "X=np.array([df['lotsize'], df['bedrooms'],df['driveway'],df['bathrms']])\n",
    "X=X.T\n",
    "modelB=LinearRegression(fit_intercept=True)\n",
    "x1,x2,y1,y2=train_test_split(X,Y,random_state=0,test_size=0.2)\n",
    "modelC.fit(x1,y1)\n",
    "y2_modelC=modelC.predict(x2)\n",
    "err4=mean_squared_error(y2,y2_modelC)\n",
    "print(err4)"
   ]
  },
  {
   "cell_type": "markdown",
   "metadata": {},
   "source": [
    "## Exercise 1\n",
    "\n",
    "Please add more paramters from housing data to futher improve the prediction."
   ]
  },
  {
   "cell_type": "code",
   "execution_count": 11,
   "metadata": {},
   "outputs": [
    {
     "name": "stdout",
     "output_type": "stream",
     "text": [
      "395723547.47503823\n"
     ]
    }
   ],
   "source": [
    "# your code start here\n",
    "\n",
    "modelC=LinearRegression(fit_intercept=True)\n",
    "df['fullbase']=le.transform(df['fullbase'])    #to transform df['driveway'] value of yes and no to 1 and 0\n",
    "#print(df.head())\n",
    "X=np.array([df['lotsize'], df['bedrooms'],df['driveway'],df['stories'],df['fullbase']])\n",
    "X=X.T\n",
    "modelB=LinearRegression(fit_intercept=True)\n",
    "x1,x2,y1,y2=train_test_split(X,Y,random_state=0,test_size=0.2)\n",
    "modelC.fit(x1,y1)\n",
    "y2_modelC=modelC.predict(x2)\n",
    "err5=mean_squared_error(y2,y2_modelC)\n",
    "print(err5)\n"
   ]
  },
  {
   "cell_type": "markdown",
   "metadata": {},
   "source": [
    "## 1.3 Bayesian Regression Model\n",
    "\n",
    "Bayesian regression techniques can be used to include regularization parameters in the estimation procedure: the regularization parameter is not set in a hard sense but tuned to the data at hand.\n",
    "\n",
    "This can be done by introducing uninformative priors over the hyper parameters of the model. The  regularization used in Ridge Regression is equivalent to finding a maximum a posteriori estimation under a Gaussian prior over the parameters with precision . Instead of setting lambda manually, it is possible to treat it as a random variable to be estimated from the data.\n",
    "\n",
    "To obtain a fully probabilistic model, the output  is assumed to be Gaussian distributed around :\n",
    "\n",
    "Alpha is again treated as a random variable that is to be estimated from the data.\n",
    "\n",
    "The advantages of Bayesian Regression are:\n",
    "\n",
    "It adapts to the data at hand.\n",
    "It can be used to include regularization parameters in the estimation procedure.\n",
    "The disadvantages of Bayesian regression include:\n",
    "\n",
    "Inference of the model can be time consuming.\n",
    "\n",
    "Reference to the below link for the full documentation:\n",
    "\n",
    "[http://scikit-learn.org/stable/modules/generated/sklearn.linear_model.BayesianRidge.html#sklearn.linear_model.BayesianRidge](http://scikit-learn.org/stable/modules/generated/sklearn.linear_model.BayesianRidge.html#sklearn.linear_model.BayesianRidge)"
   ]
  },
  {
   "cell_type": "code",
   "execution_count": 12,
   "metadata": {},
   "outputs": [
    {
     "name": "stdout",
     "output_type": "stream",
     "text": [
      "504702118.2537281\n"
     ]
    }
   ],
   "source": [
    "import numpy as np\n",
    "from sklearn.linear_model import BayesianRidge\n",
    "from sklearn import preprocessing \n",
    "\n",
    "ModelBay=BayesianRidge(n_iter=1000,fit_intercept=True)\n",
    "X=np.array([df['lotsize'], df['bedrooms'],df['driveway']])\n",
    "X=X.T\n",
    "x1,x2,y1,y2=train_test_split(X,Y,random_state=0,test_size=0.2)\n",
    "#print(y1)\n",
    "ModelBay.fit(x1,y1.ravel())        # if y.shape == (10, 1), using y.ravel().shape == (10, )\n",
    "y2_ModelBay=ModelBay.predict(x2)\n",
    "err9=mean_squared_error(y2,y2_ModelBay)\n",
    "print(err9)"
   ]
  },
  {
   "cell_type": "markdown",
   "metadata": {},
   "source": [
    "## Exerise 2\n",
    "\n",
    "Use ARDRegression Linnear Model to predict the value of housing price. For detail documentation follow the url below:\n",
    "\n",
    "[http://scikitlearn.org/stable/modules/generated/sklearn.linear_model.ARDRegression.html#sklearn.linear_model.ARDRegression](http://scikitlearn.org/stable/modules/generated/sklearn.linear_model.ARDRegression.html#sklearn.linear_model.ARDRegression)"
   ]
  },
  {
   "cell_type": "code",
   "execution_count": 13,
   "metadata": {},
   "outputs": [
    {
     "name": "stdout",
     "output_type": "stream",
     "text": [
      "434619993.9021893\n"
     ]
    }
   ],
   "source": [
    "import numpy as np\n",
    "from sklearn.linear_model import ARDRegression\n",
    "ModelS=ARDRegression(n_iter=1000,fit_intercept=True)\n",
    "X=np.array([df['lotsize'], df['bedrooms'],df['driveway']])\n",
    "X=X.T\n",
    "x1,x2,y1,y2=train_test_split(X,Y,random_state=0,test_size=0.2)\n",
    "#print(y1)\n",
    "ModelS.fit(x1,y1.ravel())    # if y.shape == (10, 1), using y.ravel().shape == (10, )\n",
    "y2_ModelS=ModelS.predict(x2)\n",
    "err10=mean_squared_error(y2,y2_ModelS)\n",
    "print(err10)"
   ]
  },
  {
   "cell_type": "markdown",
   "metadata": {},
   "source": [
    "# 2 Simple Linear Regression for Classification\n",
    "\n",
    "\n",
    "\n"
   ]
  },
  {
   "cell_type": "markdown",
   "metadata": {},
   "source": [
    "Let start by loading the digit dataset is considered the \"Hello World\" in clasification. This dataset is avaliable in various sources and formats. The digit database is created by collecting 250 samples from 44 writers. The samples written by 30 writers are used for training, cross-validation and writer dependent testing, and the digits written by the other 14 are used for writer independent testing. This database is also available in the UNIPEN format. We are going to load through sklearn in this case.\n",
    "\n",
    "More information on the digit dataset from Sickit:\n",
    "\n",
    "[http://scikit-learn.org/stable/auto_examples/datasets/plot_digits_last_image.html](http://scikit-learn.org/stable/auto_examples/datasets/plot_digits_last_image.html)\n",
    "\n",
    "Detail information on the digit dataset from UCI:\n",
    "\n",
    "[http://archive.ics.uci.edu/ml/datasets/Pen-Based+Recognition+of+Handwritten+Digits](http://archive.ics.uci.edu/ml/datasets/Pen-Based+Recognition+of+Handwritten+Digits)\n",
    "\n"
   ]
  },
  {
   "cell_type": "code",
   "execution_count": 14,
   "metadata": {},
   "outputs": [],
   "source": [
    "from sklearn import datasets\n",
    "import matplotlib.pyplot as plt\n",
    "# The digits dataset\n",
    "digits = datasets.load_digits()\n",
    "images_and_labels = list(zip(digits.images, digits.target))"
   ]
  },
  {
   "cell_type": "markdown",
   "metadata": {},
   "source": [
    "A dataset is a dictionary-like object that holds all the data and some metadata about the data. This data is stored in the .data member, which is a n_samples, n_features array. In the case of supervised problem, one or more response variables are stored in the .target member. More details on the different datasets can be found in the dedicated section.\n",
    "\n",
    "For instance, in the case of the digits dataset, digits.data gives access to the features that can be used to classify the digits samples:"
   ]
  },
  {
   "cell_type": "code",
   "execution_count": 15,
   "metadata": {},
   "outputs": [
    {
     "name": "stdout",
     "output_type": "stream",
     "text": [
      "1797\n",
      "[[ 0.  0.  5. ...  0.  0.  0.]\n",
      " [ 0.  0.  0. ... 10.  0.  0.]\n",
      " [ 0.  0.  0. ... 16.  9.  0.]\n",
      " ...\n",
      " [ 0.  0.  1. ...  6.  0.  0.]\n",
      " [ 0.  0.  2. ... 12.  0.  0.]\n",
      " [ 0.  0. 10. ... 12.  1.  0.]]\n"
     ]
    }
   ],
   "source": [
    "print(len(images_and_labels))\n",
    "print(digits.data)\n"
   ]
  },
  {
   "cell_type": "markdown",
   "metadata": {},
   "source": [
    "We can display the first 10 images of the digits forr us to have a better understanding of the dataset."
   ]
  },
  {
   "cell_type": "code",
   "execution_count": 16,
   "metadata": {},
   "outputs": [
    {
     "data": {
      "image/png": "[encoded data removed]",
      "text/plain": [
       "<Figure size 432x288 with 10 Axes>"
      ]
     },
     "metadata": {},
     "output_type": "display_data"
    }
   ],
   "source": [
    "for index, (image, label) in enumerate(images_and_labels[:10]):\n",
    "    plt.subplot(2, 5, index + 1)\n",
    "    plt.axis('off')\n",
    "    plt.imshow(image, cmap=plt.cm.gray_r, interpolation='nearest')\n",
    "    plt.title('Training: %i' % label)\n"
   ]
  },
  {
   "cell_type": "markdown",
   "metadata": {},
   "source": [
    "Let's load the next 10 for viewing"
   ]
  },
  {
   "cell_type": "code",
   "execution_count": 17,
   "metadata": {},
   "outputs": [
    {
     "data": {
      "image/png": "[encoded data removed]",
      "text/plain": [
       "<Figure size 432x288 with 10 Axes>"
      ]
     },
     "metadata": {},
     "output_type": "display_data"
    }
   ],
   "source": [
    "for index, (image, label) in enumerate(images_and_labels[10:20]):\n",
    "    plt.subplot(2, 5, index + 1)\n",
    "    plt.axis('off')\n",
    "    plt.imshow(image, cmap=plt.cm.gray_r, interpolation='nearest')\n",
    "    plt.title('Training: %i' % label)"
   ]
  },
  {
   "cell_type": "markdown",
   "metadata": {},
   "source": [
    "Let's start by preparing the data to the right format for linear regression"
   ]
  },
  {
   "cell_type": "code",
   "execution_count": 18,
   "metadata": {},
   "outputs": [
    {
     "name": "stdout",
     "output_type": "stream",
     "text": [
      "0.9416666666666667\n"
     ]
    }
   ],
   "source": [
    "from sklearn.model_selection import train_test_split\n",
    "from sklearn.linear_model import SGDClassifier\n",
    "from sklearn.metrics import accuracy_score\n",
    "\n",
    "classifier=SGDClassifier(max_iter=1000)\n",
    "n_samples = len(digits.images)\n",
    "data = digits.images.reshape((n_samples, -1))\n",
    "Xtrain, Xtest, ytrain, ytest=train_test_split(data,digits.target,random_state=0,test_size=0.2)\n",
    "classifier.fit(Xtrain,ytrain)\n",
    "ypredict=classifier.predict(Xtest)\n",
    "print(accuracy_score(ytest,ypredict))  #percentage of classification on the test data is correct"
   ]
  },
  {
   "cell_type": "markdown",
   "metadata": {},
   "source": [
    "It is really great to be able to achieve accuracy above 90% accuracy. However, this doesn't tell me what had gone wrong which would help us to improve the accuracy further. We will use seaborn to plot the confusion matrix which show us the frequency of miscalculation by our classifier."
   ]
  },
  {
   "cell_type": "code",
   "execution_count": 19,
   "metadata": {},
   "outputs": [
    {
     "data": {
      "text/plain": [
       "Text(96.18,0.5,'true value')"
      ]
     },
     "execution_count": 19,
     "metadata": {},
     "output_type": "execute_result"
    },
    {
     "data": {
      "image/png": "[encoded data removed]",
      "text/plain": [
       "<Figure size 432x288 with 1 Axes>"
      ]
     },
     "metadata": {},
     "output_type": "display_data"
    }
   ],
   "source": [
    "from sklearn.metrics import confusion_matrix\n",
    "import  seaborn as sns\n",
    "mat=confusion_matrix(ytest,ypredict)\n",
    "sns.heatmap(mat,square=True,annot=True,cbar=False)\n",
    "plt.xlabel('predicted value')\n",
    "plt.ylabel('true value')"
   ]
  },
  {
   "cell_type": "markdown",
   "metadata": {},
   "source": [
    "## Exercise 3\n",
    "\n",
    "Use GaussianNB linear model to perform classification on the digit dataset. Also plot the confusion matrix. \n",
    "\n",
    "For detail documentation follow the below url:\n",
    "\n",
    "[http://scikit-learn.org/stable/modules/generated/sklearn.naive_bayes.GaussianNB.html](http://scikit-learn.org/stable/modules/generated/sklearn.naive_bayes.GaussianNB.html)\n"
   ]
  },
  {
   "cell_type": "code",
   "execution_count": 20,
   "metadata": {},
   "outputs": [
    {
     "name": "stdout",
     "output_type": "stream",
     "text": [
      "0.825\n"
     ]
    }
   ],
   "source": [
    "from sklearn.model_selection import train_test_split\n",
    "from sklearn.naive_bayes import  GaussianNB\n",
    "from sklearn.metrics import accuracy_score\n",
    "\n",
    "classifier= GaussianNB()\n",
    "n_samples = len(digits.images)\n",
    "data = digits.images.reshape((n_samples, -1))\n",
    "Xtrain, Xtest, ytrain, ytest=train_test_split(data,digits.target,random_state=0,test_size=0.2)\n",
    "classifier.fit(Xtrain,ytrain)\n",
    "ypredict=classifier.predict(Xtest)\n",
    "print(accuracy_score(ytest,ypredict))"
   ]
  },
  {
   "cell_type": "code",
   "execution_count": 21,
   "metadata": {},
   "outputs": [
    {
     "data": {
      "text/plain": [
       "Text(96.18,0.5,'true value')"
      ]
     },
     "execution_count": 21,
     "metadata": {},
     "output_type": "execute_result"
    },
    {
     "data": {
      "image/png": "[encoded data removed]",
      "text/plain": [
       "<Figure size 432x288 with 1 Axes>"
      ]
     },
     "metadata": {},
     "output_type": "display_data"
    }
   ],
   "source": [
    "from sklearn.metrics import confusion_matrix\n",
    "import  seaborn as sns\n",
    "mat2=confusion_matrix(ytest,ypredict)\n",
    "sns.heatmap(mat2,square=True,annot=True,cbar=False)\n",
    "plt.xlabel('predicted value')\n",
    "plt.ylabel('true value')"
   ]
  },
  {
   "cell_type": "markdown",
   "metadata": {},
   "source": [
    "## Exercise 4 \n",
    "\n",
    "Use Linear Support Vector Classification (SVC) which belong to the SVM family to perform classification on the digit dataset. Also plot the confusion matrix.\n",
    "For detail documentation follow the below url:\n",
    "\n",
    "[http://scikit-learn.org/stable/modules/generated/sklearn.svm.LinearSVC.html#sklearn.svm.LinearSVC](http://scikit-learn.org/stable/modules/generated/sklearn.svm.LinearSVC.html#sklearn.svm.LinearSVC)"
   ]
  },
  {
   "cell_type": "code",
   "execution_count": 22,
   "metadata": {},
   "outputs": [
    {
     "name": "stdout",
     "output_type": "stream",
     "text": [
      "0.9444444444444444\n"
     ]
    }
   ],
   "source": [
    "from sklearn.model_selection import train_test_split\n",
    "from sklearn.svm import LinearSVC\n",
    "from sklearn.metrics import accuracy_score\n",
    "\n",
    "\n",
    "n_samples = len(digits.images)\n",
    "data = digits.images.reshape((n_samples, -1))\n",
    "\n",
    "\n",
    "n_samples = len(digits.images)\n",
    "data = digits.images.reshape((n_samples, -1))\n",
    "Xtrain, Xtest, ytrain, ytest=train_test_split(data,digits.target,random_state=0,test_size=0.2,shuffle=True)\n",
    "clf = LinearSVC(random_state=0, tol=1e-5)\n",
    "clf.fit(Xtrain, ytrain)\n",
    "y_pred=clf.predict(Xtest)\n",
    "\n",
    "print(accuracy_score(ytest,y_pred))"
   ]
  },
  {
   "cell_type": "code",
   "execution_count": 23,
   "metadata": {},
   "outputs": [
    {
     "data": {
      "text/plain": [
       "Text(96.18,0.5,'true value')"
      ]
     },
     "execution_count": 23,
     "metadata": {},
     "output_type": "execute_result"
    },
    {
     "data": {
      "image/png": "[encoded data removed]",
      "text/plain": [
       "<Figure size 432x288 with 1 Axes>"
      ]
     },
     "metadata": {},
     "output_type": "display_data"
    }
   ],
   "source": [
    "from sklearn.metrics import confusion_matrix\n",
    "import  seaborn as sns\n",
    "\n",
    "mat2=confusion_matrix(ytest,y_pred)\n",
    "sns.heatmap(mat2,square=True,annot=True,cbar=False)\n",
    "plt.xlabel('predicted value')\n",
    "plt.ylabel('true value')"
   ]
  },
  {
   "cell_type": "markdown",
   "metadata": {},
   "source": [
    "## Exercise 5 \n",
    "\n",
    "\n",
    "Use Decision Tree to perform classification on the digit dataset. Also plot the confusion matrix. For detail documentation follow the below url:\n",
    "\n",
    "[http://scikit-learn.org/stable/modules/tree.html#classification](http://scikit-learn.org/stable/modules/tree.html#classification)"
   ]
  },
  {
   "cell_type": "code",
   "execution_count": 24,
   "metadata": {},
   "outputs": [
    {
     "name": "stdout",
     "output_type": "stream",
     "text": [
      "0.85\n"
     ]
    }
   ],
   "source": [
    "from sklearn import tree\n",
    "n_samples = len(digits.images)\n",
    "data = digits.images.reshape((n_samples, -1))\n",
    "Xtrain, Xtest, ytrain, ytest=train_test_split(data,digits.target,random_state=0,test_size=0.2)\n",
    "clf =tree.DecisionTreeClassifier()\n",
    "clf.fit(Xtrain, ytrain)\n",
    "y_pred=clf.predict(Xtest)\n",
    "\n",
    "print(accuracy_score(ytest,y_pred))\n",
    "\n"
   ]
  },
  {
   "cell_type": "markdown",
   "metadata": {},
   "source": [
    "## Exercise 6\n",
    "\n",
    "Load Abalone.csb for classication task. Some information about the data:\n",
    "\n",
    "- Predicting the age of abalone from physical measurements. \n",
    "- The age of-abalone is determined by cutting the shell through the cone, staining it, and counting the number of rings through a microscope \n",
    "- a boring andtime-consuming task.  \n",
    "- Other measurements, which are easier to obtain, areused to predict the age.  \n",
    "\n",
    "Attributes:\n",
    "  - 1   sex                 u  M F I\t# Gender or Infant (I)\n",
    "  - 2   length              u  (0,Inf]\t# Longest shell measurement (mm)\n",
    "  - 3   diameter            u  (0,Inf]\t# perpendicular to length     (mm)\n",
    "  - 4   height              u  (0,Inf]\t# with meat in shell (mm)\n",
    "  - 5   whole_weight        u  (0,Inf]\t# whole abalone  (gr)\n",
    "  - 6   shucked_weight      u  (0,Inf]\t# weight of meat (gr)    \n",
    "  - 7   viscera_weight      u  (0,Inf]\t# gut weight (after bleeding) (gr)\n",
    "  - 8   shell_weight        u  (0,Inf]\t# after being dried (gr)\n",
    "  - 9   rings               u  0..29\t# +1.5 gives the age in years"
   ]
  },
  {
   "cell_type": "code",
   "execution_count": 25,
   "metadata": {},
   "outputs": [
    {
     "name": "stdout",
     "output_type": "stream",
     "text": [
      "  Sex  Length  Diameter  Height  Whole_weight  Shucked_weight  Viscera_weight  \\\n",
      "0   M   0.455     0.365   0.095        0.5140          0.2245          0.1010   \n",
      "1   M   0.350     0.265   0.090        0.2255          0.0995          0.0485   \n",
      "2   F   0.530     0.420   0.135        0.6770          0.2565          0.1415   \n",
      "3   M   0.440     0.365   0.125        0.5160          0.2155          0.1140   \n",
      "4   I   0.330     0.255   0.080        0.2050          0.0895          0.0395   \n",
      "\n",
      "   Shell_weigh  Rings  \n",
      "0        0.150     15  \n",
      "1        0.070      7  \n",
      "2        0.210      9  \n",
      "3        0.155     10  \n",
      "4        0.055      7  \n",
      "['F', 'I', 'M']\n",
      "   Sex  Length  Diameter  Height  Whole_weight  Shucked_weight  \\\n",
      "0    2   0.455     0.365   0.095        0.5140          0.2245   \n",
      "1    2   0.350     0.265   0.090        0.2255          0.0995   \n",
      "2    0   0.530     0.420   0.135        0.6770          0.2565   \n",
      "3    2   0.440     0.365   0.125        0.5160          0.2155   \n",
      "4    1   0.330     0.255   0.080        0.2050          0.0895   \n",
      "\n",
      "   Viscera_weight  Shell_weigh  \n",
      "0          0.1010        0.150  \n",
      "1          0.0485        0.070  \n",
      "2          0.1415        0.210  \n",
      "3          0.1140        0.155  \n",
      "4          0.0395        0.055  \n",
      "(4177, 8)\n",
      "(4177, 8)\n",
      "0.24162679425837322\n"
     ]
    }
   ],
   "source": [
    "import numpy as np\n",
    "import pandas as pd\n",
    "ddf=pd.read_csv('abalone/abalone_data.csv')\n",
    "print(ddf.head())\n",
    "from sklearn import preprocessing \n",
    "from sklearn.linear_model import SGDClassifier\n",
    "from sklearn.model_selection import train_test_split\n",
    "# encode class values as integers\n",
    "le = preprocessing.LabelEncoder() #create an encoder instance\n",
    "le.fit([\"M\", \"F\",\"I\"])             #fit the encoder with three string \"M\", \"F\" and \"I\"\n",
    "print(list(list(le.classes_)))\n",
    "\n",
    "ddf['Sex']=le.transform(ddf['Sex'])    #to transform df['driveway'] value of yes and no to 1 and 0\n",
    "\n",
    "target=ddf['Rings']\n",
    "ddf.drop('Rings',axis=1, inplace=True)\n",
    "print(ddf.head())\n",
    "n_samples = len(ddf)\n",
    "print(ddf.shape)\n",
    "ddf = ddf.values.reshape((n_samples, -1))\n",
    "print(ddf.shape)\n",
    "Xtrain, Xtest, ytrain, ytest=train_test_split(ddf,target,random_state=0,test_size=0.2,shuffle=True)\n",
    "clf = SGDClassifier(random_state=0, tol=1e-5)\n",
    "classifier.fit(Xtrain,ytrain)\n",
    "ypredict=classifier.predict(Xtest)\n",
    "print(accuracy_score(ytest,ypredict))\n",
    "\n"
   ]
  },
  {
   "cell_type": "code",
   "execution_count": 26,
   "metadata": {},
   "outputs": [
    {
     "data": {
      "text/plain": [
       "Text(73.5,0.5,'true value')"
      ]
     },
     "execution_count": 26,
     "metadata": {},
     "output_type": "execute_result"
    },
    {
     "data": {
      "image/png": "[encoded data removed]",
      "text/plain": [
       "<Figure size 720x720 with 1 Axes>"
      ]
     },
     "metadata": {},
     "output_type": "display_data"
    }
   ],
   "source": [
    "from sklearn.metrics import confusion_matrix\n",
    "import  seaborn as sns\n",
    "plt.figure(figsize = (10,10))\n",
    "mat2=confusion_matrix(ytest,ypredict)\n",
    "sns.heatmap(mat2,square=False,annot=True,cbar=False)\n",
    "plt.xlabel('predicted value')\n",
    "plt.ylabel('true value')\n"
   ]
  },
  {
   "cell_type": "code",
   "execution_count": 27,
   "metadata": {},
   "outputs": [
    {
     "name": "stdout",
     "output_type": "stream",
     "text": [
      "[ 1  2  3  4  5  6  7  8  9 10 11 12 13 14 15 16 17 18 19 20 21 22 23 24\n",
      " 25 26 27 29]\n",
      "[  1   1  15  57 115 259 391 568 689 634 487 267 203 126 103  67  58  42\n",
      "  32  26  14   6   9   2   1   1   2   1]\n"
     ]
    },
    {
     "data": {
      "image/png": "[encoded data removed]",
      "text/plain": [
       "<Figure size 432x288 with 1 Axes>"
      ]
     },
     "metadata": {},
     "output_type": "display_data"
    }
   ],
   "source": [
    "ax=plt.axes()\n",
    "ax.hist(target)\n",
    "unique, counts = np.unique(target, return_counts=True)\n",
    "print(unique)\n",
    "print(counts)"
   ]
  },
  {
   "cell_type": "code",
   "execution_count": 28,
   "metadata": {},
   "outputs": [
    {
     "name": "stdout",
     "output_type": "stream",
     "text": [
      "[ 1  2  3  4  5  6  7  8  9 10 11 12 13 14 15 16 17 18 19 20 21 22 23 24\n",
      " 25 26 27]\n",
      "[  1   1  10  46  82 212 293 455 562 527 392 201 164 100  85  53  48  37\n",
      "  24  18  12   5   7   2   1   1   2]\n"
     ]
    },
    {
     "data": {
      "image/png": "[encoded data removed]",
      "text/plain": [
       "<Figure size 432x288 with 1 Axes>"
      ]
     },
     "metadata": {},
     "output_type": "display_data"
    }
   ],
   "source": [
    "ax=plt.axes()\n",
    "ax.hist(ytrain)\n",
    "unique, counts = np.unique(ytrain, return_counts=True)\n",
    "print(unique)\n",
    "print(counts)"
   ]
  },
  {
   "cell_type": "code",
   "execution_count": 29,
   "metadata": {},
   "outputs": [
    {
     "name": "stdout",
     "output_type": "stream",
     "text": [
      "[ 3  4  5  6  7  8  9 10 11 12 13 14 15 16 17 18 19 20 21 22 23 29]\n",
      "[  5  11  33  47  98 113 127 107  95  66  39  26  18  14  10   5   8   8\n",
      "   2   1   2   1]\n"
     ]
    },
    {
     "data": {
      "image/png": "[encoded data removed]",
      "text/plain": [
       "<Figure size 432x288 with 1 Axes>"
      ]
     },
     "metadata": {},
     "output_type": "display_data"
    }
   ],
   "source": [
    "ax=plt.axes()\n",
    "ax.hist(ytest)\n",
    "unique, counts = np.unique(ytest, return_counts=True)\n",
    "print(unique)\n",
    "print(counts)"
   ]
  },
  {
   "cell_type": "code",
   "execution_count": 30,
   "metadata": {},
   "outputs": [
    {
     "ename": "FileNotFoundError",
     "evalue": "File b'abalone_data.csv' does not exist",
     "output_type": "error",
     "traceback": [
      "\u001b[1;31m---------------------------------------------------------------------------\u001b[0m",
      "\u001b[1;31mFileNotFoundError\u001b[0m                         Traceback (most recent call last)",
      "\u001b[1;32m<ipython-input-30-b0263d78c375>\u001b[0m in \u001b[0;36m<module>\u001b[1;34m()\u001b[0m\n\u001b[0;32m      6\u001b[0m \u001b[1;32mfrom\u001b[0m \u001b[0msklearn\u001b[0m\u001b[1;33m.\u001b[0m\u001b[0mmodel_selection\u001b[0m \u001b[1;32mimport\u001b[0m \u001b[0mtrain_test_split\u001b[0m\u001b[1;33m\u001b[0m\u001b[0m\n\u001b[0;32m      7\u001b[0m \u001b[1;33m\u001b[0m\u001b[0m\n\u001b[1;32m----> 8\u001b[1;33m \u001b[0mdda\u001b[0m\u001b[1;33m=\u001b[0m\u001b[0mpd\u001b[0m\u001b[1;33m.\u001b[0m\u001b[0mread_csv\u001b[0m\u001b[1;33m(\u001b[0m\u001b[1;34m'abalone_data.csv'\u001b[0m\u001b[1;33m)\u001b[0m\u001b[1;33m\u001b[0m\u001b[0m\n\u001b[0m\u001b[0;32m      9\u001b[0m \u001b[1;31m#print(dda.head())\u001b[0m\u001b[1;33m\u001b[0m\u001b[1;33m\u001b[0m\u001b[0m\n\u001b[0;32m     10\u001b[0m \u001b[1;31m# encode class values as integers\u001b[0m\u001b[1;33m\u001b[0m\u001b[1;33m\u001b[0m\u001b[0m\n",
      "\u001b[1;32mc:\\users\\teokk\\appdata\\local\\programs\\python\\python35\\lib\\site-packages\\pandas\\io\\parsers.py\u001b[0m in \u001b[0;36mparser_f\u001b[1;34m(filepath_or_buffer, sep, delimiter, header, names, index_col, usecols, squeeze, prefix, mangle_dupe_cols, dtype, engine, converters, true_values, false_values, skipinitialspace, skiprows, nrows, na_values, keep_default_na, na_filter, verbose, skip_blank_lines, parse_dates, infer_datetime_format, keep_date_col, date_parser, dayfirst, iterator, chunksize, compression, thousands, decimal, lineterminator, quotechar, quoting, escapechar, comment, encoding, dialect, tupleize_cols, error_bad_lines, warn_bad_lines, skipfooter, skip_footer, doublequote, delim_whitespace, as_recarray, compact_ints, use_unsigned, low_memory, buffer_lines, memory_map, float_precision)\u001b[0m\n\u001b[0;32m    707\u001b[0m                     skip_blank_lines=skip_blank_lines)\n\u001b[0;32m    708\u001b[0m \u001b[1;33m\u001b[0m\u001b[0m\n\u001b[1;32m--> 709\u001b[1;33m         \u001b[1;32mreturn\u001b[0m \u001b[0m_read\u001b[0m\u001b[1;33m(\u001b[0m\u001b[0mfilepath_or_buffer\u001b[0m\u001b[1;33m,\u001b[0m \u001b[0mkwds\u001b[0m\u001b[1;33m)\u001b[0m\u001b[1;33m\u001b[0m\u001b[0m\n\u001b[0m\u001b[0;32m    710\u001b[0m \u001b[1;33m\u001b[0m\u001b[0m\n\u001b[0;32m    711\u001b[0m     \u001b[0mparser_f\u001b[0m\u001b[1;33m.\u001b[0m\u001b[0m__name__\u001b[0m \u001b[1;33m=\u001b[0m \u001b[0mname\u001b[0m\u001b[1;33m\u001b[0m\u001b[0m\n",
      "\u001b[1;32mc:\\users\\teokk\\appdata\\local\\programs\\python\\python35\\lib\\site-packages\\pandas\\io\\parsers.py\u001b[0m in \u001b[0;36m_read\u001b[1;34m(filepath_or_buffer, kwds)\u001b[0m\n\u001b[0;32m    447\u001b[0m \u001b[1;33m\u001b[0m\u001b[0m\n\u001b[0;32m    448\u001b[0m     \u001b[1;31m# Create the parser.\u001b[0m\u001b[1;33m\u001b[0m\u001b[1;33m\u001b[0m\u001b[0m\n\u001b[1;32m--> 449\u001b[1;33m     \u001b[0mparser\u001b[0m \u001b[1;33m=\u001b[0m \u001b[0mTextFileReader\u001b[0m\u001b[1;33m(\u001b[0m\u001b[0mfilepath_or_buffer\u001b[0m\u001b[1;33m,\u001b[0m \u001b[1;33m**\u001b[0m\u001b[0mkwds\u001b[0m\u001b[1;33m)\u001b[0m\u001b[1;33m\u001b[0m\u001b[0m\n\u001b[0m\u001b[0;32m    450\u001b[0m \u001b[1;33m\u001b[0m\u001b[0m\n\u001b[0;32m    451\u001b[0m     \u001b[1;32mif\u001b[0m \u001b[0mchunksize\u001b[0m \u001b[1;32mor\u001b[0m \u001b[0miterator\u001b[0m\u001b[1;33m:\u001b[0m\u001b[1;33m\u001b[0m\u001b[0m\n",
      "\u001b[1;32mc:\\users\\teokk\\appdata\\local\\programs\\python\\python35\\lib\\site-packages\\pandas\\io\\parsers.py\u001b[0m in \u001b[0;36m__init__\u001b[1;34m(self, f, engine, **kwds)\u001b[0m\n\u001b[0;32m    816\u001b[0m             \u001b[0mself\u001b[0m\u001b[1;33m.\u001b[0m\u001b[0moptions\u001b[0m\u001b[1;33m[\u001b[0m\u001b[1;34m'has_index_names'\u001b[0m\u001b[1;33m]\u001b[0m \u001b[1;33m=\u001b[0m \u001b[0mkwds\u001b[0m\u001b[1;33m[\u001b[0m\u001b[1;34m'has_index_names'\u001b[0m\u001b[1;33m]\u001b[0m\u001b[1;33m\u001b[0m\u001b[0m\n\u001b[0;32m    817\u001b[0m \u001b[1;33m\u001b[0m\u001b[0m\n\u001b[1;32m--> 818\u001b[1;33m         \u001b[0mself\u001b[0m\u001b[1;33m.\u001b[0m\u001b[0m_make_engine\u001b[0m\u001b[1;33m(\u001b[0m\u001b[0mself\u001b[0m\u001b[1;33m.\u001b[0m\u001b[0mengine\u001b[0m\u001b[1;33m)\u001b[0m\u001b[1;33m\u001b[0m\u001b[0m\n\u001b[0m\u001b[0;32m    819\u001b[0m \u001b[1;33m\u001b[0m\u001b[0m\n\u001b[0;32m    820\u001b[0m     \u001b[1;32mdef\u001b[0m \u001b[0mclose\u001b[0m\u001b[1;33m(\u001b[0m\u001b[0mself\u001b[0m\u001b[1;33m)\u001b[0m\u001b[1;33m:\u001b[0m\u001b[1;33m\u001b[0m\u001b[0m\n",
      "\u001b[1;32mc:\\users\\teokk\\appdata\\local\\programs\\python\\python35\\lib\\site-packages\\pandas\\io\\parsers.py\u001b[0m in \u001b[0;36m_make_engine\u001b[1;34m(self, engine)\u001b[0m\n\u001b[0;32m   1047\u001b[0m     \u001b[1;32mdef\u001b[0m \u001b[0m_make_engine\u001b[0m\u001b[1;33m(\u001b[0m\u001b[0mself\u001b[0m\u001b[1;33m,\u001b[0m \u001b[0mengine\u001b[0m\u001b[1;33m=\u001b[0m\u001b[1;34m'c'\u001b[0m\u001b[1;33m)\u001b[0m\u001b[1;33m:\u001b[0m\u001b[1;33m\u001b[0m\u001b[0m\n\u001b[0;32m   1048\u001b[0m         \u001b[1;32mif\u001b[0m \u001b[0mengine\u001b[0m \u001b[1;33m==\u001b[0m \u001b[1;34m'c'\u001b[0m\u001b[1;33m:\u001b[0m\u001b[1;33m\u001b[0m\u001b[0m\n\u001b[1;32m-> 1049\u001b[1;33m             \u001b[0mself\u001b[0m\u001b[1;33m.\u001b[0m\u001b[0m_engine\u001b[0m \u001b[1;33m=\u001b[0m \u001b[0mCParserWrapper\u001b[0m\u001b[1;33m(\u001b[0m\u001b[0mself\u001b[0m\u001b[1;33m.\u001b[0m\u001b[0mf\u001b[0m\u001b[1;33m,\u001b[0m \u001b[1;33m**\u001b[0m\u001b[0mself\u001b[0m\u001b[1;33m.\u001b[0m\u001b[0moptions\u001b[0m\u001b[1;33m)\u001b[0m\u001b[1;33m\u001b[0m\u001b[0m\n\u001b[0m\u001b[0;32m   1050\u001b[0m         \u001b[1;32melse\u001b[0m\u001b[1;33m:\u001b[0m\u001b[1;33m\u001b[0m\u001b[0m\n\u001b[0;32m   1051\u001b[0m             \u001b[1;32mif\u001b[0m \u001b[0mengine\u001b[0m \u001b[1;33m==\u001b[0m \u001b[1;34m'python'\u001b[0m\u001b[1;33m:\u001b[0m\u001b[1;33m\u001b[0m\u001b[0m\n",
      "\u001b[1;32mc:\\users\\teokk\\appdata\\local\\programs\\python\\python35\\lib\\site-packages\\pandas\\io\\parsers.py\u001b[0m in \u001b[0;36m__init__\u001b[1;34m(self, src, **kwds)\u001b[0m\n\u001b[0;32m   1693\u001b[0m         \u001b[0mkwds\u001b[0m\u001b[1;33m[\u001b[0m\u001b[1;34m'allow_leading_cols'\u001b[0m\u001b[1;33m]\u001b[0m \u001b[1;33m=\u001b[0m \u001b[0mself\u001b[0m\u001b[1;33m.\u001b[0m\u001b[0mindex_col\u001b[0m \u001b[1;32mis\u001b[0m \u001b[1;32mnot\u001b[0m \u001b[1;32mFalse\u001b[0m\u001b[1;33m\u001b[0m\u001b[0m\n\u001b[0;32m   1694\u001b[0m \u001b[1;33m\u001b[0m\u001b[0m\n\u001b[1;32m-> 1695\u001b[1;33m         \u001b[0mself\u001b[0m\u001b[1;33m.\u001b[0m\u001b[0m_reader\u001b[0m \u001b[1;33m=\u001b[0m \u001b[0mparsers\u001b[0m\u001b[1;33m.\u001b[0m\u001b[0mTextReader\u001b[0m\u001b[1;33m(\u001b[0m\u001b[0msrc\u001b[0m\u001b[1;33m,\u001b[0m \u001b[1;33m**\u001b[0m\u001b[0mkwds\u001b[0m\u001b[1;33m)\u001b[0m\u001b[1;33m\u001b[0m\u001b[0m\n\u001b[0m\u001b[0;32m   1696\u001b[0m \u001b[1;33m\u001b[0m\u001b[0m\n\u001b[0;32m   1697\u001b[0m         \u001b[1;31m# XXX\u001b[0m\u001b[1;33m\u001b[0m\u001b[1;33m\u001b[0m\u001b[0m\n",
      "\u001b[1;32mpandas\\_libs\\parsers.pyx\u001b[0m in \u001b[0;36mpandas._libs.parsers.TextReader.__cinit__\u001b[1;34m()\u001b[0m\n",
      "\u001b[1;32mpandas\\_libs\\parsers.pyx\u001b[0m in \u001b[0;36mpandas._libs.parsers.TextReader._setup_parser_source\u001b[1;34m()\u001b[0m\n",
      "\u001b[1;31mFileNotFoundError\u001b[0m: File b'abalone_data.csv' does not exist"
     ]
    }
   ],
   "source": [
    "import numpy as np\n",
    "import pandas as pd\n",
    "from sklearn import preprocessing \n",
    "from sklearn.linear_model import SGDClassifier\n",
    "from sklearn.svm import LinearSVC\n",
    "from sklearn.model_selection import train_test_split\n",
    "\n",
    "dda=pd.read_csv('abalone_data.csv')\n",
    "#print(dda.head())\n",
    "# encode class values as integers\n",
    "le = preprocessing.LabelEncoder() #create an encoder instance\n",
    "le.fit([\"M\", \"F\",\"I\"])             #fit the encoder with three string \"M\", \"F\" and \"I\"\n",
    "\n",
    "dda['Sex']=le.transform(dda['Sex'])    #to transform df['driveway'] value of yes and no to 1 and 0\n",
    "print(dda.shape)\n",
    "dupitem=[1,2,25,26,29]\n",
    "for c in dupitem:\n",
    "    print(c)\n",
    "    iidx=dda.index[dda['Rings']==c].tolist()\n",
    "    frame=[dda.iloc[iidx[0]]]\n",
    "    dda=dda.append(frame)\n",
    "    \n",
    "target=dda['Rings']\n",
    "dda.drop('Rings',axis=1, inplace=True)\n",
    "print(dda.head())\n",
    "n_samples = len(dda)\n",
    "print(dda.shape)\n",
    "dda = dda.values.reshape((n_samples, -1))\n",
    "print(dda.shape)\n",
    "Xtrain, Xtest, ytrain, ytest=train_test_split(dda,target,random_state=0,test_size=0.3,shuffle=True,stratify=target)\n",
    "clf = LinearSVC(random_state=0, tol=1e-5)\n",
    "clf.fit(Xtrain,ytrain)\n",
    "ypredict=clf.predict(Xtest)\n",
    "print(accuracy_score(ytest,ypredict))\n",
    "    \n",
    "    "
   ]
  },
  {
   "cell_type": "code",
   "execution_count": null,
   "metadata": {},
   "outputs": [],
   "source": [
    "from sklearn.metrics import confusion_matrix\n",
    "import  seaborn as sns\n",
    "plt.figure(figsize = (10,10))\n",
    "mat2=confusion_matrix(ytest,ypredict)\n",
    "sns.heatmap(mat2,square=False,annot=True,cbar=False)\n",
    "plt.xlabel('predicted value')\n",
    "plt.ylabel('true value')"
   ]
  }
 ],
 "metadata": {
  "kernelspec": {
   "display_name": "Python 3",
   "language": "python",
   "name": "python3"
  },
  "language_info": {
   "codemirror_mode": {
    "name": "ipython",
    "version": 3
   },
   "file_extension": ".py",
   "mimetype": "text/x-python",
   "name": "python",
   "nbconvert_exporter": "python",
   "pygments_lexer": "ipython3",
   "version": "3.5.3"
  }
 },
 "nbformat": 4,
 "nbformat_minor": 2
}
