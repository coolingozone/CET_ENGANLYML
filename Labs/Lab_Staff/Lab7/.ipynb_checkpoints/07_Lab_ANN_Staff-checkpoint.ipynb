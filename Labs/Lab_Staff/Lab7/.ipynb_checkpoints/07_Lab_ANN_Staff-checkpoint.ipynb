{
 "cells": [
  {
   "cell_type": "markdown",
   "metadata": {},
   "source": [
    "# Engineering Analytics and Machine Learning Lab 7\n",
    "## for Specialist Diploma in Internet of Things\n",
    "\n",
    "### Author’s Name: Teo Kok Keong\n",
    "\n",
    "### Property of Temasek Polytechnic, Copyright ©.\n",
    "### For circulation within Temasek Polytechnic only.\n",
    "\n"
   ]
  },
  {
   "cell_type": "markdown",
   "metadata": {},
   "source": [
    "# 1 Introduction to Tensorflow\n",
    "\n",
    "TTensorFlow™ is an open source software library for high performance numerical computation. Its flexible architecture allows easy deployment of computation across a variety of platforms (CPUs, GPUs, TPUs), and from desktops to clusters of servers to mobile and edge devices. Originally developed by researchers and engineers from the Google Brain team within Google’s AI organization, it comes with strong support for machine learning and deep learning and the flexible numerical computation core is used across many other scientific domains.\n",
    "\n",
    "You can access link below the access the official site:\n",
    "\n",
    "[https://www.tensorflow.org/](https://www.tensorflow.org/)\n"
   ]
  },
  {
   "cell_type": "markdown",
   "metadata": {},
   "source": [
    "## 1.1 Basic Tensorflow  Operation\n",
    "\n",
    "\n"
   ]
  },
  {
   "cell_type": "code",
   "execution_count": 3,
   "metadata": {},
   "outputs": [
    {
     "name": "stdout",
     "output_type": "stream",
     "text": [
      "Tensor(\"add_1:0\", shape=(), dtype=int32)\n"
     ]
    }
   ],
   "source": [
    "import tensorflow as tf\n",
    "\n",
    "x=tf.Variable(3,name='x')\n",
    "y=tf.Variable(4,name='y')\n",
    "a=tf.constant(6,name='a')\n",
    "f=x*x*y+y+a\n",
    "print(f)"
   ]
  },
  {
   "cell_type": "markdown",
   "metadata": {},
   "source": [
    "We would expect the last command to print the value \"46\" but that doesn't seem to happen. What all these lines of code only did is create the Tensorflow graphs. Or just reserve memory location for all the variables, constant and the computation. In order to execute the graph, we need to create a new sesion and close the session (free up resource) when done."
   ]
  },
  {
   "cell_type": "code",
   "execution_count": 4,
   "metadata": {},
   "outputs": [
    {
     "name": "stdout",
     "output_type": "stream",
     "text": [
      "46\n"
     ]
    }
   ],
   "source": [
    "sess=tf.Session()\n",
    "sess.run(x.initializer)\n",
    "sess.run(y.initializer)\n",
    "result=sess.run(f)\n",
    "print(result)\n",
    "sess.close()"
   ]
  },
  {
   "cell_type": "markdown",
   "metadata": {},
   "source": [
    "As we can see the above codes create a new session call \"sess\" and sess.run() is call to initize x, y with the value specified during declaration. Having to keep writing sess is pretty cumbersome. A better way is to use with where within the block the session is set as the default without needing to keep repeating sess, also this code is also more readable. Furthermore the session is close automatically at the end of the block. The code is as shown below: "
   ]
  },
  {
   "cell_type": "code",
   "execution_count": 5,
   "metadata": {},
   "outputs": [
    {
     "name": "stdout",
     "output_type": "stream",
     "text": [
      "46\n"
     ]
    }
   ],
   "source": [
    "with tf.Session() as sess:\n",
    "    x.initializer.run()\n",
    "    y.initializer.run()\n",
    "    result=f.eval()\n",
    "print(result)"
   ]
  },
  {
   "cell_type": "markdown",
   "metadata": {},
   "source": [
    "Instead of manually running the initializer for every single variable, we could use the global_variables_initializerr() method. Note that it does not actually perform the initialization immediately, but rather create a node in the graph that will initialize all variable when it is run. Example:"
   ]
  },
  {
   "cell_type": "code",
   "execution_count": 6,
   "metadata": {},
   "outputs": [
    {
     "name": "stdout",
     "output_type": "stream",
     "text": [
      "46\n"
     ]
    }
   ],
   "source": [
    "init=tf.global_variables_initializer()  #prepare an init node\n",
    "with tf.Session() as sess:  \n",
    "    init.run()      #actual initialization of all the variables\n",
    "    result=f.eval()\n",
    "print(result)"
   ]
  },
  {
   "cell_type": "markdown",
   "metadata": {},
   "source": [
    "we can evaluate multiple variable at the same time as shown below:"
   ]
  },
  {
   "cell_type": "code",
   "execution_count": 7,
   "metadata": {},
   "outputs": [
    {
     "name": "stdout",
     "output_type": "stream",
     "text": [
      "10\n",
      "8\n"
     ]
    }
   ],
   "source": [
    "w=tf.constant(3)\n",
    "x=w+2\n",
    "y=x+5\n",
    "z=x+3\n",
    "with tf.Session() as sess:\n",
    "    y_val,z_val=sess.run([y,z])\n",
    "print(y_val)\n",
    "print(z_val)\n"
   ]
  },
  {
   "cell_type": "markdown",
   "metadata": {},
   "source": [
    "## Exercise 1\n",
    "\n",
    "Create the Tensorflow graph f=ax+b wherre a and b are constant, x is variable. \n",
    "Initializer a=5,b=3,x=2 and evaluate the result of f. Name variable x as \"x-variable\"\", constant a as \"slope\", constant b as \"yintercept\""
   ]
  },
  {
   "cell_type": "code",
   "execution_count": 8,
   "metadata": {},
   "outputs": [
    {
     "name": "stdout",
     "output_type": "stream",
     "text": [
      "46\n"
     ]
    }
   ],
   "source": [
    "import tensorflow as tf\n",
    "\n",
    "x=tf.Variable(2,name='x-variable')\n",
    "a=tf.constant(5,name='slope')\n",
    "b=tf.constant(3,name='yintercept')\n",
    "init=tf.global_variables_initializer()  #prepare an init node\n",
    "with tf.Session() as sess:\n",
    "    init.run()\n",
    "    result=f.eval()\n",
    "print(result)\n",
    "    "
   ]
  },
  {
   "cell_type": "markdown",
   "metadata": {},
   "source": [
    "Any node created would be automatically added to the default graph:"
   ]
  },
  {
   "cell_type": "code",
   "execution_count": 9,
   "metadata": {},
   "outputs": [
    {
     "data": {
      "text/plain": [
       "True"
      ]
     },
     "execution_count": 9,
     "metadata": {},
     "output_type": "execute_result"
    }
   ],
   "source": [
    "x1=tf.Variable(1)\n",
    "x1.graph is tf.get_default_graph()   #test whether x1 bellow to the default graph"
   ]
  },
  {
   "cell_type": "markdown",
   "metadata": {},
   "source": [
    "In most case, we would want to any node to be connected to the default graph. However in some cases we may want to manage multiple independent graphs. Lets take a look:"
   ]
  },
  {
   "cell_type": "markdown",
   "metadata": {},
   "source": [
    "\n",
    "\n",
    "\n",
    "\n"
   ]
  },
  {
   "cell_type": "code",
   "execution_count": 10,
   "metadata": {},
   "outputs": [
    {
     "name": "stdout",
     "output_type": "stream",
     "text": [
      "True\n",
      "False\n"
     ]
    }
   ],
   "source": [
    "graph=tf.Graph()  #create a new graph which is not the default graph\n",
    "with graph.as_default():\n",
    "    x2=tf.Variable(2)\n",
    "print(x2.graph is graph) #test if x2 belong to graph call \"graph\"\n",
    "print(x2.graph is tf.get_default_graph())  #test if x2 belong to the default graph\n",
    "\n"
   ]
  },
  {
   "cell_type": "markdown",
   "metadata": {},
   "source": [
    "# Linear Regresion with Tensorflow\n",
    "\n",
    "Lets use the Tensorflow to implement a simple linear regression learning.\n",
    "Lets load the houseing.csv data and a look at the data.  We hae to ensure that the data is cleaned without any missing data before we proceed to perform futher processing.\n",
    "\n",
    "In the example code below, we are using two parameters (lotsize and bedroom) to predice the price of the house. The regression formula is:\n",
    "\n",
    "y=w1*x1+w2*x2+b where x1 and x2 is the input data (lotsize and bedroom). w1 and w2 is the weights and b is the bias. We are going to implement in a vectorize form that is more computational efficient. Thus the vector formual is:\n",
    "\n",
    "Y=XW+b\n",
    "\n",
    "Note that the price and lotsize are normalize by z-transform to shift data to zero mean and standard deviation of 1. If not resultant values would be too huge which will lead to divergence instead of convergence.\n",
    "\n"
   ]
  },
  {
   "cell_type": "markdown",
   "metadata": {},
   "source": [
    "Lets start by importing all the packages we need for the  following operation:"
   ]
  },
  {
   "cell_type": "code",
   "execution_count": 2,
   "metadata": {},
   "outputs": [],
   "source": [
    "from sklearn.model_selection import train_test_split\n",
    "from sklearn.metrics import mean_squared_error\n",
    "import tensorflow as tf\n",
    "import numpy as np\n",
    "import pandas as pd\n",
    "import matplotlib.pyplot as plt\n",
    "\n",
    "#helper functions for normalization and compute the accuracy\n",
    "\n",
    "def normalize(data):\n",
    "    mean, std = data.mean(), data.std()\n",
    "    data = (data - mean) / std\n",
    "    \n",
    "    return data, mean, std\n",
    "\n",
    "def accuracy(predictions, labels):\n",
    "    return (np.mean((predictions-labels)**2))\n"
   ]
  },
  {
   "cell_type": "markdown",
   "metadata": {},
   "source": [
    "Data preparation whhere we also set all the training parameters. We also use scklearn package train_test_split method  to split the data to train and test."
   ]
  },
  {
   "cell_type": "code",
   "execution_count": 4,
   "metadata": {},
   "outputs": [],
   "source": [
    "\n",
    "# Parameters\n",
    "learning_rate = 0.001\n",
    "training_epochs = 1000\n",
    "display_step = 50\n",
    "\n",
    "df=pd.read_csv('housing.csv') \n",
    "\n",
    "df['lotsize'],lotmean,lotstd=normalize(df['lotsize'])\n",
    "df['price'],pricemean, pricestd=normalize(df['price'])\n",
    "\n",
    "data_X=np.array([df['lotsize'] ,df['bedrooms']]) #using two attributes, lotsize and bedrooms for prediction.\n",
    "\n",
    "data_X=data_X.T\n",
    "\n",
    "tf.set_random_seed(1)\n",
    "m,n=data_X.shape\n",
    "data_Y = df['price']#price is the target, Y\n",
    "\n",
    "\n",
    "train_X,test_X,train_Y,test_Y=train_test_split(data_X,data_Y,random_state=0,test_size=0.2)  #to randomly spilt data to train and test\n",
    "\n",
    "\n",
    "n_samples = train_X.shape[0]\n",
    "# Set model weights\n",
    "\n",
    "\n"
   ]
  },
  {
   "cell_type": "code",
   "execution_count": 5,
   "metadata": {},
   "outputs": [
    {
     "name": "stdout",
     "output_type": "stream",
     "text": [
      "Epoch: 0050 loss= 0.000173693 W= [[1.8851341 ]\n",
      " [0.55242497]] b= [-0.00018523]\n",
      "Epoch: 0100 loss= 0.000173510 W= [[1.8849136 ]\n",
      " [0.55181104]] b= [-0.00037023]\n",
      "Epoch: 0150 loss= 0.000173328 W= [[1.884693  ]\n",
      " [0.55119884]] b= [-0.000555]\n",
      "Epoch: 0200 loss= 0.000173145 W= [[1.8844725]\n",
      " [0.5505879]] b= [-0.00073955]\n",
      "Epoch: 0250 loss= 0.000172962 W= [[1.884252  ]\n",
      " [0.54997694]] b= [-0.00092387]\n",
      "Epoch: 0300 loss= 0.000172781 W= [[1.8840314]\n",
      " [0.549366 ]] b= [-0.00110796]\n",
      "Epoch: 0350 loss= 0.000172599 W= [[1.8838109 ]\n",
      " [0.54875624]] b= [-0.00129182]\n",
      "Epoch: 0400 loss= 0.000172419 W= [[1.8835903]\n",
      " [0.5481483]] b= [-0.00147546]\n",
      "Epoch: 0450 loss= 0.000172238 W= [[1.8833698]\n",
      " [0.5475403]] b= [-0.00165887]\n",
      "Epoch: 0500 loss= 0.000172057 W= [[1.8831493 ]\n",
      " [0.54693234]] b= [-0.00184205]\n",
      "Epoch: 0550 loss= 0.000171877 W= [[1.8829287 ]\n",
      " [0.54632497]] b= [-0.00202501]\n",
      "Epoch: 0600 loss= 0.000171698 W= [[1.8827082]\n",
      " [0.54572  ]] b= [-0.00220774]\n",
      "Epoch: 0650 loss= 0.000171519 W= [[1.8824877]\n",
      " [0.545115 ]] b= [-0.00239025]\n",
      "Epoch: 0700 loss= 0.000171340 W= [[1.8822671]\n",
      " [0.54451  ]] b= [-0.00257253]\n",
      "Epoch: 0750 loss= 0.000171162 W= [[1.8820466]\n",
      " [0.543905 ]] b= [-0.00275458]\n",
      "Epoch: 0800 loss= 0.000170984 W= [[1.881826]\n",
      " [0.543303]] b= [-0.00293642]\n",
      "Epoch: 0850 loss= 0.000170807 W= [[1.8816055]\n",
      " [0.542701 ]] b= [-0.00311802]\n",
      "Epoch: 0900 loss= 0.000170629 W= [[1.881385]\n",
      " [0.542099]] b= [-0.00329941]\n",
      "Epoch: 0950 loss= 0.000170452 W= [[1.8811644]\n",
      " [0.541497 ]] b= [-0.00348057]\n",
      "Epoch: 1000 loss= 0.000170277 W= [[1.8809439 ]\n",
      " [0.54089725]] b= [-0.0036615]\n",
      "5.784168198273491\n"
     ]
    }
   ],
   "source": [
    "#setup the tensorflow variables ensure for linear equations.\n",
    "\n",
    "W = tf.Variable(np.random.randn(2,1),dtype=tf.float32,name=\"weight\")\n",
    "b=tf.Variable(tf.zeros(1), name=\"bias\")\n",
    "tf_test_dataset=tf.constant(test_X,dtype=tf.float32)\n",
    "\n",
    "# tf Graph Input placeholderr\n",
    "X = tf.placeholder(tf.float32, shape=(n_samples,2))\n",
    "Y = tf.placeholder(tf.float32,name=\"Y\")\n",
    "\n",
    "# Construct a linear model\n",
    "pred = tf.add(tf.matmul(X, W), b)\n",
    "\n",
    "# Cost function\n",
    "\n",
    "mse = tf.reduce_mean(tf.squared_difference(pred, Y))/ (2 * n_samples)\n",
    "test_prediction = tf.add(tf.matmul(tf_test_dataset, W), b)\n",
    "\n",
    "# Gradient descent\n",
    "\n",
    "optimizer = tf.train.GradientDescentOptimizer(learning_rate).minimize(mse)\n",
    "#optimizer=tf.train.AdamOptimizer().minimize(mse)\n",
    "\n",
    "# Initializing the variables\n",
    "init = tf.global_variables_initializer()\n",
    "\n",
    "with tf.Session() as sess:\n",
    "    sess.run(init)\n",
    "    # Fit all training data\n",
    "   \n",
    "    for epoch in range(training_epochs):\n",
    "        c=0\n",
    "     \n",
    "        sess.run(optimizer, feed_dict={X: train_X, Y: train_Y})\n",
    "        c = c+sess.run(mse, feed_dict={X:  train_X, Y: train_Y})\n",
    "           \n",
    "        # Display logs per epoch step\n",
    "        if (epoch + 1) % display_step == 0:\n",
    "            #c = sess.run(mse, feed_dict={X: train_X, Y: train_Y})\n",
    "            print(\"Epoch:\", '%04d' % (epoch + 1), \"loss=\", \"{:.9f}\".format(c/50), \\\n",
    "                \"W=\", sess.run(W), \"b=\", sess.run(b))\n",
    "    #print(\"Test accuracy: {:.1f}\".format(accuracy(test_prediction.eval(), test_Y)))\n",
    "    predd=test_prediction.eval()\n",
    "    print(accuracy(predd.reshape(1,len(predd)),test_Y.values.reshape(1,len(test_Y))))\n",
    "\n"
   ]
  },
  {
   "cell_type": "markdown",
   "metadata": {},
   "source": [
    "## Exercise 2\n",
    "\n",
    "Test the linear regression network with different learning rate such as 1.0,0.1,0.01 and comment on the effect. Also try increasing the number of epoch and observe it effect on the error."
   ]
  },
  {
   "cell_type": "markdown",
   "metadata": {},
   "source": [
    "# 2 Neural Network for Classification\n",
    "\n",
    "\n",
    "\n"
   ]
  },
  {
   "cell_type": "markdown",
   "metadata": {},
   "source": [
    "Remember  in the previous lab, we use various linear methods to identifiy hand-written digit from the digital dataset.In this lab, we are going to try to use NN to classification these hand-written digits if they could achieve higher  accuracy. In this example, we would load the dataset from tensorflow at:\n",
    "\n",
    "\n",
    "[https://github.com/tensorflow/tensorflow/tree/master/tensorflow/examples/tutorials/mnist](https://github.com/tensorflow/tensorflow/tree/master/tensorflow/examples/tutorials/mnist)\n",
    "\n",
    "Detail information on the digit dataset from UCI:\n",
    "\n",
    "[http://archive.ics.uci.edu/ml/datasets/Pen-Based+Recognition+of+Handwritten+Digits](http://archive.ics.uci.edu/ml/datasets/Pen-Based+Recognition+of+Handwritten+Digits)\n",
    "\n"
   ]
  },
  {
   "cell_type": "code",
   "execution_count": 2,
   "metadata": {},
   "outputs": [
    {
     "name": "stdout",
     "output_type": "stream",
     "text": [
      "Extracting MNIST_data/train-images-idx3-ubyte.gz\n",
      "Extracting MNIST_data/train-labels-idx1-ubyte.gz\n",
      "Extracting MNIST_data/t10k-images-idx3-ubyte.gz\n",
      "Extracting MNIST_data/t10k-labels-idx1-ubyte.gz\n",
      "Epoch:  0 Accuracy:  0.2928 Model Execution Complete\n",
      "[7 2 1 ... 4 8 6]\n",
      "[7 2 1 ... 4 5 6]\n"
     ]
    },
    {
     "data": {
      "image/png": "[encoded data removed]",
      "text/plain": [
       "<Figure size 360x360 with 1 Axes>"
      ]
     },
     "metadata": {},
     "output_type": "display_data"
    }
   ],
   "source": [
    "# import tensorflow to the environment\n",
    "import tensorflow as tf\n",
    "import  seaborn as sns\n",
    "import  matplotlib.pyplot as plt\n",
    "# Required Python Packages\n",
    "#from tensorflow.examples.tutorials.mnist import input_data\n",
    "from tensorflow.examples.tutorials.mnist import input_data\n",
    "# Download the MNIS dataset\n",
    "mnist = input_data.read_data_sets('MNIST_data/', one_hot=True)\n",
    " \n",
    "\n",
    " \n",
    "# initializing parameters for the model\n",
    "batch = 100\n",
    "learning_rate = 0.01\n",
    "training_epochs = 100\n",
    "display_step=100\n",
    "input_size=mnist.train.images.shape[1]\n",
    "output_size=10\n",
    "# creating placeholders\n",
    "x = tf.placeholder(tf.float32, shape=[None, input_size])\n",
    "y_ = tf.placeholder(tf.float32, shape=[None, output_size])\n",
    " \n",
    "# creating variables\n",
    "W = tf.Variable(tf.zeros([784, 10]))\n",
    "b = tf.Variable(tf.zeros([10]))\n",
    " \n",
    "# initializing the model\n",
    "y = tf.nn.softmax(tf.matmul(x,W) + b)\n",
    " \n",
    "# Defining Cost Function\n",
    "cross_entropy = tf.reduce_mean(-tf.reduce_sum(y_ * tf.log(y), reduction_indices=[1]))\n",
    "# Determining the accuracy of parameters\n",
    "correct_prediction = tf.equal(tf.argmax(y,1), tf.argmax(y_,1))\n",
    "accuracy = tf.reduce_mean(tf.cast(correct_prediction, tf.float32))\n",
    " \n",
    "# Implementing Gradient Descent Algorithm\n",
    "train_op = tf.train.GradientDescentOptimizer(learning_rate).minimize(cross_entropy)\n",
    " \n",
    "# Initializing the session\n",
    "with tf.Session() as sess:\n",
    "    sess.run(tf.initialize_all_variables())\n",
    " \n",
    "    # Creating batches of data for epochs\n",
    "    for epoch in range(training_epochs):\n",
    "        batch_count = int(mnist.train.num_examples / batch)\n",
    "        for i in range(batch_count):\n",
    "            batch_x, batch_y = mnist.train.next_batch(batch)\n",
    "            # Executing the model\n",
    "            sess.run([train_op], feed_dict={x: batch_x, y_: batch_y})\n",
    " \n",
    "        # Print Accuracy of the model\n",
    "        if epoch % display_step == 0:\n",
    "            print(\"Epoch: \", epoch\n",
    "            ,\"Accuracy: \", accuracy.eval(feed_dict={x: mnist.test.images, y_: mnist.test.labels})\n",
    "           ,\"Model Execution Complete\")\n",
    "    yy=tf.argmax(y.eval(feed_dict={x: mnist.test.images}),1)\n",
    "    ll=tf.argmax(mnist.test.labels.T)\n",
    "    print(sess.run(yy))\n",
    "    print(sess.run(ll))\n",
    "    confusion = tf.confusion_matrix(labels=ll, predictions=yy, num_classes=10)\n",
    "    \n",
    "    plt.figure(figsize = (5,5))\n",
    "    sns.heatmap(sess.run(confusion),square=False,annot=True,cbar=False,fmt='d')\n",
    "    plt.xlabel('predicted value')\n",
    "    plt.ylabel('true value')\n",
    "    plt.show()"
   ]
  },
  {
   "cell_type": "code",
   "execution_count": 7,
   "metadata": {},
   "outputs": [
    {
     "name": "stdout",
     "output_type": "stream",
     "text": [
      "Extracting model_data/train-images-idx3-ubyte.gz\n",
      "Extracting model_data/train-labels-idx1-ubyte.gz\n",
      "Extracting model_data/t10k-images-idx3-ubyte.gz\n",
      "Extracting model_data/t10k-labels-idx1-ubyte.gz\n",
      "Epoch:  0 Accuracy:  0.8789 Model Execution Complete\n",
      "Epoch:  50 Accuracy:  0.9734 Model Execution Complete\n",
      "[7 2 1 ... 4 5 6]\n",
      "[7 2 1 ... 4 5 6]\n",
      "test accuracy 0.9767\n",
      "(55000, 10)\n",
      "(10000, 10)\n"
     ]
    },
    {
     "data": {
      "image/png": "[encoded data removed]",
      "text/plain": [
       "<Figure size 360x360 with 1 Axes>"
      ]
     },
     "metadata": {},
     "output_type": "display_data"
    }
   ],
   "source": [
    "# import tensorflow to the environment\n",
    "import tensorflow as tf\n",
    "import  seaborn as sns\n",
    "import  matplotlib.pyplot as plt\n",
    "# Required Python Packages\n",
    "from tensorflow.examples.tutorials.mnist import input_data\n",
    "tf.set_random_seed(234)\n",
    "\n",
    "# Download the MNIS dataset\n",
    "mnist = input_data.read_data_sets('model_data/', one_hot=True)\n",
    " \n",
    "\n",
    " \n",
    "# initializing parameters for the model\n",
    "batch = 200\n",
    "learning_rate = 0.01\n",
    "training_epochs = 100\n",
    "display_step=50\n",
    "input_size=mnist.train.images.shape[1]\n",
    "hidden1_size=256\n",
    "hidden2_size=128\n",
    "output_size=10\n",
    "# creating placeholders\n",
    "x = tf.placeholder(tf.float32, shape=[None, input_size])\n",
    "y_ = tf.placeholder(tf.float32, shape=[None, output_size])\n",
    " \n",
    "# creating the neural network graph\n",
    "W1 = tf.Variable(tf.truncated_normal([input_size, hidden1_size], stddev=0.1))\n",
    "b1 = tf.Variable(tf.zeros([hidden1_size]))\n",
    "W2 = tf.Variable(tf.truncated_normal([hidden1_size, hidden2_size],stddev=0.1))\n",
    "b2 = tf.Variable(tf.zeros([hidden2_size]))\n",
    "W3=tf.Variable(tf.truncated_normal([hidden2_size, output_size],stddev=0.1))\n",
    "b3 = tf.Variable(tf.zeros([output_size]))\n",
    "# initializing the model\n",
    "y1 = tf.nn.relu(tf.add(tf.matmul(x,W1) ,b1))\n",
    "y2=tf.nn.relu(tf.add(tf.matmul(y1,W2),b2))\n",
    "y=tf.nn.softmax(tf.add(tf.matmul(y2,W3),b3))\n",
    " \n",
    "# Defining Cost Function\n",
    "#cross_entropy = tf.reduce_mean(-tf.reduce_sum(y_ * tf.log(y), reduction_indices=[1]))\n",
    "cross_entropy =tf.nn.softmax_cross_entropy_with_logits_v2(labels=y_,logits=y)\n",
    "# Determining the accuracy of parameters\n",
    "correct_prediction = tf.equal(tf.argmax(y,1), tf.argmax(y_,1))\n",
    "accuracy = tf.reduce_mean(tf.cast(correct_prediction, tf.float32))\n",
    " \n",
    "# Implementing Gradient Descent Algorithm\n",
    "#train_op = tf.train.GradientDescentOptimizer(learning_rate).minimize(cross_entropy)\n",
    "train_op = tf.train.AdamOptimizer(1e-4).minimize(cross_entropy) \n",
    "# Initializing the session\n",
    "with tf.Session() as sess:\n",
    "    sess.run(tf.global_variables_initializer())\n",
    " \n",
    "    # Creating batches of data for epochs\n",
    "    for epoch in range(training_epochs):\n",
    "        batch_count = int(mnist.train.num_examples / batch)\n",
    "        for i in range(batch_count):\n",
    "            batch_x, batch_y = mnist.train.next_batch(batch)\n",
    "            # Executing the model\n",
    "            sess.run([train_op], feed_dict={x: batch_x, y_: batch_y})\n",
    " \n",
    "        # Print Accuracy of the model\n",
    "        if epoch % display_step == 0:\n",
    "            print(\"Epoch: \", epoch\n",
    "            ,\"Accuracy: \", accuracy.eval(feed_dict={x: mnist.test.images, y_: mnist.test.labels})\n",
    "           ,\"Model Execution Complete\")\n",
    "    yy=tf.argmax(y.eval(feed_dict={x: mnist.test.images}),1)\n",
    "    ll=tf.argmax(mnist.test.labels.T)\n",
    "    print(sess.run(yy))\n",
    "    print(sess.run(ll))\n",
    "    confusion = tf.confusion_matrix(labels=ll, predictions=yy, num_classes=10)\n",
    "    print(\"test accuracy\",accuracy.eval(feed_dict={x: mnist.test.images, y_: mnist.test.labels}))\n",
    "    print(mnist.train.labels.shape)\n",
    "    print(mnist.test.labels.shape)\n",
    "    plt.figure(figsize = (5,5))\n",
    "    sns.heatmap(sess.run(confusion),square=False,annot=True,cbar=False,fmt='d')\n",
    "    plt.xlabel('predicted value')\n",
    "    plt.ylabel('true value')"
   ]
  },
  {
   "cell_type": "markdown",
   "metadata": {},
   "source": [
    "## Exercise 2\n",
    "\n",
    "Add one more hidden layer to above multi-layer Neural Network and test with the digit dataset. Also plot the confusion matrix.\n",
    "\n"
   ]
  },
  {
   "cell_type": "code",
   "execution_count": 6,
   "metadata": {},
   "outputs": [
    {
     "name": "stdout",
     "output_type": "stream",
     "text": [
      "WARNING:tensorflow:From <ipython-input-6-5927456d09be>:26: read_data_sets (from tensorflow.contrib.learn.python.learn.datasets.mnist) is deprecated and will be removed in a future version.\n",
      "Instructions for updating:\n",
      "Please use alternatives such as official/mnist/dataset.py from tensorflow/models.\n",
      "WARNING:tensorflow:From c:\\users\\teokk\\appdata\\local\\programs\\python\\python35\\lib\\site-packages\\tensorflow\\contrib\\learn\\python\\learn\\datasets\\mnist.py:260: maybe_download (from tensorflow.contrib.learn.python.learn.datasets.base) is deprecated and will be removed in a future version.\n",
      "Instructions for updating:\n",
      "Please write your own downloading logic.\n",
      "WARNING:tensorflow:From c:\\users\\teokk\\appdata\\local\\programs\\python\\python35\\lib\\site-packages\\tensorflow\\contrib\\learn\\python\\learn\\datasets\\mnist.py:262: extract_images (from tensorflow.contrib.learn.python.learn.datasets.mnist) is deprecated and will be removed in a future version.\n",
      "Instructions for updating:\n",
      "Please use tf.data to implement this functionality.\n",
      "Extracting model_data/train-images-idx3-ubyte.gz\n",
      "WARNING:tensorflow:From c:\\users\\teokk\\appdata\\local\\programs\\python\\python35\\lib\\site-packages\\tensorflow\\contrib\\learn\\python\\learn\\datasets\\mnist.py:267: extract_labels (from tensorflow.contrib.learn.python.learn.datasets.mnist) is deprecated and will be removed in a future version.\n",
      "Instructions for updating:\n",
      "Please use tf.data to implement this functionality.\n",
      "Extracting model_data/train-labels-idx1-ubyte.gz\n",
      "WARNING:tensorflow:From c:\\users\\teokk\\appdata\\local\\programs\\python\\python35\\lib\\site-packages\\tensorflow\\contrib\\learn\\python\\learn\\datasets\\mnist.py:110: dense_to_one_hot (from tensorflow.contrib.learn.python.learn.datasets.mnist) is deprecated and will be removed in a future version.\n",
      "Instructions for updating:\n",
      "Please use tf.one_hot on tensors.\n",
      "Extracting model_data/t10k-images-idx3-ubyte.gz\n",
      "Extracting model_data/t10k-labels-idx1-ubyte.gz\n",
      "WARNING:tensorflow:From c:\\users\\teokk\\appdata\\local\\programs\\python\\python35\\lib\\site-packages\\tensorflow\\contrib\\learn\\python\\learn\\datasets\\mnist.py:290: DataSet.__init__ (from tensorflow.contrib.learn.python.learn.datasets.mnist) is deprecated and will be removed in a future version.\n",
      "Instructions for updating:\n",
      "Please use alternatives such as official/mnist/dataset.py from tensorflow/models.\n",
      "Epoch:  0 Accuracy:  0.7979 Model Execution Complete\n",
      "Epoch:  50 Accuracy:  0.9732 Model Execution Complete\n",
      "Epoch:  100 Accuracy:  0.9753 Model Execution Complete\n",
      "Epoch:  150 Accuracy:  0.9769 Model Execution Complete\n",
      "[7 2 1 ... 4 5 6]\n",
      "[7 2 1 ... 4 5 6]\n",
      "test accuracy 0.9771\n",
      "(55000, 10)\n",
      "(10000, 10)\n"
     ]
    },
    {
     "data": {
      "image/png": "[encoded data removed]",
      "text/plain": [
       "<Figure size 360x360 with 1 Axes>"
      ]
     },
     "metadata": {},
     "output_type": "display_data"
    }
   ],
   "source": [
    "# import tensorflow to the environment\n",
    "import tensorflow as tf\n",
    "import  seaborn as sns\n",
    "import  matplotlib.pyplot as plt\n",
    "import numpy as np\n",
    "import pandas as pd\n",
    "# Required Python Packages\n",
    "from tensorflow.examples.tutorials.mnist import input_data\n",
    "tf.set_random_seed(234)\n",
    "\n",
    "def next_batch(num, data, labels):\n",
    "    '''\n",
    "    Return a total of `num` random samples and labels. \n",
    "    '''\n",
    "    idx = np.arange(0 , len(data))\n",
    "    np.random.shuffle(idx)\n",
    "    idx = idx[:num]\n",
    "    data_shuffle = [data[ i] for i in idx]\n",
    "    labels_shuffle = [labels[ i] for i in idx]\n",
    "\n",
    "    return np.asarray(data_shuffle), np.asarray(labels_shuffle)\n",
    "\n",
    "\n",
    "\n",
    "# Download the MNIS dataset\n",
    "mnist = input_data.read_data_sets('model_data/', one_hot=True)\n",
    " \n",
    "\n",
    " \n",
    "# initializing parameters for the model\n",
    "batch = 200\n",
    "learning_rate = 0.01\n",
    "training_epochs = 200\n",
    "display_step=50\n",
    "input_size=mnist.train.images.shape[1]\n",
    "hidden1_size=256\n",
    "hidden2_size=128\n",
    "hidden3_size=64\n",
    "output_size=10\n",
    "# creating placeholders\n",
    "x = tf.placeholder(tf.float32, shape=[None, input_size])\n",
    "y_ = tf.placeholder(tf.float32, shape=[None, output_size])\n",
    " \n",
    "# initializing the required variables\n",
    "W1 = tf.Variable(tf.truncated_normal([input_size, hidden1_size], stddev=0.1))\n",
    "b1 = tf.Variable(tf.zeros([hidden1_size]))\n",
    "W2 = tf.Variable(tf.truncated_normal([hidden1_size, hidden2_size],stddev=0.1))\n",
    "b2 = tf.Variable(tf.zeros([hidden2_size]))\n",
    "W3 = tf.Variable(tf.truncated_normal([hidden2_size, hidden3_size],stddev=0.1))\n",
    "b3 = tf.Variable(tf.zeros([hidden3_size]))\n",
    "W4=tf.Variable(tf.truncated_normal([hidden3_size, output_size],stddev=0.1))\n",
    "b4 = tf.Variable(tf.zeros([output_size]))\n",
    "\n",
    "# builing  the model\n",
    "y1 = tf.nn.relu(tf.add(tf.matmul(x,W1) ,b1))\n",
    "y2=tf.nn.relu(tf.add(tf.matmul(y1,W2),b2))\n",
    "y3=tf.nn.relu(tf.add(tf.matmul(y2,W3),b3))\n",
    "y=tf.nn.softmax(tf.add(tf.matmul(y3,W4),b4))\n",
    " \n",
    "# Defining Cost Function\n",
    "#cross_entropy = tf.reduce_mean(-tf.reduce_sum(y_ * tf.log(y), reduction_indices=[1]))\n",
    "cross_entropy =tf.nn.softmax_cross_entropy_with_logits_v2(labels=y_,logits=y)\n",
    "# Determining the accuracy of parameters\n",
    "correct_prediction = tf.equal(tf.argmax(y,1), tf.argmax(y_,1))\n",
    "accuracy = tf.reduce_mean(tf.cast(correct_prediction, tf.float32))\n",
    "tf.summary.histogram(\"accuracy\", accuracy) \n",
    "# Implementing Gradient Descent Algorithm\n",
    "#train_op = tf.train.GradientDescentOptimizer(learning_rate).minimize(cross_entropy)\n",
    "#Implementing the Adam Optimizer\n",
    "train_op = tf.train.AdamOptimizer(1e-4).minimize(cross_entropy) \n",
    "\n",
    "# Initializing the session\n",
    "with tf.Session() as sess:\n",
    "    sess.run(tf.global_variables_initializer())\n",
    " \n",
    "    # Creating batches of data for epochs\n",
    "    for epoch in range(training_epochs):\n",
    "        batch_count = int(mnist.train.num_examples / batch)\n",
    "        for i in range(batch_count):\n",
    "            #batch_x, batch_y = mnist.train.next_batch(batch)\n",
    "            batch_x, batch_y=next_batch(batch, mnist.train.images, mnist.train.labels)\n",
    "            # Executing the model\n",
    "            sess.run([train_op], feed_dict={x: batch_x, y_: batch_y})\n",
    " \n",
    "        # Print Accuracy of the model\n",
    "        if epoch % display_step == 0:\n",
    "            print(\"Epoch: \", epoch\n",
    "            ,\"Accuracy: \", accuracy.eval(feed_dict={x: mnist.test.images, y_: mnist.test.labels})\n",
    "           ,\"Model Execution Complete\")\n",
    "    yy=tf.argmax(y.eval(feed_dict={x: mnist.test.images}),1)\n",
    "    ll=tf.argmax(mnist.test.labels.T)\n",
    "    print(sess.run(yy))\n",
    "    print(sess.run(ll))\n",
    "    confusion = tf.confusion_matrix(labels=ll, predictions=yy, num_classes=10)\n",
    "    print(\"test accuracy\",accuracy.eval(feed_dict={x: mnist.test.images, y_: mnist.test.labels}))\n",
    "    print(mnist.train.labels.shape)\n",
    "    print(mnist.test.labels.shape)\n",
    "    plt.figure(figsize = (5,5))\n",
    "    sns.heatmap(sess.run(confusion),square=False,annot=True,cbar=False,fmt='d')\n",
    "    plt.xlabel('predicted value')\n",
    "    plt.ylabel('true value')\n",
    " \n"
   ]
  },
  {
   "cell_type": "markdown",
   "metadata": {},
   "source": [
    "## Exercise 3\n",
    "\n",
    "Load Abalone.csb for classication task. Some information about the data:\n",
    "\n",
    "- Predicting the age of abalone from physical measurements. \n",
    "- The age of-abalone is determined by cutting the shell through the cone, staining it, and counting the number of rings through a microscope \n",
    "- a boring andtime-consuming task.  \n",
    "- Other measurements, which are easier to obtain are used to predict the age.  \n",
    "\n",
    "Attributes:\n",
    "  - 1   sex                 u  M F I\t# Gender or Infant (I)\n",
    "  - 2   length              u  (0,Inf]\t# Longest shell measurement (mm)\n",
    "  - 3   diameter            u  (0,Inf]\t# perpendicular to length     (mm)\n",
    "  - 4   height              u  (0,Inf]\t# with meat in shell (mm)\n",
    "  - 5   whole_weight        u  (0,Inf]\t# whole abalone  (gr)\n",
    "  - 6   shucked_weight      u  (0,Inf]\t# weight of meat (gr)    \n",
    "  - 7   viscera_weight      u  (0,Inf]\t# gut weight (after bleeding) (gr)\n",
    "  - 8   shell_weight        u  (0,Inf]\t# after being dried (gr)\n",
    "  - 9   rings               u  0..29\t# +1.5 gives the age in years"
   ]
  },
  {
   "cell_type": "code",
   "execution_count": 24,
   "metadata": {},
   "outputs": [
    {
     "name": "stdout",
     "output_type": "stream",
     "text": [
      "  Sex  Length  Diameter  Height  Whole_weight  Shucked_weight  Viscera_weight  \\\n",
      "0   M   0.455     0.365   0.095        0.5140          0.2245          0.1010   \n",
      "1   M   0.350     0.265   0.090        0.2255          0.0995          0.0485   \n",
      "2   F   0.530     0.420   0.135        0.6770          0.2565          0.1415   \n",
      "3   M   0.440     0.365   0.125        0.5160          0.2155          0.1140   \n",
      "4   I   0.330     0.255   0.080        0.2050          0.0895          0.0395   \n",
      "\n",
      "   Shell_weigh  Rings  \n",
      "0        0.150     15  \n",
      "1        0.070      7  \n",
      "2        0.210      9  \n",
      "3        0.155     10  \n",
      "4        0.055      7  \n",
      "['F', 'I', 'M']\n",
      "   Sex  Length  Diameter  Height  Whole_weight  Shucked_weight  \\\n",
      "0    2   0.455     0.365   0.095        0.5140          0.2245   \n",
      "1    2   0.350     0.265   0.090        0.2255          0.0995   \n",
      "2    0   0.530     0.420   0.135        0.6770          0.2565   \n",
      "3    2   0.440     0.365   0.125        0.5160          0.2155   \n",
      "4    1   0.330     0.255   0.080        0.2050          0.0895   \n",
      "\n",
      "   Viscera_weight  Shell_weigh  \n",
      "0          0.1010        0.150  \n",
      "1          0.0485        0.070  \n",
      "2          0.1415        0.210  \n",
      "3          0.1140        0.155  \n",
      "4          0.0395        0.055  \n",
      "(4177, 8)\n",
      "(4177, 8)\n",
      "(3341, 30)\n"
     ]
    }
   ],
   "source": [
    "# import tensorflow to the environment\n",
    "import tensorflow as tf\n",
    "import  seaborn as sns\n",
    "import  matplotlib.pyplot as plt\n",
    "# Required Python Packages\n",
    "from tensorflow.examples.tutorials.mnist import input_data\n",
    "tf.set_random_seed(234)\n",
    "import numpy as np\n",
    "import pandas as pd\n",
    "\n",
    "ddf=pd.read_csv('abalone/abalone_data.csv')\n",
    "print(ddf.head())\n",
    "from sklearn import preprocessing \n",
    "from sklearn.model_selection import train_test_split\n",
    "# encode class values as integers\n",
    "le = preprocessing.LabelEncoder() #create an encoder instance\n",
    "le.fit([\"M\", \"F\",\"I\"])             #fit the encoder with three string \"M\", \"F\" and \"I\"\n",
    "print(list(list(le.classes_)))\n",
    "\n",
    "ddf['Sex']=le.transform(ddf['Sex'])    #to transform df['driveway'] value of yes and no to 1 and 0\n",
    "\n",
    "target=ddf['Rings']\n",
    "ddf.drop('Rings',axis=1, inplace=True)\n",
    "print(ddf.head())\n",
    "n_samples = len(ddf)\n",
    "print(ddf.shape)\n",
    "ddf = ddf.values.reshape((n_samples, -1))\n",
    "print(ddf.shape)\n",
    "Xtrain, Xtest, ytrain, ytest=train_test_split(ddf,target,random_state=0,test_size=0.2,shuffle=True)\n",
    "\n",
    "oytrain=tf.one_hot(ytrain,30)\n",
    "print(oytrain.shape)\n"
   ]
  },
  {
   "cell_type": "code",
   "execution_count": 40,
   "metadata": {},
   "outputs": [
    {
     "name": "stdout",
     "output_type": "stream",
     "text": [
      "Epoch:  0 Accuracy:  0.08971292 Model Execution Complete\n",
      "Epoch:  50 Accuracy:  0.21889952 Model Execution Complete\n",
      "Epoch:  100 Accuracy:  0.23564593 Model Execution Complete\n",
      "Epoch:  150 Accuracy:  0.22966507 Model Execution Complete\n",
      "[10  8 10  5 10 10  8  8  7 10  8  5  8  8  5 10  7 10 10  8  7  6  8  7\n",
      " 10 10  6 10 10 10  7  5 10 10  7  8  8 10  7 10 10  8 10 10 10  8 10 10\n",
      " 10  7 10  7  8 10  8  8  6  7  7  7 10 10 10  8  7 10 10 10  8 10  8 10\n",
      " 10 10 10  8 10 10 10  8 10  5  7 10 10  8 10 10  5  7 10 10  8  7 10  5\n",
      "  8  7 10 10 10  8 10 10  5 10  8  7  7 10 10 10 10 10 10 10 10 10  5  8\n",
      "  7 10  7  8 10 10 10 10  7 10 10  8  8 10 10 10  8  8  7 10 10  8  7 10\n",
      " 10 10  7  8  8  6  8 10  7 10  7  7 10  7 10  7 10  7  8 10  5 10  7  6\n",
      " 10 10 10  6  8 10 10 10  5  8  7 10  8 10 10  8 10 10 10  8  6  8 10  8\n",
      "  8 10 10  8  7  8  5 10  8  8 10 10 10 10  7 10  8 10  5 10 10 10 10 10\n",
      " 10 10  5 10 10 10  8 10 10 10 10  8 10 10  8  8  6 10  8 10  8  5  8 10\n",
      " 10 10 10 10 10 10 10  8 10 10 10  8 10 10 10 10  7  8 10 10 10  8 10  7\n",
      " 10  8  8  8  7  7 10  8  7  7  6 10 10  8 10  8  6 10  7 10 10 10  8 10\n",
      " 10 10  8  8  5  8  7  8  6  5 10 10  8  8 10  8  8  7  8 10 10 10 10 10\n",
      "  7 10 10 10  8  6  7 10 10 10  8 10 10 10  8 10 10 10  8 10  5 10 10 10\n",
      "  8  8 10 10  8  8 10 10 10  7  5 10 10  7  5 10 10 10 10  8 10 10  8 10\n",
      "  8 10  8 10 10  6  6 10  8  8 10  7 10  8 10 10 10  7 10  5  8  8 10 10\n",
      "  7 10 10  8  7  6 10 10  8  8 10  7 10  8 10  8  7 10  7 10  8 10  7 10\n",
      " 10 10  8  8 10 10 10 10 10 10 10 10 10  8 10 10  5 10  8 10 10 10  8 10\n",
      " 10 10  8  8 10 10 10 10  7  6 10  7  7  7 10  5  8 10  6  6 10  6  7  7\n",
      " 10 10  8 10  8 10  8 10  8 10  7 10  8  8 10  8  7 10  8  8  7  7  7 10\n",
      " 10 10  7  8 10 10 10 10  8 10  5 10 10 10  6  7  8  5 10 10 10 10  7 10\n",
      " 10 10 10 10  7  5 10 10 10 10  8  8 10 10 10 10 10  8 10 10  6 10  8 10\n",
      "  8  8  7  8  8 10  5 10 10 10 10 10  8 10  8 10  7 10  8  8 10 10 10 10\n",
      "  7 10 10  8  8 10 10 10 10 10 10 10 10  7  8 10 10  8 10 10  8 10  8  7\n",
      " 10 10 10  5 10  5  5  6  8 10 10 10  8 10  5  8 10  7 10 10  5  8  6 10\n",
      "  8 10 10 10 10  8 10  7 10 10  7 10 10  8 10 10  8  7 10 10 10 10  7 10\n",
      " 10 10  7 10  8  8  8  7  8  7  7 10  5 10  8 10  8 10 10 10 10  8  7 10\n",
      " 10  8  8  8  8 10  7 10  7  7 10 10  8  8 10 10 10  8  8  6  6 10 10 10\n",
      " 10 10  5  7  8  6  8 10 10 10 10 10 10  7 10 10  8 10 10 10 10 10 10 10\n",
      " 10 10  8  8  6 10 10 10  8 10  8  8 10 10  6  6  5 10  7  8 10  8  7  7\n",
      " 10  5  8  7 10  5 10  8 10 10 10 10 10 10  8 10 10 10  8  5 10 10  6  7\n",
      " 10  7 10 10  8  8 10  8  7 10  8 10  8  7 10 10  7  6  7  5 10 10 10 10\n",
      " 10  8  6  8 10 10 10  8  7 10  7 10 10 10  8  7  8 10 10  7 10 10 10 10\n",
      " 10 10 10 10 10 10  5 10  8  7  8  6  6  8  8 10  7  8  8  8 10 10 10 10\n",
      " 10 10 10  8  6 10 10  6  8 10 10 10  6  6 10 10  7  7 10  5]\n",
      "[  0   0   0 171  14   3  49   6   1   9  24   2   4   0  29  27  43  17\n",
      "  98 190  53 394 777 209   0   0   0   0   0 696]\n"
     ]
    },
    {
     "ename": "ValueError",
     "evalue": "Dimension 0 in both shapes must be equal, but are 30 and 836. Shapes are [30] and [836].\n\tFrom merging shape 0 with other shapes. for 'confusion_matrix_2/stack_1' (op: 'Pack') with input shapes: [30], [836].",
     "output_type": "error",
     "traceback": [
      "\u001b[1;31m---------------------------------------------------------------------------\u001b[0m",
      "\u001b[1;31mInvalidArgumentError\u001b[0m                      Traceback (most recent call last)",
      "\u001b[1;32mc:\\users\\teokk\\appdata\\local\\programs\\python\\python35\\lib\\site-packages\\tensorflow\\python\\framework\\ops.py\u001b[0m in \u001b[0;36m_create_c_op\u001b[1;34m(graph, node_def, inputs, control_inputs)\u001b[0m\n\u001b[0;32m   1566\u001b[0m   \u001b[1;32mtry\u001b[0m\u001b[1;33m:\u001b[0m\u001b[1;33m\u001b[0m\u001b[0m\n\u001b[1;32m-> 1567\u001b[1;33m     \u001b[0mc_op\u001b[0m \u001b[1;33m=\u001b[0m \u001b[0mc_api\u001b[0m\u001b[1;33m.\u001b[0m\u001b[0mTF_FinishOperation\u001b[0m\u001b[1;33m(\u001b[0m\u001b[0mop_desc\u001b[0m\u001b[1;33m)\u001b[0m\u001b[1;33m\u001b[0m\u001b[0m\n\u001b[0m\u001b[0;32m   1568\u001b[0m   \u001b[1;32mexcept\u001b[0m \u001b[0merrors\u001b[0m\u001b[1;33m.\u001b[0m\u001b[0mInvalidArgumentError\u001b[0m \u001b[1;32mas\u001b[0m \u001b[0me\u001b[0m\u001b[1;33m:\u001b[0m\u001b[1;33m\u001b[0m\u001b[0m\n",
      "\u001b[1;31mInvalidArgumentError\u001b[0m: Dimension 0 in both shapes must be equal, but are 30 and 836. Shapes are [30] and [836].\n\tFrom merging shape 0 with other shapes. for 'confusion_matrix_2/stack_1' (op: 'Pack') with input shapes: [30], [836].",
      "\nDuring handling of the above exception, another exception occurred:\n",
      "\u001b[1;31mValueError\u001b[0m                                Traceback (most recent call last)",
      "\u001b[1;32m<ipython-input-40-c884b041ede2>\u001b[0m in \u001b[0;36m<module>\u001b[1;34m()\u001b[0m\n\u001b[0;32m     93\u001b[0m     \u001b[0mprint\u001b[0m\u001b[1;33m(\u001b[0m\u001b[0msess\u001b[0m\u001b[1;33m.\u001b[0m\u001b[0mrun\u001b[0m\u001b[1;33m(\u001b[0m\u001b[0myy\u001b[0m\u001b[1;33m)\u001b[0m\u001b[1;33m)\u001b[0m\u001b[1;33m\u001b[0m\u001b[0m\n\u001b[0;32m     94\u001b[0m     \u001b[0mprint\u001b[0m\u001b[1;33m(\u001b[0m\u001b[0msess\u001b[0m\u001b[1;33m.\u001b[0m\u001b[0mrun\u001b[0m\u001b[1;33m(\u001b[0m\u001b[0mll\u001b[0m\u001b[1;33m)\u001b[0m\u001b[1;33m)\u001b[0m\u001b[1;33m\u001b[0m\u001b[0m\n\u001b[1;32m---> 95\u001b[1;33m     \u001b[0mconfusion\u001b[0m \u001b[1;33m=\u001b[0m \u001b[0mtf\u001b[0m\u001b[1;33m.\u001b[0m\u001b[0mconfusion_matrix\u001b[0m\u001b[1;33m(\u001b[0m\u001b[0mlabels\u001b[0m\u001b[1;33m=\u001b[0m\u001b[0mll\u001b[0m\u001b[1;33m,\u001b[0m \u001b[0mpredictions\u001b[0m\u001b[1;33m=\u001b[0m\u001b[0myy\u001b[0m\u001b[1;33m,\u001b[0m \u001b[0mnum_classes\u001b[0m\u001b[1;33m=\u001b[0m\u001b[1;36m30\u001b[0m\u001b[1;33m)\u001b[0m\u001b[1;33m\u001b[0m\u001b[0m\n\u001b[0m\u001b[0;32m     96\u001b[0m     \u001b[0mprint\u001b[0m\u001b[1;33m(\u001b[0m\u001b[1;34m\"test accuracy\"\u001b[0m\u001b[1;33m,\u001b[0m\u001b[0maccuracy\u001b[0m\u001b[1;33m.\u001b[0m\u001b[0meval\u001b[0m\u001b[1;33m(\u001b[0m\u001b[0mfeed_dict\u001b[0m\u001b[1;33m=\u001b[0m\u001b[1;33m{\u001b[0m\u001b[0mx\u001b[0m\u001b[1;33m:\u001b[0m \u001b[0mXtest\u001b[0m\u001b[1;33m,\u001b[0m \u001b[0my_\u001b[0m\u001b[1;33m:\u001b[0m \u001b[0moytest\u001b[0m\u001b[1;33m}\u001b[0m\u001b[1;33m)\u001b[0m\u001b[1;33m)\u001b[0m\u001b[1;33m\u001b[0m\u001b[0m\n\u001b[0;32m     97\u001b[0m     \u001b[0mprint\u001b[0m\u001b[1;33m(\u001b[0m\u001b[0mmnist\u001b[0m\u001b[1;33m.\u001b[0m\u001b[0mtrain\u001b[0m\u001b[1;33m.\u001b[0m\u001b[0mlabels\u001b[0m\u001b[1;33m.\u001b[0m\u001b[0mshape\u001b[0m\u001b[1;33m)\u001b[0m\u001b[1;33m\u001b[0m\u001b[0m\n",
      "\u001b[1;32mc:\\users\\teokk\\appdata\\local\\programs\\python\\python35\\lib\\site-packages\\tensorflow\\python\\ops\\confusion_matrix.py\u001b[0m in \u001b[0;36mconfusion_matrix\u001b[1;34m(labels, predictions, num_classes, dtype, name, weights)\u001b[0m\n\u001b[0;32m    187\u001b[0m \u001b[1;33m\u001b[0m\u001b[0m\n\u001b[0;32m    188\u001b[0m     \u001b[0mshape\u001b[0m \u001b[1;33m=\u001b[0m \u001b[0marray_ops\u001b[0m\u001b[1;33m.\u001b[0m\u001b[0mstack\u001b[0m\u001b[1;33m(\u001b[0m\u001b[1;33m[\u001b[0m\u001b[0mnum_classes\u001b[0m\u001b[1;33m,\u001b[0m \u001b[0mnum_classes\u001b[0m\u001b[1;33m]\u001b[0m\u001b[1;33m)\u001b[0m\u001b[1;33m\u001b[0m\u001b[0m\n\u001b[1;32m--> 189\u001b[1;33m     \u001b[0mindices\u001b[0m \u001b[1;33m=\u001b[0m \u001b[0marray_ops\u001b[0m\u001b[1;33m.\u001b[0m\u001b[0mstack\u001b[0m\u001b[1;33m(\u001b[0m\u001b[1;33m[\u001b[0m\u001b[0mlabels\u001b[0m\u001b[1;33m,\u001b[0m \u001b[0mpredictions\u001b[0m\u001b[1;33m]\u001b[0m\u001b[1;33m,\u001b[0m \u001b[0maxis\u001b[0m\u001b[1;33m=\u001b[0m\u001b[1;36m1\u001b[0m\u001b[1;33m)\u001b[0m\u001b[1;33m\u001b[0m\u001b[0m\n\u001b[0m\u001b[0;32m    190\u001b[0m     values = (array_ops.ones_like(predictions, dtype)\n\u001b[0;32m    191\u001b[0m               if weights is None else weights)\n",
      "\u001b[1;32mc:\\users\\teokk\\appdata\\local\\programs\\python\\python35\\lib\\site-packages\\tensorflow\\python\\ops\\array_ops.py\u001b[0m in \u001b[0;36mstack\u001b[1;34m(values, axis, name)\u001b[0m\n\u001b[0;32m    946\u001b[0m                                                       expanded_num_dims))\n\u001b[0;32m    947\u001b[0m \u001b[1;33m\u001b[0m\u001b[0m\n\u001b[1;32m--> 948\u001b[1;33m   \u001b[1;32mreturn\u001b[0m \u001b[0mgen_array_ops\u001b[0m\u001b[1;33m.\u001b[0m\u001b[0mpack\u001b[0m\u001b[1;33m(\u001b[0m\u001b[0mvalues\u001b[0m\u001b[1;33m,\u001b[0m \u001b[0maxis\u001b[0m\u001b[1;33m=\u001b[0m\u001b[0maxis\u001b[0m\u001b[1;33m,\u001b[0m \u001b[0mname\u001b[0m\u001b[1;33m=\u001b[0m\u001b[0mname\u001b[0m\u001b[1;33m)\u001b[0m\u001b[1;33m\u001b[0m\u001b[0m\n\u001b[0m\u001b[0;32m    949\u001b[0m \u001b[1;33m\u001b[0m\u001b[0m\n\u001b[0;32m    950\u001b[0m \u001b[1;33m\u001b[0m\u001b[0m\n",
      "\u001b[1;32mc:\\users\\teokk\\appdata\\local\\programs\\python\\python35\\lib\\site-packages\\tensorflow\\python\\ops\\gen_array_ops.py\u001b[0m in \u001b[0;36mpack\u001b[1;34m(values, axis, name)\u001b[0m\n\u001b[0;32m   5438\u001b[0m     \u001b[0maxis\u001b[0m \u001b[1;33m=\u001b[0m \u001b[0m_execute\u001b[0m\u001b[1;33m.\u001b[0m\u001b[0mmake_int\u001b[0m\u001b[1;33m(\u001b[0m\u001b[0maxis\u001b[0m\u001b[1;33m,\u001b[0m \u001b[1;34m\"axis\"\u001b[0m\u001b[1;33m)\u001b[0m\u001b[1;33m\u001b[0m\u001b[0m\n\u001b[0;32m   5439\u001b[0m     _, _, _op = _op_def_lib._apply_op_helper(\n\u001b[1;32m-> 5440\u001b[1;33m         \"Pack\", values=values, axis=axis, name=name)\n\u001b[0m\u001b[0;32m   5441\u001b[0m     \u001b[0m_result\u001b[0m \u001b[1;33m=\u001b[0m \u001b[0m_op\u001b[0m\u001b[1;33m.\u001b[0m\u001b[0moutputs\u001b[0m\u001b[1;33m[\u001b[0m\u001b[1;33m:\u001b[0m\u001b[1;33m]\u001b[0m\u001b[1;33m\u001b[0m\u001b[0m\n\u001b[0;32m   5442\u001b[0m     \u001b[0m_inputs_flat\u001b[0m \u001b[1;33m=\u001b[0m \u001b[0m_op\u001b[0m\u001b[1;33m.\u001b[0m\u001b[0minputs\u001b[0m\u001b[1;33m\u001b[0m\u001b[0m\n",
      "\u001b[1;32mc:\\users\\teokk\\appdata\\local\\programs\\python\\python35\\lib\\site-packages\\tensorflow\\python\\framework\\op_def_library.py\u001b[0m in \u001b[0;36m_apply_op_helper\u001b[1;34m(self, op_type_name, name, **keywords)\u001b[0m\n\u001b[0;32m    785\u001b[0m         op = g.create_op(op_type_name, inputs, output_types, name=scope,\n\u001b[0;32m    786\u001b[0m                          \u001b[0minput_types\u001b[0m\u001b[1;33m=\u001b[0m\u001b[0minput_types\u001b[0m\u001b[1;33m,\u001b[0m \u001b[0mattrs\u001b[0m\u001b[1;33m=\u001b[0m\u001b[0mattr_protos\u001b[0m\u001b[1;33m,\u001b[0m\u001b[1;33m\u001b[0m\u001b[0m\n\u001b[1;32m--> 787\u001b[1;33m                          op_def=op_def)\n\u001b[0m\u001b[0;32m    788\u001b[0m       \u001b[1;32mreturn\u001b[0m \u001b[0moutput_structure\u001b[0m\u001b[1;33m,\u001b[0m \u001b[0mop_def\u001b[0m\u001b[1;33m.\u001b[0m\u001b[0mis_stateful\u001b[0m\u001b[1;33m,\u001b[0m \u001b[0mop\u001b[0m\u001b[1;33m\u001b[0m\u001b[0m\n\u001b[0;32m    789\u001b[0m \u001b[1;33m\u001b[0m\u001b[0m\n",
      "\u001b[1;32mc:\\users\\teokk\\appdata\\local\\programs\\python\\python35\\lib\\site-packages\\tensorflow\\python\\framework\\ops.py\u001b[0m in \u001b[0;36mcreate_op\u001b[1;34m(self, op_type, inputs, dtypes, input_types, name, attrs, op_def, compute_shapes, compute_device)\u001b[0m\n\u001b[0;32m   3390\u001b[0m           \u001b[0minput_types\u001b[0m\u001b[1;33m=\u001b[0m\u001b[0minput_types\u001b[0m\u001b[1;33m,\u001b[0m\u001b[1;33m\u001b[0m\u001b[0m\n\u001b[0;32m   3391\u001b[0m           \u001b[0moriginal_op\u001b[0m\u001b[1;33m=\u001b[0m\u001b[0mself\u001b[0m\u001b[1;33m.\u001b[0m\u001b[0m_default_original_op\u001b[0m\u001b[1;33m,\u001b[0m\u001b[1;33m\u001b[0m\u001b[0m\n\u001b[1;32m-> 3392\u001b[1;33m           op_def=op_def)\n\u001b[0m\u001b[0;32m   3393\u001b[0m \u001b[1;33m\u001b[0m\u001b[0m\n\u001b[0;32m   3394\u001b[0m       \u001b[1;31m# Note: shapes are lazily computed with the C API enabled.\u001b[0m\u001b[1;33m\u001b[0m\u001b[1;33m\u001b[0m\u001b[0m\n",
      "\u001b[1;32mc:\\users\\teokk\\appdata\\local\\programs\\python\\python35\\lib\\site-packages\\tensorflow\\python\\framework\\ops.py\u001b[0m in \u001b[0;36m__init__\u001b[1;34m(self, node_def, g, inputs, output_types, control_inputs, input_types, original_op, op_def)\u001b[0m\n\u001b[0;32m   1732\u001b[0m           op_def, inputs, node_def.attr)\n\u001b[0;32m   1733\u001b[0m       self._c_op = _create_c_op(self._graph, node_def, grouped_inputs,\n\u001b[1;32m-> 1734\u001b[1;33m                                 control_input_ops)\n\u001b[0m\u001b[0;32m   1735\u001b[0m     \u001b[1;32melse\u001b[0m\u001b[1;33m:\u001b[0m\u001b[1;33m\u001b[0m\u001b[0m\n\u001b[0;32m   1736\u001b[0m       \u001b[0mself\u001b[0m\u001b[1;33m.\u001b[0m\u001b[0m_c_op\u001b[0m \u001b[1;33m=\u001b[0m \u001b[1;32mNone\u001b[0m\u001b[1;33m\u001b[0m\u001b[0m\n",
      "\u001b[1;32mc:\\users\\teokk\\appdata\\local\\programs\\python\\python35\\lib\\site-packages\\tensorflow\\python\\framework\\ops.py\u001b[0m in \u001b[0;36m_create_c_op\u001b[1;34m(graph, node_def, inputs, control_inputs)\u001b[0m\n\u001b[0;32m   1568\u001b[0m   \u001b[1;32mexcept\u001b[0m \u001b[0merrors\u001b[0m\u001b[1;33m.\u001b[0m\u001b[0mInvalidArgumentError\u001b[0m \u001b[1;32mas\u001b[0m \u001b[0me\u001b[0m\u001b[1;33m:\u001b[0m\u001b[1;33m\u001b[0m\u001b[0m\n\u001b[0;32m   1569\u001b[0m     \u001b[1;31m# Convert to ValueError for backwards compatibility.\u001b[0m\u001b[1;33m\u001b[0m\u001b[1;33m\u001b[0m\u001b[0m\n\u001b[1;32m-> 1570\u001b[1;33m     \u001b[1;32mraise\u001b[0m \u001b[0mValueError\u001b[0m\u001b[1;33m(\u001b[0m\u001b[0mstr\u001b[0m\u001b[1;33m(\u001b[0m\u001b[0me\u001b[0m\u001b[1;33m)\u001b[0m\u001b[1;33m)\u001b[0m\u001b[1;33m\u001b[0m\u001b[0m\n\u001b[0m\u001b[0;32m   1571\u001b[0m \u001b[1;33m\u001b[0m\u001b[0m\n\u001b[0;32m   1572\u001b[0m   \u001b[1;32mreturn\u001b[0m \u001b[0mc_op\u001b[0m\u001b[1;33m\u001b[0m\u001b[0m\n",
      "\u001b[1;31mValueError\u001b[0m: Dimension 0 in both shapes must be equal, but are 30 and 836. Shapes are [30] and [836].\n\tFrom merging shape 0 with other shapes. for 'confusion_matrix_2/stack_1' (op: 'Pack') with input shapes: [30], [836]."
     ]
    }
   ],
   "source": [
    "# import tensorflow to the environment\n",
    "import tensorflow as tf\n",
    "import  seaborn as sns\n",
    "import  matplotlib.pyplot as plt\n",
    "# Required Python Packages\n",
    "from tensorflow.examples.tutorials.mnist import input_data\n",
    "tf.set_random_seed(234)\n",
    "np.random.seed(1235)\n",
    "\n",
    "def next_batch(num, data, labels):\n",
    "    '''\n",
    "    Return a total of `num` random samples and labels. \n",
    "    '''\n",
    "    idx = np.arange(0 , len(data))\n",
    "    np.random.shuffle(idx)\n",
    "    idx = idx[:num]\n",
    "    data_shuffle = [data[ i] for i in idx]\n",
    "    labels_shuffle = [labels[ i] for i in idx]\n",
    "\n",
    "    return np.asarray(data_shuffle), np.asarray(labels_shuffle)\n",
    "\n",
    "def onehot_encoder(values):\n",
    "    n_values = np.max(values) + 1\n",
    "    result=np.eye(30)[values]\n",
    "    return result\n",
    "\n",
    "\n",
    "# initializing parameters for the model\n",
    "num_examples=Xtrain.shape[0]\n",
    "batch = 200\n",
    "learning_rate = 0.01\n",
    "training_epochs = 200\n",
    "display_step=50\n",
    "input_size=Xtrain.shape[1]\n",
    "hidden1_size=256\n",
    "hidden2_size=128\n",
    "hidden3_size=64\n",
    "output_size=30\n",
    "# creating placeholders\n",
    "x = tf.placeholder(tf.float32, shape=[None, input_size])\n",
    "y_ = tf.placeholder(tf.float32, shape=[None, output_size])\n",
    " \n",
    "# initializing the required variables\n",
    "W1 = tf.Variable(tf.truncated_normal([input_size, hidden1_size], stddev=0.1))\n",
    "b1 = tf.Variable(tf.zeros([hidden1_size]))\n",
    "W2 = tf.Variable(tf.truncated_normal([hidden1_size, hidden2_size],stddev=0.1))\n",
    "b2 = tf.Variable(tf.zeros([hidden2_size]))\n",
    "W3 = tf.Variable(tf.truncated_normal([hidden2_size, hidden3_size],stddev=0.1))\n",
    "b3 = tf.Variable(tf.zeros([hidden3_size]))\n",
    "W4=tf.Variable(tf.truncated_normal([hidden3_size, output_size],stddev=0.1))\n",
    "b4 = tf.Variable(tf.zeros([output_size]))\n",
    "\n",
    "# builing  the model\n",
    "y1 = tf.nn.relu(tf.add(tf.matmul(x,W1) ,b1))\n",
    "y2=tf.nn.relu(tf.add(tf.matmul(y1,W2),b2))\n",
    "y3=tf.nn.relu(tf.add(tf.matmul(y2,W3),b3))\n",
    "y=tf.nn.softmax(tf.add(tf.matmul(y3,W4),b4))\n",
    " \n",
    "# Defining Cost Function\n",
    "#cross_entropy = tf.reduce_mean(-tf.reduce_sum(y_ * tf.log(y), reduction_indices=[1]))\n",
    "cross_entropy =tf.nn.softmax_cross_entropy_with_logits_v2(labels=y_,logits=y)\n",
    "# Determining the accuracy of parameters\n",
    "correct_prediction = tf.equal(tf.argmax(y,1), tf.argmax(y_,1))\n",
    "accuracy = tf.reduce_mean(tf.cast(correct_prediction, tf.float32))\n",
    "tf.summary.histogram(\"accuracy\", accuracy) \n",
    "# Implementing Gradient Descent Algorithm\n",
    "#train_op = tf.train.GradientDescentOptimizer(learning_rate).minimize(cross_entropy)\n",
    "#Implementing the Adam Optimizer\n",
    "train_op = tf.train.AdamOptimizer(1e-4).minimize(cross_entropy) \n",
    "oytrain=onehot_encoder(ytrain)\n",
    "oytest=onehot_encoder(ytest)\n",
    "\n",
    "\n",
    "# Initializing the session\n",
    "with tf.Session() as sess:\n",
    "    sess.run(tf.global_variables_initializer())\n",
    " \n",
    "    # Creating batches of data for epochs\n",
    "    for epoch in range(training_epochs):\n",
    "        batch_count = int(num_examples / batch)\n",
    "        for i in range(batch_count):\n",
    "            batch_x, batch_y = next_batch(batch,Xtrain.tolist(),oytrain.tolist())\n",
    "            # Executing the model\n",
    "            sess.run([train_op], feed_dict={x: batch_x, y_: batch_y})\n",
    " \n",
    "        # Print Accuracy of the model\n",
    "        if epoch % display_step == 0:\n",
    "            print(\"Epoch: \", epoch\n",
    "            ,\"Accuracy: \", accuracy.eval(feed_dict={x: Xtest, y_: oytest})\n",
    "           ,\"Model Execution Complete\")\n",
    "    yy=tf.argmax(y.eval(feed_dict={x: Xtest}),1)\n",
    "    ll=tf.argmax(oytest)\n",
    "    print(sess.run(yy))\n",
    "    print(sess.run(ll))\n",
    "    confusion = tf.confusion_matrix(labels=ll, predictions=yy, num_classes=30)\n",
    "    print(\"test accuracy\",accuracy.eval(feed_dict={x: Xtest, y_: oytest}))\n",
    "    print(mnist.train.labels.shape)\n",
    "    print(mnist.test.labels.shape)\n",
    "    plt.figure(figsize = (5,5))\n",
    "    sns.heatmap(sess.run(confusion),square=False,annot=True,cbar=False,fmt='d')\n",
    "    plt.xlabel('predicted value')\n",
    "    plt.ylabel('true value')\n",
    " \n",
    "\n",
    "\n"
   ]
  },
  {
   "cell_type": "code",
   "execution_count": null,
   "metadata": {},
   "outputs": [],
   "source": [
    "from sklearn.metrics import confusion_matrix\n",
    "import  seaborn as sns\n",
    "plt.figure(figsize = (10,10))\n",
    "mat2=confusion_matrix(ytest,ypredict)\n",
    "sns.heatmap(mat2,square=False,annot=True,cbar=False)\n",
    "plt.xlabel('predicted value')\n",
    "plt.ylabel('true value')\n"
   ]
  },
  {
   "cell_type": "code",
   "execution_count": null,
   "metadata": {},
   "outputs": [],
   "source": [
    "ax=plt.axes()\n",
    "ax.hist(target)\n",
    "unique, counts = np.unique(target, return_counts=True)\n",
    "print(unique)\n",
    "print(counts)"
   ]
  },
  {
   "cell_type": "code",
   "execution_count": null,
   "metadata": {},
   "outputs": [],
   "source": [
    "ax=plt.axes()\n",
    "ax.hist(ytrain)\n",
    "unique, counts = np.unique(ytrain, return_counts=True)\n",
    "print(unique)\n",
    "print(counts)"
   ]
  },
  {
   "cell_type": "code",
   "execution_count": null,
   "metadata": {},
   "outputs": [],
   "source": [
    "ax=plt.axes()\n",
    "ax.hist(ytest)\n",
    "unique, counts = np.unique(ytest, return_counts=True)\n",
    "print(unique)\n",
    "print(counts)"
   ]
  },
  {
   "cell_type": "code",
   "execution_count": null,
   "metadata": {},
   "outputs": [],
   "source": [
    "import numpy as np\n",
    "import pandas as pd\n",
    "from sklearn import preprocessing \n",
    "from sklearn.linear_model import SGDClassifier\n",
    "from sklearn.svm import LinearSVC\n",
    "from sklearn.model_selection import train_test_split\n",
    "\n",
    "dda=pd.read_csv('abalone_data.csv')\n",
    "#print(dda.head())\n",
    "# encode class values as integers\n",
    "le = preprocessing.LabelEncoder() #create an encoder instance\n",
    "le.fit([\"M\", \"F\",\"I\"])             #fit the encoder with three string \"M\", \"F\" and \"I\"\n",
    "\n",
    "dda['Sex']=le.transform(dda['Sex'])    #to transform df['driveway'] value of yes and no to 1 and 0\n",
    "print(dda.shape)\n",
    "dupitem=[1,2,25,26,29]\n",
    "for c in dupitem:\n",
    "    print(c)\n",
    "    iidx=dda.index[dda['Rings']==c].tolist()\n",
    "    frame=[dda.iloc[iidx[0]]]\n",
    "    dda=dda.append(frame)\n",
    "    \n",
    "target=dda['Rings']\n",
    "dda.drop('Rings',axis=1, inplace=True)\n",
    "print(dda.head())\n",
    "n_samples = len(dda)\n",
    "print(dda.shape)\n",
    "dda = dda.values.reshape((n_samples, -1))\n",
    "print(dda.shape)\n",
    "Xtrain, Xtest, ytrain, ytest=train_test_split(dda,target,random_state=0,test_size=0.3,shuffle=True,stratify=target)\n",
    "clf = LinearSVC(random_state=0, tol=1e-5)\n",
    "clf.fit(Xtrain,ytrain)\n",
    "ypredict=clf.predict(Xtest)\n",
    "print(accuracy_score(ytest,ypredict))\n",
    "    \n",
    "    "
   ]
  },
  {
   "cell_type": "code",
   "execution_count": null,
   "metadata": {},
   "outputs": [],
   "source": [
    "from sklearn.metrics import confusion_matrix\n",
    "import  seaborn as sns\n",
    "plt.figure(figsize = (10,10))\n",
    "mat2=confusion_matrix(ytest,ypredict)\n",
    "sns.heatmap(mat2,square=False,annot=True,cbar=False)\n",
    "plt.xlabel('predicted value')\n",
    "plt.ylabel('true value')"
   ]
  }
 ],
 "metadata": {
  "kernelspec": {
   "display_name": "Python 3",
   "language": "python",
   "name": "python3"
  },
  "language_info": {
   "codemirror_mode": {
    "name": "ipython",
    "version": 3
   },
   "file_extension": ".py",
   "mimetype": "text/x-python",
   "name": "python",
   "nbconvert_exporter": "python",
   "pygments_lexer": "ipython3",
   "version": "3.5.3"
  }
 },
 "nbformat": 4,
 "nbformat_minor": 2
}
