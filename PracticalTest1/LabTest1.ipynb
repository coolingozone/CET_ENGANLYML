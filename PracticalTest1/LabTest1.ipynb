{
 "cells": [
  {
   "cell_type": "markdown",
   "metadata": {},
   "source": [
    "1. Write a function return a list of all positive numbers and also a list of the nummber of occurancce from a input list. Example:\n",
    "  Lst=[-1,23,-5,9,6,-23,9] would return [23,9,6] and [2,1,1]\n",
    "\n",
    "      \n",
    "  \n",
    "  "
   ]
  },
  {
   "cell_type": "code",
   "execution_count": 5,
   "metadata": {},
   "outputs": [
    {
     "name": "stdout",
     "output_type": "stream",
     "text": [
      "[23, 9, 6, 9]\n",
      "4\n",
      "[1, 3, 4, 3]\n"
     ]
    }
   ],
   "source": [
    "Lst=[-1,23,-5,9,6,-23,9] \n",
    "def count_pos(xlist):\n",
    "    idx=[]\n",
    "    pos_num=[]\n",
    "    for c in xlist:\n",
    "        if c>=0:\n",
    "            pos_num.append(c)\n",
    "    for c in pos_num:\n",
    "        idx.append(xlist.index(c))\n",
    "    return pos_num, idx\n",
    "\n",
    "ans, idx=count_pos(Lst)\n",
    "print(ans)      \n",
    "print(len(ans))\n",
    "print(idx)"
   ]
  },
  {
   "cell_type": "markdown",
   "metadata": {},
   "source": [
    "Write a function to accept a list and return two list. A list of unique positive numbers and also a list of the count of the unique positve number of the input list. Example: Lst=[-1,23,-5,9,6,-23,9] would return [23,9,6] and [1,2,1]"
   ]
  },
  {
   "cell_type": "code",
   "execution_count": 10,
   "metadata": {},
   "outputs": [
    {
     "name": "stdout",
     "output_type": "stream",
     "text": [
      "[33, 7, 8, 9]\n",
      "4\n",
      "[3, 2, 2, 1]\n"
     ]
    }
   ],
   "source": [
    "Lst=[-1,23,-5,9,6,-23,9] \n",
    "Lst2=[-2,33,-25,7,8,33,9,7,8,33,]\n",
    "def count_pos(xlist):\n",
    "    idx=[]\n",
    "    pos_num=[]\n",
    "    for c in xlist:\n",
    "        if c not in pos_num:\n",
    "            if c>=0:\n",
    "                pos_num.append(c)\n",
    "    for c in pos_num:\n",
    "        idx.append(xlist.count(c))\n",
    "    return pos_num, idx\n",
    "\n",
    "ans, idx=count_pos(Lst2)\n",
    "print(ans)      \n",
    "print(len(ans))\n",
    "print(idx)"
   ]
  },
  {
   "cell_type": "markdown",
   "metadata": {},
   "source": [
    "Write a function to accept a list and return two list. A list of unique negative numbers and also a list of the index of occurance fo the first unique negative number of the input list. Example: Lst=[-1,23,-5,9,6,-23,9] would return [-1,-5,-23] and [0,2,5]"
   ]
  },
  {
   "cell_type": "code",
   "execution_count": 61,
   "metadata": {},
   "outputs": [
    {
     "name": "stdout",
     "output_type": "stream",
     "text": [
      "[-2, -33, -25]\n",
      "3\n",
      "[0, 1, 2]\n"
     ]
    }
   ],
   "source": [
    "Lst=[-1,23,-5,9,6,-23,9] \n",
    "Lst2=[-2,-33,-25,7,8,-33,9,7,8,33,]\n",
    "def count_pos(xlist):\n",
    "    idx=[]\n",
    "    neg_num=[]\n",
    "    for c in xlist:\n",
    "        if c not in neg_num:\n",
    "            if c<0:\n",
    "                neg_num.append(c)\n",
    "    for c in neg_num:\n",
    "        idx.append(xlist.index(c))\n",
    "    return neg_num, idx\n",
    "\n",
    "ans, idx=count_pos(Lst2)\n",
    "print(ans)      \n",
    "print(len(ans))\n",
    "print(idx)"
   ]
  },
  {
   "cell_type": "raw",
   "metadata": {},
   "source": [
    "Write a function to accept a list and return two numbers. A sum of positive numbers and also a sum of negative number of the input list. Example: Lst=[-1,21,-5,-9,6,-2,9,8,-9] would return 44 and -26"
   ]
  },
  {
   "cell_type": "code",
   "execution_count": 5,
   "metadata": {},
   "outputs": [
    {
     "name": "stdout",
     "output_type": "stream",
     "text": [
      "44\n",
      "-26\n",
      "45\n",
      "-10\n"
     ]
    }
   ],
   "source": [
    "Lst=[-1,21,-5,-9,6,-2,9,8,-9]\n",
    "Lst2=[-2,3,-5,7,8,3,9,7,8,-3]\n",
    "def sum_diff(xlist):\n",
    "    pos=0\n",
    "    neg=0\n",
    "    for c in xlist:\n",
    "        if c>0:\n",
    "            pos=pos+c\n",
    "        else:\n",
    "            neg=neg+c\n",
    "    return pos, neg\n",
    "pp, nn=sum_diff(Lst)\n",
    "print(pp)\n",
    "print(nn)\n",
    "pp, nn=sum_diff(Lst2)\n",
    "print(pp)\n",
    "print(nn)"
   ]
  },
  {
   "cell_type": "code",
   "execution_count": 3,
   "metadata": {},
   "outputs": [
    {
     "name": "stdout",
     "output_type": "stream",
     "text": [
      "   No  year  month  day  hour  pm2.5  DEWP  TEMP    PRES cbwd    Iws  Is  Ir\n",
      "0   1  2010      1    1     0    NaN   -21 -11.0  1021.0   NW   1.79   0   0\n",
      "1   2  2010      1    1     1    NaN   -21 -12.0  1020.0   NW   4.92   0   0\n",
      "2   3  2010      1    1     2    NaN   -21 -11.0  1019.0   NW   6.71   0   0\n",
      "3   4  2010      1    1     3    NaN   -21 -14.0  1019.0   NW   9.84   0   0\n",
      "4   5  2010      1    1     4    NaN   -20 -12.0  1018.0   NW  12.97   0   0\n",
      "<class 'pandas.core.frame.DataFrame'>\n",
      "RangeIndex: 43824 entries, 0 to 43823\n",
      "Data columns (total 13 columns):\n",
      "No       43824 non-null int64\n",
      "year     43824 non-null int64\n",
      "month    43824 non-null int64\n",
      "day      43824 non-null int64\n",
      "hour     43824 non-null int64\n",
      "pm2.5    41757 non-null float64\n",
      "DEWP     43824 non-null int64\n",
      "TEMP     43824 non-null float64\n",
      "PRES     43824 non-null float64\n",
      "cbwd     43824 non-null object\n",
      "Iws      43824 non-null float64\n",
      "Is       43824 non-null int64\n",
      "Ir       43824 non-null int64\n",
      "dtypes: float64(4), int64(8), object(1)\n",
      "memory usage: 4.3+ MB\n",
      "None\n"
     ]
    }
   ],
   "source": [
    "import numpy as np\n",
    "import pandas as pd\n",
    "\n",
    "\n",
    "df=pd.read_csv('https://archive.ics.uci.edu/ml/machine-learning-databases/00381/PRSA_data_2010.1.1-2014.12.31.csv')\n",
    "print(df.head())\n",
    "print(df.info())\n"
   ]
  },
  {
   "cell_type": "code",
   "execution_count": 4,
   "metadata": {},
   "outputs": [
    {
     "name": "stdout",
     "output_type": "stream",
     "text": [
      "(41757, 13)\n"
     ]
    }
   ],
   "source": [
    "df['DateTime']=df['day'].astype(str)+'/'+df['month'].astype(str)+'/'+df['year'].astype(str)+' '+df['hour'].astype(str)+':00'\n",
    "df['DateTime']=pd.to_datetime(df['DateTime'],format='%d/%m/%Y %H:%M')\n",
    "df.set_index('DateTime', inplace=True)  # set the date time as index\n",
    "df.head()\n",
    "df=df.dropna(axis='rows')\n",
    "print(df.shape)"
   ]
  },
  {
   "cell_type": "code",
   "execution_count": 25,
   "metadata": {},
   "outputs": [
    {
     "data": {
      "image/png": "[encoded data removed]",
      "text/plain": [
       "<Figure size 432x288 with 1 Axes>"
      ]
     },
     "metadata": {},
     "output_type": "display_data"
    }
   ],
   "source": [
    "import matplotlib.pyplot as plt\n",
    "\n",
    "fig=plt.figure() \n",
    "ax=plt.axes()\n",
    "ax.plot(df['pm2.5'],c='r')\n",
    "ax.set_title('Beijing pm2.5 vs date time')\n",
    "ax.set_xlabel('Date Time')\n",
    "ax.set_ylabel('pm2.5 values')\n",
    "legend = ax.legend(loc='upper left', fontsize='x-large')\n",
    "plt.show()"
   ]
  },
  {
   "cell_type": "code",
   "execution_count": 15,
   "metadata": {},
   "outputs": [
    {
     "name": "stdout",
     "output_type": "stream",
     "text": [
      "         date  l_ipn  r_asn  f\n",
      "0  2006-07-01      0    701  1\n",
      "1  2006-07-01      0    714  1\n",
      "2  2006-07-01      0   1239  1\n",
      "3  2006-07-01      0   1680  1\n",
      "4  2006-07-01      0   2514  1\n",
      "              l_ipn         r_asn              f\n",
      "count  20803.000000  20803.000000   20803.000000\n",
      "mean       4.228236  12138.320338      93.914243\n",
      "std        3.278183   9766.324252    5764.995269\n",
      "min        0.000000      3.000000       1.000000\n",
      "25%        1.000000   4323.000000       1.000000\n",
      "50%        4.000000   8764.000000       2.000000\n",
      "75%        7.000000  17676.000000       8.000000\n",
      "max        9.000000  40092.000000  784234.000000\n"
     ]
    }
   ],
   "source": [
    "import numpy as np\n",
    "import pandas as pd\n",
    "\n",
    "\n",
    "df=pd.read_csv('cs448b_ipasn.csv')\n",
    "print(df.head())\n",
    "print(df.describe())\n"
   ]
  },
  {
   "cell_type": "code",
   "execution_count": 16,
   "metadata": {},
   "outputs": [
    {
     "name": "stdout",
     "output_type": "stream",
     "text": [
      "            l_ipn  r_asn  f\n",
      "date                       \n",
      "2006-07-01      0    701  1\n",
      "2006-07-01      0    714  1\n",
      "2006-07-01      0   1239  1\n",
      "2006-07-01      0   1680  1\n",
      "2006-07-01      0   2514  1\n",
      "              l_ipn         r_asn              f\n",
      "count  20803.000000  20803.000000   20803.000000\n",
      "mean       4.228236  12138.320338      93.914243\n",
      "std        3.278183   9766.324252    5764.995269\n",
      "min        0.000000      3.000000       1.000000\n",
      "25%        1.000000   4323.000000       1.000000\n",
      "50%        4.000000   8764.000000       2.000000\n",
      "75%        7.000000  17676.000000       8.000000\n",
      "max        9.000000  40092.000000  784234.000000\n"
     ]
    }
   ],
   "source": [
    "df['date']=pd.to_datetime(df['date'],format='%Y-%m-%d')\n",
    "df.set_index('date', inplace=True)  # set the date time as index\n",
    "print(df.head())\n",
    "print(df.describe())"
   ]
  },
  {
   "cell_type": "code",
   "execution_count": 24,
   "metadata": {},
   "outputs": [
    {
     "name": "stdout",
     "output_type": "stream",
     "text": [
      "37.22040540540541\n"
     ]
    }
   ],
   "source": [
    "df_filtered=df[(df.index>='2006-03-01') & (df.index<='2006-7-30')]\n",
    "print(np.mean(df_filtered['f']))"
   ]
  },
  {
   "cell_type": "code",
   "execution_count": 54,
   "metadata": {},
   "outputs": [
    {
     "name": "stdout",
     "output_type": "stream",
     "text": [
      "1\n",
      "2\n",
      "3\n",
      "4\n",
      "5\n",
      "6\n",
      "7\n",
      "8\n",
      "9\n",
      "[90.63964798517833, 81.00703642384106, 4.134907251264756, 898.6368501529053, 4.627702161729384, 5.114176245210728, 15.836094939543216, 53.90269058295964, 39.74314943368652]\n"
     ]
    },
    {
     "data": {
      "image/png": "[encoded data removed]",
      "text/plain": [
       "<Figure size 432x288 with 1 Axes>"
      ]
     },
     "metadata": {},
     "output_type": "display_data"
    }
   ],
   "source": [
    "import matplotlib.pyplot as plt\n",
    "fig=plt.figure() \n",
    "ax=plt.axes()\n",
    "\n",
    "bars = ('1', '2', '3', '4','5','6','7','8','9')\n",
    "x_pos = np.arange(len(bars))\n",
    "values=[]\n",
    "for x in range(1,10,1):\n",
    "    values.append(np.mean(df[(df.l_ipn==x)].f))\n",
    "    print(x)\n",
    "print(values)\n",
    "ax.bar(x_pos, values,label='Mean Flow value',color='r')    \n",
    "ax.set_xticks(x_pos)\n",
    "ax.set_xticklabels(bars)\n",
    "ax.set_title('Mean flow value for different local ip')\n",
    "ax.set_xlabel('local ip no')\n",
    "ax.set_ylabel('Mean flow value')\n",
    "ax.legend(loc='center right')\n",
    "\n",
    "plt.show()"
   ]
  },
  {
   "cell_type": "code",
   "execution_count": null,
   "metadata": {},
   "outputs": [],
   "source": [
    "f, (ax1, ax2,ax3,ax4) = plt.subplots(4, 1, sharex=True)   #3 rows 1 column\n",
    "ax1.plot(gdata.index,gdata['Open'])\n",
    "ax2.plot(gdata.index,gdata['Close'])\n",
    "ax1.set_title('Sharing X axis')\n",
    "ax3.plot(gdata.index,gdata['High'],'-o')"
   ]
  },
  {
   "cell_type": "code",
   "execution_count": 51,
   "metadata": {},
   "outputs": [
    {
     "name": "stdout",
     "output_type": "stream",
     "text": [
      "     user gender  age  how_tall_in_meters  weight  body_mass_index  x1   y1  \\\n",
      "0  debora  Woman   46                1.62      75             28.6   0   97   \n",
      "1  debora  Woman   46                1.62      75             28.6   1  100   \n",
      "2  debora  Woman   46                1.62      75             28.6  -2  102   \n",
      "3  debora  Woman   46                1.62      75             28.6   0  102   \n",
      "4  debora  Woman   46                1.62      75             28.6  -3   97   \n",
      "\n",
      "   z1  x2  y2  z2  x3   y3  z3   x4     y4   z4    class  \n",
      "0 -61 -14  19 -16 -13  105 -89 -148 -102.0 -146  sitting  \n",
      "1 -63 -10  22 -13 -14  104 -91 -177  -99.0 -133  sitting  \n",
      "2 -73 -13  19 -17 -13  104 -90 -158  -99.0 -150  sitting  \n",
      "3 -67 -10  21 -13 -13  104 -91 -156 -101.0 -147  sitting  \n",
      "4 -66 -15  18 -17 -13  104 -90 -157  -99.0 -148  sitting  \n",
      "<class 'pandas.core.frame.DataFrame'>\n",
      "RangeIndex: 9998 entries, 0 to 9997\n",
      "Data columns (total 19 columns):\n",
      "user                  9998 non-null object\n",
      "gender                9998 non-null object\n",
      "age                   9998 non-null int64\n",
      "how_tall_in_meters    9998 non-null float64\n",
      "weight                9998 non-null int64\n",
      "body_mass_index       9998 non-null float64\n",
      "x1                    9998 non-null int64\n",
      "y1                    9998 non-null int64\n",
      "z1                    9998 non-null int64\n",
      "x2                    9998 non-null int64\n",
      "y2                    9998 non-null int64\n",
      "z2                    9998 non-null int64\n",
      "x3                    9998 non-null int64\n",
      "y3                    9998 non-null int64\n",
      "z3                    9998 non-null int64\n",
      "x4                    9998 non-null int64\n",
      "y4                    9997 non-null float64\n",
      "z4                    9998 non-null int64\n",
      "class                 9998 non-null object\n",
      "dtypes: float64(3), int64(13), object(3)\n",
      "memory usage: 1.4+ MB\n",
      "None\n"
     ]
    }
   ],
   "source": [
    "import numpy as np\n",
    "import pandas as pd\n",
    "\n",
    "\n",
    "df=pd.read_csv('har_activity1.csv')\n",
    "df.dropna(axis='rows')\n",
    "print(df.head())\n",
    "print(df.info())\n"
   ]
  },
  {
   "cell_type": "code",
   "execution_count": 52,
   "metadata": {},
   "outputs": [
    {
     "name": "stdout",
     "output_type": "stream",
     "text": [
      "37.1680467608378\n",
      "39.710601719197705\n"
     ]
    }
   ],
   "source": [
    "print(np.mean(df[(df.gender=='Woman')].age))\n",
    "print(np.mean(df[(df.gender=='Man')].age))"
   ]
  },
  {
   "cell_type": "code",
   "execution_count": 20,
   "metadata": {},
   "outputs": [
    {
     "name": "stdout",
     "output_type": "stream",
     "text": [
      "['jose_carlos' 'wallace']\n"
     ]
    }
   ],
   "source": [
    "print(np.unique(df[(df.how_tall_in_meters>=1.65) & (df.how_tall_in_meters <=1.80) ].user))"
   ]
  },
  {
   "cell_type": "code",
   "execution_count": 53,
   "metadata": {},
   "outputs": [
    {
     "name": "stdout",
     "output_type": "stream",
     "text": [
      "['sitting' 'sittingdown' 'standing' 'standingup' 'walking']\n"
     ]
    }
   ],
   "source": [
    "print(np.unique(df['class']))\n",
    "clabel=np.unique(df['class'])"
   ]
  },
  {
   "cell_type": "code",
   "execution_count": 48,
   "metadata": {},
   "outputs": [
    {
     "name": "stdout",
     "output_type": "stream",
     "text": [
      "<class 'pandas.core.frame.DataFrame'>\n",
      "Int64Index: 3057 entries, 0 to 3056\n",
      "Data columns (total 19 columns):\n",
      "user                  3057 non-null object\n",
      "gender                3057 non-null object\n",
      "age                   3057 non-null int64\n",
      "how_tall_in_meters    3057 non-null float64\n",
      "weight                3057 non-null int64\n",
      "body_mass_index       3057 non-null float64\n",
      "x1                    3057 non-null object\n",
      "y1                    3057 non-null int64\n",
      "z1                    3057 non-null int64\n",
      "x2                    3057 non-null int64\n",
      "y2                    3057 non-null int64\n",
      "z2                    3057 non-null int64\n",
      "x3                    3057 non-null int64\n",
      "y3                    3057 non-null int64\n",
      "z3                    3057 non-null int64\n",
      "x4                    3057 non-null int64\n",
      "y4                    3056 non-null float64\n",
      "z4                    3057 non-null int64\n",
      "class                 3057 non-null object\n",
      "dtypes: float64(3), int64(12), object(4)\n",
      "memory usage: 477.7+ KB\n",
      "None\n"
     ]
    }
   ],
   "source": [
    "x=df[(df['class']=='sitting')]\n",
    "print(x.info())"
   ]
  },
  {
   "cell_type": "code",
   "execution_count": 59,
   "metadata": {},
   "outputs": [
    {
     "data": {
      "image/png": "[encoded data removed]",
      "text/plain": [
       "<Figure size 432x288 with 1 Axes>"
      ]
     },
     "metadata": {},
     "output_type": "display_data"
    }
   ],
   "source": [
    "import matplotlib.pyplot as plt\n",
    "import numpy as np\n",
    "fig=plt.figure() \n",
    "ax=plt.axes()\n",
    "x=df[(df['class']=='sitting')].x1\n",
    "y=df[(df['class']=='sitting')].y1\n",
    "x=(x-np.min(x))/(np.max(x)-np.min(x))\n",
    "y=(y-np.min(y))/(np.max(y)-np.min(y))\n",
    "ax.plot(x,y,'or',label='sitting')\n",
    "x=df[(df['class']=='standing')].x1\n",
    "y=df[(df['class']=='standing')].y1\n",
    "x=(x-np.min(x))/(np.max(x)-np.min(x))\n",
    "y=(y-np.min(y))/(np.max(y)-np.min(y))\n",
    "ax.plot(x,y,'dg',label='standing')\n",
    "ax.legend(loc='lower right')\n",
    "ax.axis('tight')\n",
    "ax.set_title(' y1 vs x1 for Sitting and Standing')\n",
    "ax.set_xlabel('x1')\n",
    "ax.set_ylabel('y1')\n",
    "plt.show()"
   ]
  },
  {
   "cell_type": "code",
   "execution_count": null,
   "metadata": {},
   "outputs": [],
   "source": []
  },
  {
   "cell_type": "code",
   "execution_count": null,
   "metadata": {},
   "outputs": [],
   "source": []
  },
  {
   "cell_type": "code",
   "execution_count": null,
   "metadata": {},
   "outputs": [],
   "source": []
  }
 ],
 "metadata": {
  "kernelspec": {
   "display_name": "Python 3",
   "language": "python",
   "name": "python3"
  },
  "language_info": {
   "codemirror_mode": {
    "name": "ipython",
    "version": 3
   },
   "file_extension": ".py",
   "mimetype": "text/x-python",
   "name": "python",
   "nbconvert_exporter": "python",
   "pygments_lexer": "ipython3",
   "version": "3.5.3"
  }
 },
 "nbformat": 4,
 "nbformat_minor": 2
}
