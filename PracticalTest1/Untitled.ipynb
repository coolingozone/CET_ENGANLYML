{
 "cells": [
  {
   "cell_type": "markdown",
   "metadata": {},
   "source": [
    "Write a function to accept a list and return two numbers. A sum of positive numbers and also a sum of negative number of the input list. Example: Lst=[-1,21,-5,-9,6,-2,9,8,-9] would return 44 and -26"
   ]
  },
  {
   "cell_type": "code",
   "execution_count": 5,
   "metadata": {},
   "outputs": [
    {
     "name": "stdout",
     "output_type": "stream",
     "text": [
      "44\n",
      "-26\n",
      "45\n",
      "-10\n"
     ]
    }
   ],
   "source": [
    "Lst=[-1,21,-5,-9,6,-2,9,8,-9]\n",
    "Lst2=[-2,3,-5,7,8,3,9,7,8,-3]\n",
    "def sum_diff(xlist):\n",
    "    pos=0\n",
    "    neg=0\n",
    "    for c in xlist:\n",
    "        if c>0:\n",
    "            pos=pos+c\n",
    "        else:\n",
    "            neg=neg+c\n",
    "    return pos, neg\n",
    "pp, nn=sum_diff(Lst)\n",
    "print(pp)\n",
    "print(nn)\n",
    "pp, nn=sum_diff(Lst2)\n",
    "print(pp)\n",
    "print(nn)"
   ]
  },
  {
   "cell_type": "code",
   "execution_count": 6,
   "metadata": {},
   "outputs": [
    {
     "name": "stdout",
     "output_type": "stream",
     "text": [
      "   No  year  month  day  hour  pm2.5  DEWP  TEMP    PRES cbwd    Iws  Is  Ir\n",
      "0   1  2010      1    1     0    NaN   -21 -11.0  1021.0   NW   1.79   0   0\n",
      "1   2  2010      1    1     1    NaN   -21 -12.0  1020.0   NW   4.92   0   0\n",
      "2   3  2010      1    1     2    NaN   -21 -11.0  1019.0   NW   6.71   0   0\n",
      "3   4  2010      1    1     3    NaN   -21 -14.0  1019.0   NW   9.84   0   0\n",
      "4   5  2010      1    1     4    NaN   -20 -12.0  1018.0   NW  12.97   0   0\n",
      "<class 'pandas.core.frame.DataFrame'>\n",
      "RangeIndex: 43824 entries, 0 to 43823\n",
      "Data columns (total 13 columns):\n",
      "No       43824 non-null int64\n",
      "year     43824 non-null int64\n",
      "month    43824 non-null int64\n",
      "day      43824 non-null int64\n",
      "hour     43824 non-null int64\n",
      "pm2.5    41757 non-null float64\n",
      "DEWP     43824 non-null int64\n",
      "TEMP     43824 non-null float64\n",
      "PRES     43824 non-null float64\n",
      "cbwd     43824 non-null object\n",
      "Iws      43824 non-null float64\n",
      "Is       43824 non-null int64\n",
      "Ir       43824 non-null int64\n",
      "dtypes: float64(4), int64(8), object(1)\n",
      "memory usage: 4.3+ MB\n",
      "None\n"
     ]
    }
   ],
   "source": [
    "import numpy as np\n",
    "import pandas as pd\n",
    "\n",
    "\n",
    "df=pd.read_csv('https://archive.ics.uci.edu/ml/machine-learning-databases/00381/PRSA_data_2010.1.1-2014.12.31.csv')\n",
    "print(df.head())\n",
    "print(df.info())"
   ]
  },
  {
   "cell_type": "code",
   "execution_count": 2,
   "metadata": {},
   "outputs": [
    {
     "name": "stdout",
     "output_type": "stream",
     "text": [
      "(41757, 13)\n"
     ]
    }
   ],
   "source": [
    "df['DateTime']=df['day'].astype(str)+'/'+df['month'].astype(str)+'/'+df['year'].astype(str)+' '+df['hour'].astype(str)+':00'\n",
    "df['DateTime']=pd.to_datetime(df['DateTime'],format='%d/%m/%Y %H:%M')\n",
    "df.set_index('DateTime', inplace=True)  # set the date time as index\n",
    "df.head()\n",
    "df=df.dropna(axis='rows')\n",
    "print(df.shape)"
   ]
  },
  {
   "cell_type": "code",
   "execution_count": 4,
   "metadata": {},
   "outputs": [
    {
     "data": {
      "image/png": "[encoded data removed]",
      "text/plain": [
       "<Figure size 432x288 with 1 Axes>"
      ]
     },
     "metadata": {},
     "output_type": "display_data"
    }
   ],
   "source": [
    "import matplotlib.pyplot as plt\n",
    "\n",
    "fig=plt.figure() \n",
    "ax=plt.axes()\n",
    "ax.plot(df['pm2.5'],c='r')\n",
    "ax.set_title('Beijing pm2.5 vs date time')\n",
    "ax.set_xlabel('Date Time')\n",
    "ax.set_ylabel('pm2.5 values')\n",
    "legend = ax.legend(loc='upper left', fontsize='x-large')\n",
    "plt.show()"
   ]
  },
  {
   "cell_type": "code",
   "execution_count": null,
   "metadata": {},
   "outputs": [],
   "source": []
  }
 ],
 "metadata": {
  "kernelspec": {
   "display_name": "Python 3",
   "language": "python",
   "name": "python3"
  },
  "language_info": {
   "codemirror_mode": {
    "name": "ipython",
    "version": 3
   },
   "file_extension": ".py",
   "mimetype": "text/x-python",
   "name": "python",
   "nbconvert_exporter": "python",
   "pygments_lexer": "ipython3",
   "version": "3.5.3"
  }
 },
 "nbformat": 4,
 "nbformat_minor": 2
}
