{
 "cells": [
  {
   "cell_type": "code",
   "execution_count": 10,
   "metadata": {},
   "outputs": [
    {
     "name": "stdout",
     "output_type": "stream",
     "text": [
      "   index            date  Temperature  Humidity       Light         CO2  \\\n",
      "0    140  2/2/2015 14:19      23.7000    26.272  585.200000  749.200000   \n",
      "1    141  2/2/2015 14:19      23.7180    26.290  578.400000  760.400000   \n",
      "2    142  2/2/2015 14:21      23.7300    26.230  572.666667  769.666667   \n",
      "3    143  2/2/2015 14:22      23.7225    26.125  493.750000  774.750000   \n",
      "4    144  2/2/2015 14:23      23.7540    26.200  488.600000  779.000000   \n",
      "\n",
      "  HumidityRatio  Occupancy  \n",
      "0   0.004764163          1  \n",
      "1   0.004772661          1  \n",
      "2   0.004765153          1  \n",
      "3   0.004743773          1  \n",
      "4   0.004766594          1  \n",
      "<class 'pandas.core.frame.DataFrame'>\n",
      "RangeIndex: 7235 entries, 0 to 7234\n",
      "Data columns (total 8 columns):\n",
      "index            7235 non-null int64\n",
      "date             7235 non-null object\n",
      "Temperature      7235 non-null float64\n",
      "Humidity         7235 non-null float64\n",
      "Light            7235 non-null float64\n",
      "CO2              7235 non-null float64\n",
      "HumidityRatio    7235 non-null object\n",
      "Occupancy        7235 non-null int64\n",
      "dtypes: float64(4), int64(2), object(2)\n",
      "memory usage: 452.3+ KB\n",
      "None\n"
     ]
    }
   ],
   "source": [
    "import numpy as np\n",
    "import pandas as pd\n",
    "\n",
    "data=pd.read_csv('occupancy1.csv')\n",
    "print(data.head())\n",
    "print(data.info())\n",
    "\n"
   ]
  },
  {
   "cell_type": "code",
   "execution_count": 11,
   "metadata": {},
   "outputs": [
    {
     "name": "stdout",
     "output_type": "stream",
     "text": [
      "                     Temperature  Humidity       Light         CO2  \\\n",
      "date                                                                 \n",
      "2015-02-02 14:19:00      23.7000    26.272  585.200000  749.200000   \n",
      "2015-02-02 14:19:00      23.7180    26.290  578.400000  760.400000   \n",
      "2015-02-02 14:21:00      23.7300    26.230  572.666667  769.666667   \n",
      "2015-02-02 14:22:00      23.7225    26.125  493.750000  774.750000   \n",
      "2015-02-02 14:23:00      23.7540    26.200  488.600000  779.000000   \n",
      "\n",
      "                    HumidityRatio  Occupancy  \n",
      "date                                          \n",
      "2015-02-02 14:19:00   0.004764163          1  \n",
      "2015-02-02 14:19:00   0.004772661          1  \n",
      "2015-02-02 14:21:00   0.004765153          1  \n",
      "2015-02-02 14:22:00   0.004743773          1  \n",
      "2015-02-02 14:23:00   0.004766594          1  \n"
     ]
    }
   ],
   "source": [
    "data['date']=pd.to_datetime(data['date'],format='%m/%d/%Y %H:%M')\n",
    "data.set_index('date', inplace=True)  # set the date time as index\n",
    "data=data.drop(columns=['index'])\n",
    "print(data.head())\n"
   ]
  },
  {
   "cell_type": "code",
   "execution_count": 24,
   "metadata": {},
   "outputs": [
    {
     "name": "stdout",
     "output_type": "stream",
     "text": [
      "0.9854872149274361\n"
     ]
    }
   ],
   "source": [
    "import numpy as np\n",
    "import pandas as pd\n",
    "from sklearn import datasets\n",
    "import matplotlib.pyplot as plt\n",
    "from sklearn.model_selection import train_test_split\n",
    "from sklearn.linear_model import SGDClassifier\n",
    "from sklearn.metrics import accuracy_score\n",
    "classifier=SGDClassifier(max_iter=1000)\n",
    "#prepare data which is step 3\n",
    "Y = data['Occupancy']  #price is the target, Y\n",
    "X = np.array([data['Temperature'],data['Light']])  # X\n",
    "X=X.T\n",
    "xtrain,xtest,ytrain,ytest=train_test_split(X,Y,random_state=0,test_size=0.2)\n",
    "classifier.fit(xtrain,ytrain)\n",
    "ypredict=classifier.predict(xtest)\n",
    "print(accuracy_score(ytest,ypredict))  #percentage of classification on the test data is correct"
   ]
  },
  {
   "cell_type": "code",
   "execution_count": 25,
   "metadata": {},
   "outputs": [
    {
     "data": {
      "text/plain": [
       "Text(91.68,0.5,'true value')"
      ]
     },
     "execution_count": 25,
     "metadata": {},
     "output_type": "execute_result"
    },
    {
     "data": {
      "image/png": "[encoded data removed]",
      "text/plain": [
       "<Figure size 432x288 with 1 Axes>"
      ]
     },
     "metadata": {},
     "output_type": "display_data"
    }
   ],
   "source": [
    "from sklearn.metrics import confusion_matrix\n",
    "import  seaborn as sns\n",
    "mat=confusion_matrix(ytest,ypredict)\n",
    "sns.heatmap(mat,square=True,annot=True,cbar=False,fmt='d')\n",
    "plt.xlabel('predicted value')\n",
    "plt.ylabel('true value')"
   ]
  },
  {
   "cell_type": "code",
   "execution_count": null,
   "metadata": {},
   "outputs": [],
   "source": []
  }
 ],
 "metadata": {
  "kernelspec": {
   "display_name": "Python 3",
   "language": "python",
   "name": "python3"
  },
  "language_info": {
   "codemirror_mode": {
    "name": "ipython",
    "version": 3
   },
   "file_extension": ".py",
   "mimetype": "text/x-python",
   "name": "python",
   "nbconvert_exporter": "python",
   "pygments_lexer": "ipython3",
   "version": "3.5.3"
  }
 },
 "nbformat": 4,
 "nbformat_minor": 2
}
