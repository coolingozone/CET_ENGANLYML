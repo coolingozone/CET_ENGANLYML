{
 "cells": [
  {
   "cell_type": "code",
   "execution_count": 1,
   "metadata": {},
   "outputs": [
    {
     "name": "stdout",
     "output_type": "stream",
     "text": [
      "     user gender  age  how_tall_in_meters  weight  body_mass_index  x1   y1  \\\n",
      "0  debora  Woman   46                1.62      75             28.6   0   97   \n",
      "1  debora  Woman   46                1.62      75             28.6   1  100   \n",
      "2  debora  Woman   46                1.62      75             28.6  -2  102   \n",
      "3  debora  Woman   46                1.62      75             28.6   0  102   \n",
      "4  debora  Woman   46                1.62      75             28.6  -3   97   \n",
      "\n",
      "   z1  x2  y2  z2  x3   y3  z3   x4     y4   z4    class  \n",
      "0 -61 -14  19 -16 -13  105 -89 -148 -102.0 -146  sitting  \n",
      "1 -63 -10  22 -13 -14  104 -91 -177  -99.0 -133  sitting  \n",
      "2 -73 -13  19 -17 -13  104 -90 -158  -99.0 -150  sitting  \n",
      "3 -67 -10  21 -13 -13  104 -91 -156 -101.0 -147  sitting  \n",
      "4 -66 -15  18 -17 -13  104 -90 -157  -99.0 -148  sitting  \n",
      "<class 'pandas.core.frame.DataFrame'>\n",
      "RangeIndex: 9998 entries, 0 to 9997\n",
      "Data columns (total 19 columns):\n",
      "user                  9998 non-null object\n",
      "gender                9998 non-null object\n",
      "age                   9998 non-null int64\n",
      "how_tall_in_meters    9998 non-null float64\n",
      "weight                9998 non-null int64\n",
      "body_mass_index       9998 non-null float64\n",
      "x1                    9998 non-null int64\n",
      "y1                    9998 non-null int64\n",
      "z1                    9998 non-null int64\n",
      "x2                    9998 non-null int64\n",
      "y2                    9998 non-null int64\n",
      "z2                    9998 non-null int64\n",
      "x3                    9998 non-null int64\n",
      "y3                    9998 non-null int64\n",
      "z3                    9998 non-null int64\n",
      "x4                    9998 non-null int64\n",
      "y4                    9997 non-null float64\n",
      "z4                    9998 non-null int64\n",
      "class                 9998 non-null object\n",
      "dtypes: float64(3), int64(13), object(3)\n",
      "memory usage: 1.4+ MB\n",
      "None\n"
     ]
    }
   ],
   "source": [
    "import numpy as np\n",
    "import pandas as pd\n",
    "\n",
    "data=pd.read_csv('har_activity1.csv')\n",
    "print(data.head())\n",
    "print(data.info())"
   ]
  },
  {
   "cell_type": "code",
   "execution_count": null,
   "metadata": {},
   "outputs": [],
   "source": []
  }
 ],
 "metadata": {
  "kernelspec": {
   "display_name": "Python 3",
   "language": "python",
   "name": "python3"
  },
  "language_info": {
   "codemirror_mode": {
    "name": "ipython",
    "version": 3
   },
   "file_extension": ".py",
   "mimetype": "text/x-python",
   "name": "python",
   "nbconvert_exporter": "python",
   "pygments_lexer": "ipython3",
   "version": "3.5.3"
  }
 },
 "nbformat": 4,
 "nbformat_minor": 2
}
