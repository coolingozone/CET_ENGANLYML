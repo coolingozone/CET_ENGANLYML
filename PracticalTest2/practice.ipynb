{
 "cells": [
  {
   "cell_type": "code",
   "execution_count": 29,
   "metadata": {},
   "outputs": [
    {
     "name": "stdout",
     "output_type": "stream",
     "text": [
      "     user gender  age  how_tall_in_meters  weight  body_mass_index  x1   y1  \\\n",
      "0  debora  Woman   46                1.62      75             28.6   0   97   \n",
      "1  debora  Woman   46                1.62      75             28.6   1  100   \n",
      "2  debora  Woman   46                1.62      75             28.6  -2  102   \n",
      "3  debora  Woman   46                1.62      75             28.6   0  102   \n",
      "4  debora  Woman   46                1.62      75             28.6  -3   97   \n",
      "\n",
      "   z1  x2  y2  z2  x3   y3  z3   x4     y4   z4    class  \n",
      "0 -61 -14  19 -16 -13  105 -89 -148 -102.0 -146  sitting  \n",
      "1 -63 -10  22 -13 -14  104 -91 -177  -99.0 -133  sitting  \n",
      "2 -73 -13  19 -17 -13  104 -90 -158  -99.0 -150  sitting  \n",
      "3 -67 -10  21 -13 -13  104 -91 -156 -101.0 -147  sitting  \n",
      "4 -66 -15  18 -17 -13  104 -90 -157  -99.0 -148  sitting  \n",
      "<class 'pandas.core.frame.DataFrame'>\n",
      "RangeIndex: 9998 entries, 0 to 9997\n",
      "Data columns (total 19 columns):\n",
      "user                  9998 non-null object\n",
      "gender                9998 non-null object\n",
      "age                   9998 non-null int64\n",
      "how_tall_in_meters    9998 non-null float64\n",
      "weight                9998 non-null int64\n",
      "body_mass_index       9998 non-null float64\n",
      "x1                    9998 non-null int64\n",
      "y1                    9998 non-null int64\n",
      "z1                    9998 non-null int64\n",
      "x2                    9998 non-null int64\n",
      "y2                    9998 non-null int64\n",
      "z2                    9998 non-null int64\n",
      "x3                    9998 non-null int64\n",
      "y3                    9998 non-null int64\n",
      "z3                    9998 non-null int64\n",
      "x4                    9998 non-null int64\n",
      "y4                    9997 non-null float64\n",
      "z4                    9998 non-null int64\n",
      "class                 9998 non-null object\n",
      "dtypes: float64(3), int64(13), object(3)\n",
      "memory usage: 1.4+ MB\n",
      "None\n"
     ]
    }
   ],
   "source": [
    "import numpy as np\n",
    "import pandas as pd\n",
    "\n",
    "data=pd.read_csv('har_activity1.csv')\n",
    "print(data.head())\n",
    "print(data.info())"
   ]
  },
  {
   "cell_type": "code",
   "execution_count": 30,
   "metadata": {},
   "outputs": [
    {
     "name": "stdout",
     "output_type": "stream",
     "text": [
      "     user gender  age  how_tall_in_meters  weight  body_mass_index  x1   y1  \\\n",
      "0  debora  Woman   46                1.62      75             28.6   0   97   \n",
      "1  debora  Woman   46                1.62      75             28.6   1  100   \n",
      "2  debora  Woman   46                1.62      75             28.6  -2  102   \n",
      "3  debora  Woman   46                1.62      75             28.6   0  102   \n",
      "4  debora  Woman   46                1.62      75             28.6  -3   97   \n",
      "\n",
      "   z1  x2  y2  z2  x3   y3  z3   x4     y4   z4  class  \n",
      "0 -61 -14  19 -16 -13  105 -89 -148 -102.0 -146      0  \n",
      "1 -63 -10  22 -13 -14  104 -91 -177  -99.0 -133      0  \n",
      "2 -73 -13  19 -17 -13  104 -90 -158  -99.0 -150      0  \n",
      "3 -67 -10  21 -13 -13  104 -91 -156 -101.0 -147      0  \n",
      "4 -66 -15  18 -17 -13  104 -90 -157  -99.0 -148      0  \n"
     ]
    }
   ],
   "source": [
    "from sklearn import preprocessing \n",
    "# encode class values as integers\n",
    "le = preprocessing.LabelEncoder() #create an encoder instance\n",
    "le.fit(data['class'].unique())             #fit the encoder with two string \"no\" and \"yes\"\n",
    "data['class']=le.transform(data['class'])    #to transform df['driveway'] value of yes and no to 1 and 0\n",
    "data=data.dropna(axis='rows')\n",
    "print(data.head())"
   ]
  },
  {
   "cell_type": "code",
   "execution_count": 31,
   "metadata": {},
   "outputs": [
    {
     "name": "stdout",
     "output_type": "stream",
     "text": [
      "     user  gender  age  how_tall_in_meters  weight  body_mass_index  x1   y1  \\\n",
      "0  debora       1   46                1.62      75             28.6   0   97   \n",
      "1  debora       1   46                1.62      75             28.6   1  100   \n",
      "2  debora       1   46                1.62      75             28.6  -2  102   \n",
      "3  debora       1   46                1.62      75             28.6   0  102   \n",
      "4  debora       1   46                1.62      75             28.6  -3   97   \n",
      "\n",
      "   z1  x2  y2  z2  x3   y3  z3   x4     y4   z4  class  \n",
      "0 -61 -14  19 -16 -13  105 -89 -148 -102.0 -146      0  \n",
      "1 -63 -10  22 -13 -14  104 -91 -177  -99.0 -133      0  \n",
      "2 -73 -13  19 -17 -13  104 -90 -158  -99.0 -150      0  \n",
      "3 -67 -10  21 -13 -13  104 -91 -156 -101.0 -147      0  \n",
      "4 -66 -15  18 -17 -13  104 -90 -157  -99.0 -148      0  \n"
     ]
    }
   ],
   "source": [
    "le2 = preprocessing.LabelEncoder() #create an encoder instance\n",
    "le2.fit(data['gender'].unique())             #fit the encoder with two string \"no\" and \"yes\"\n",
    "data['gender']=le2.transform(data['gender'])    #to transform df['driveway'] value of yes and no to 1 and 0\n",
    "print(data.head())"
   ]
  },
  {
   "cell_type": "code",
   "execution_count": 46,
   "metadata": {},
   "outputs": [
    {
     "name": "stdout",
     "output_type": "stream",
     "text": [
      "0.789\n"
     ]
    }
   ],
   "source": [
    "import matplotlib.pyplot as plt\n",
    "from sklearn.model_selection import train_test_split\n",
    "from sklearn.linear_model import SGDClassifier\n",
    "from sklearn.svm import LinearSVC\n",
    "from sklearn.metrics import accuracy_score\n",
    "#classifier=SGDClassifier(max_iter=1000)\n",
    "clf = LinearSVC(random_state=42, tol=1e-3)\n",
    "#prepare data which is step 3\n",
    "Y = data['class']  #price is the target, Y\n",
    "X = np.array([data['body_mass_index'],data['x1'],data['y1'],data['z1'],data['x2'],data['y2'],data['z2'],data['x3'],data['y3'],data['z3'],data['x4'],data['y4'],data['z4']])  # X\n",
    "X=X.T\n",
    "xtrain,xtest,ytrain,ytest=train_test_split(X,Y,random_state=43,test_size=0.2)\n",
    "classifier.fit(xtrain,ytrain)\n",
    "y_pred=classifier.predict(xtest)\n",
    "print(accuracy_score(ytest,y_pred))  #percentage of classification on the test data is correct"
   ]
  },
  {
   "cell_type": "code",
   "execution_count": 47,
   "metadata": {},
   "outputs": [
    {
     "data": {
      "text/plain": [
       "Text(91.68,0.5,'true value')"
      ]
     },
     "execution_count": 47,
     "metadata": {},
     "output_type": "execute_result"
    },
    {
     "data": {
      "image/png": "[encoded data removed]",
      "text/plain": [
       "<Figure size 432x288 with 1 Axes>"
      ]
     },
     "metadata": {},
     "output_type": "display_data"
    }
   ],
   "source": [
    "from sklearn.metrics import confusion_matrix\n",
    "import  seaborn as sns\n",
    "\n",
    "mat2=confusion_matrix(ytest,y_pred)\n",
    "sns.heatmap(mat2,square=True,annot=True,cbar=False,fmt='d')\n",
    "plt.xlabel('predicted value')\n",
    "plt.ylabel('true value')"
   ]
  },
  {
   "cell_type": "code",
   "execution_count": null,
   "metadata": {},
   "outputs": [],
   "source": []
  }
 ],
 "metadata": {
  "kernelspec": {
   "display_name": "Python 3",
   "language": "python",
   "name": "python3"
  },
  "language_info": {
   "codemirror_mode": {
    "name": "ipython",
    "version": 3
   },
   "file_extension": ".py",
   "mimetype": "text/x-python",
   "name": "python",
   "nbconvert_exporter": "python",
   "pygments_lexer": "ipython3",
   "version": "3.5.3"
  }
 },
 "nbformat": 4,
 "nbformat_minor": 2
}
