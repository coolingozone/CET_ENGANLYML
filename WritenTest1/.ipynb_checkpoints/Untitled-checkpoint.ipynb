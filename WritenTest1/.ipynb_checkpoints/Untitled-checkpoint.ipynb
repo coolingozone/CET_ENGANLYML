{
 "cells": [
  {
   "cell_type": "markdown",
   "metadata": {},
   "source": [
    "## A1\n",
    "\n"
   ]
  },
  {
   "cell_type": "code",
   "execution_count": 2,
   "metadata": {},
   "outputs": [
    {
     "name": "stdout",
     "output_type": "stream",
     "text": [
      "15\n"
     ]
    }
   ],
   "source": [
    "seq=[1,5,3,2,4]\n",
    "result=0\n",
    "for c in seq:\n",
    "    result=result+c\n",
    "print(result)"
   ]
  },
  {
   "cell_type": "code",
   "execution_count": null,
   "metadata": {},
   "outputs": [],
   "source": [
    "##A A7"
   ]
  },
  {
   "cell_type": "code",
   "execution_count": 8,
   "metadata": {},
   "outputs": [
    {
     "name": "stdout",
     "output_type": "stream",
     "text": [
      "Gender: Male  Height 1.3\n",
      "Gender: Male  Height 1.3\n",
      "Gender: Male  Height 1.3\n",
      "Gender: 1.3  Height Male\n"
     ]
    }
   ],
   "source": [
    "def printdata(gender, height):\n",
    "    print(\"Gender:\",gender,\" Height\",height)\n",
    "    return\n",
    "printdata(height=1.3,gender='Male')\n",
    "printdata('Male',1.3)\n",
    "printdata(gender='Male',height=1.3)\n",
    "printdata(1.3,\"Male\")"
   ]
  },
  {
   "cell_type": "code",
   "execution_count": 10,
   "metadata": {},
   "outputs": [
    {
     "name": "stdout",
     "output_type": "stream",
     "text": [
      "6\n"
     ]
    }
   ],
   "source": [
    "d1={'amber':1,'Jenny':4,'Amy':5}\n",
    "result=d1['amber']+d1['Amy']\n",
    "print(result)"
   ]
  },
  {
   "cell_type": "code",
   "execution_count": null,
   "metadata": {},
   "outputs": [],
   "source": []
  }
 ],
 "metadata": {
  "kernelspec": {
   "display_name": "Python 3",
   "language": "python",
   "name": "python3"
  },
  "language_info": {
   "codemirror_mode": {
    "name": "ipython",
    "version": 3
   },
   "file_extension": ".py",
   "mimetype": "text/x-python",
   "name": "python",
   "nbconvert_exporter": "python",
   "pygments_lexer": "ipython3",
   "version": "3.5.3"
  }
 },
 "nbformat": 4,
 "nbformat_minor": 2
}
